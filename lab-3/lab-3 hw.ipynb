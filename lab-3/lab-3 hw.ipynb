{
 "metadata": {
  "name": ""
 },
 "nbformat": 3,
 "nbformat_minor": 0,
 "worksheets": [
  {
   "cells": [
    {
     "cell_type": "markdown",
     "metadata": {},
     "source": [
      "<div align='center' ><img src='https://raw.github.com/davidrpugh/computational-econ-labs/master/graduate/images/sgpe-logo.jpg' width=\"1200\" height=\"100\"></div>\n",
      "<div align='center' ><img src='https://raw.github.com/davidrpugh/computational-econ-labs/master/graduate/images/sirelogo.jpg' width=\"1200\" height=\"100\"></div>\n",
      "\n",
      "# *Numerical Methods for Economists: Precautionary Savings*\n",
      "\n",
      "In this lab assignment you will analyze a very simple Precautionary Savings problem\n",
      "\n",
      "* Consider an individual who lives two periods. In the first period he has income $A$, and in the second period his income is stochastic and denoted by $y$\n",
      "* His income can only take two values; either $y= x > 0$ (with probability $\\frac{1}{2}$) or $y= -x$ (with probability $\\frac{1}{2}$)\n",
      "* The discount rate and interest rate are both exogenous and equal to zero\n",
      "* The individual chooses consumption in period 1 $c_1$ knowing $A$, but not the realisation of $y$ [let $c_2$ denote consumption in period 2]\n",
      "* It is always the case that $A - x >0$\n",
      "* Let $E$ denote the expectations operator\n",
      "* The objective function of the individual is $V = u(c_1)+Eu(c_2)$\n",
      "* You can assume that $u(.)$ is concave and satisfies the Inada conditions"
     ]
    },
    {
     "cell_type": "code",
     "collapsed": false,
     "input": [
      "# Import relevant modules\n",
      "import numpy as np\n",
      "import pandas as pd\n",
      "import matplotlib as mpl\n",
      "import matplotlib.pyplot as plt"
     ],
     "language": "python",
     "metadata": {},
     "outputs": [],
     "prompt_number": 4
    },
    {
     "cell_type": "markdown",
     "metadata": {},
     "source": [
      "### Part a) \n",
      "\n",
      "Write out the individual's inter-temporal budget constraint."
     ]
    },
    {
     "cell_type": "code",
     "collapsed": false,
     "input": [],
     "language": "python",
     "metadata": {},
     "outputs": []
    },
    {
     "cell_type": "markdown",
     "metadata": {},
     "source": [
      "### Part b)\n",
      "Write out the Euler Equation."
     ]
    },
    {
     "cell_type": "code",
     "collapsed": false,
     "input": [],
     "language": "python",
     "metadata": {},
     "outputs": []
    },
    {
     "cell_type": "markdown",
     "metadata": {},
     "source": [
      "### Part c)\n",
      "\n",
      "If $x = 0$, what is $c_1$?"
     ]
    },
    {
     "cell_type": "code",
     "collapsed": false,
     "input": [],
     "language": "python",
     "metadata": {},
     "outputs": []
    },
    {
     "cell_type": "markdown",
     "metadata": {},
     "source": [
      "### Part d)\n",
      "\n",
      "If u(c) is a quadratic utility function, how does consumption in the first period respond to setting $x\\neq 0$. Explain your answer.\n"
     ]
    },
    {
     "cell_type": "code",
     "collapsed": false,
     "input": [],
     "language": "python",
     "metadata": {},
     "outputs": []
    },
    {
     "cell_type": "markdown",
     "metadata": {},
     "source": [
      "### Part e)\n",
      "\n",
      "Now consider the utility function:\n",
      "\n",
      "\\begin{equation}\n",
      "u(c) = 1-e^{-\\theta c}\n",
      "\\end{equation} \n",
      "\n",
      "Using the code for the utility function provided below as a blueprint, define another Python function that returns the marginal utility of consumption."
     ]
    },
    {
     "cell_type": "code",
     "collapsed": false,
     "input": [
      "def cara_utility(c):\n",
      "    \"\"\"Constant absolute risk aversion utility function.\"\"\"\n",
      "    utility = 1 - np.exp(-theta * c)\n",
      "    return utility\n",
      "\n",
      "def cara_marginal_utility(c):\n",
      "    \"\"\"Derivative of the constant absolute risk aversion utility function.\"\"\"\n",
      "    marginal_utility = # INSERT YOUR CODE HERE!\n",
      "    return marginal_utility\n"
     ],
     "language": "python",
     "metadata": {},
     "outputs": [],
     "prompt_number": 5
    },
    {
     "cell_type": "markdown",
     "metadata": {},
     "source": [
      "### Part f)\n",
      "\n",
      "Find $u'''(c)$, and the Coefficients of Relative and Absolute Risk Aversion (possibly as functions of c). What type of function is this? "
     ]
    },
    {
     "cell_type": "code",
     "collapsed": false,
     "input": [],
     "language": "python",
     "metadata": {},
     "outputs": []
    },
    {
     "cell_type": "markdown",
     "metadata": {},
     "source": [
      "### Part g)\n",
      "\n",
      "The code in the cell below plots $u'(c)$ for multiple values of $\\theta$. Using the diagram (and perhaps your answer from part f) explain the relationship between $\\theta$ and the level of precautionary savings."
     ]
    },
    {
     "cell_type": "code",
     "collapsed": false,
     "input": [
      "plt.figure(figsize=(8,6))\n",
      "\n",
      "# grid for plotting\n",
      "plot_grid = np.linspace(0, 0.5, 1000)\n",
      "\n",
      "for theta in np.logspace(-1, 1, 5):\n",
      "    plt.plot(plot_grid, cara_marginal_utility(plot_grid), label=r'$\\theta=%g$' %theta)\n",
      "    \n",
      "plt.xlabel('Consumption, $c$', fontsize=15, family='serif')\n",
      "plt.ylabel(\"$u'(c)$\", rotation='horizontal', fontsize=15)\n",
      "plt.title(r'Marginal utility of consumption for various $\\theta$', fontsize=20, family='serif')\n",
      "plt.legend(loc='best', frameon=False)\n",
      "    \n",
      "plt.show()"
     ],
     "language": "python",
     "metadata": {},
     "outputs": [],
     "prompt_number": 6
    },
    {
     "cell_type": "markdown",
     "metadata": {},
     "source": [
      "### Part h)\n",
      "For the case where $x\\neq 0$, find $c_1$. "
     ]
    },
    {
     "cell_type": "code",
     "collapsed": false,
     "input": [],
     "language": "python",
     "metadata": {},
     "outputs": []
    },
    {
     "cell_type": "markdown",
     "metadata": {},
     "source": [
      "### Part i)\n",
      "\n",
      "Now define $D$ as precautionary savings. i.e. Amount of savings made with risky income minus the level of savings made without risk. Analyse how $D$ responds to a change in $\\theta , A$ or $x$, where a rise in $x$ is equivalent to an increase in the variance of income.\n",
      "\n",
      "**Hint: You could possibly create a function in your ipython notebook called `D(A, x)`, graph this, and anaylse for different values of the inputs/parameters, keeping the other fixed.**"
     ]
    },
    {
     "cell_type": "code",
     "collapsed": false,
     "input": [
      "# Insert optional code here!"
     ],
     "language": "python",
     "metadata": {},
     "outputs": []
    },
    {
     "cell_type": "markdown",
     "metadata": {},
     "source": [
      "###Question 2 \n",
      "\n",
      "### Part a)\n",
      "\n",
      "Now consider the utility function:\n",
      "\n",
      "\\begin{equation}\n",
      "u(c) = \\frac{c^{1-\\theta}-1}{1-\\theta}\n",
      "\\end{equation} \n",
      "\n",
      "Repeat parts (e) to (i) of question 1 for this new utility function."
     ]
    },
    {
     "cell_type": "code",
     "collapsed": false,
     "input": [
      "def crra_utility(c):\n",
      "    \"\"\"Constant absolute risk aversion utility function.\"\"\"\n",
      "    utility = # INSERT YOUR CODE HERE!\n",
      "    return utility\n",
      "\n",
      "def crra_marginal_utility(c):\n",
      "    \"\"\"Derivative of the constant absolute risk aversion utility function.\"\"\"\n",
      "    marginal_utility = # INSERT YOUR CODE HERE!\n",
      "    return marginal_utility\n"
     ],
     "language": "python",
     "metadata": {},
     "outputs": []
    },
    {
     "cell_type": "code",
     "collapsed": false,
     "input": [
      "# INSERT YOUR CODE FOR PLOTTING MARGINAL UTILITY FOR VARIOUS THETA HERE!"
     ],
     "language": "python",
     "metadata": {},
     "outputs": []
    },
    {
     "cell_type": "markdown",
     "metadata": {},
     "source": [
      "### Part b)\n",
      "\n",
      "Compare your results to part(i) of question 1 to your equivalent results for the new utility function."
     ]
    },
    {
     "cell_type": "code",
     "collapsed": false,
     "input": [],
     "language": "python",
     "metadata": {},
     "outputs": []
    }
   ],
   "metadata": {}
  }
 ]
}