{
 "metadata": {
  "name": ""
 },
 "nbformat": 3,
 "nbformat_minor": 0,
 "worksheets": [
  {
   "cells": [
    {
     "cell_type": "markdown",
     "metadata": {},
     "source": [
      "<div align='center' ><img src='https://raw.github.com/davidrpugh/computational-econ-labs/master/graduate/images/sgpe-logo.jpg' width=\"1200\" height=\"100\"></div>\n",
      "<div align='center' ><img src='https://raw.github.com/davidrpugh/computational-econ-labs/master/graduate/images/sirelogo.jpg' width=\"1200\" height=\"100\"></div>\n",
      "\n",
      "# *Numerical Methods for Economists: Lab Assignment The Solow (1956) Model*\n",
      "\n",
      "In this lab assignment you will analyze a version of the Solow model with a [constant elasticity of substituion (CES)](http://en.wikipedia.org/wiki/Constant_elasticity_of_substitution) production function and attempt to \"explain\" observed patterns in capital's share in the U.S. between 1950-2011.\n",
      "\n",
      "A CES production function looks as follows...\n",
      "\n",
      "\\begin{equation}\n",
      "  Y(t) = \\bigg[\\alpha K(t)^{\\rho} + (1-\\alpha) (A(t)L(t))^{\\rho}\\bigg]^{\\frac{1}{\\rho}} \\tag{1.2}\n",
      "\\end{equation}\n",
      "\n",
      "where $0 < \\alpha < 1$ and $-\\infty < \\rho < 1$. The parameter $\\rho = \\frac{\\sigma - 1}{\\sigma}$ where $\\sigma$ is the elasticity of substitution between factors of production. The CES production technology is popular because it nests several interesing special cases.  In particular, if factors of production are perfect substitutes (i.e., $\\sigma = +\\infty \\implies \\rho = 1$), then output is just a linear combination of the inputs.\n",
      "\n",
      "\\begin{equation}\n",
      "  \\lim_{\\rho \\rightarrow 1} Y(t) = \\alpha K(t) + (1-\\alpha)A(t)L(t) \\tag{1.3}\n",
      "\\end{equation}\n",
      "                                    \n",
      "On the other hand, if factors of production are perfect complements (i.e., $\\sigma = 0 \\implies \\rho = -\\infty$), then we recover the [Leontief production function](http://en.wikipedia.org/wiki/Leontief_production_function).\n",
      "                             \n",
      "\\begin{equation}\n",
      "  \\lim_{\\rho \\rightarrow -\\infty} Y(t) = \\min\\left\\{\\alpha K(t), (1-\\alpha) A(t)L(t)\\right\\} \\tag{1.4}\n",
      "\\end{equation}\n",
      "\n",
      "Finally, if the elasticity of substitution is unitary (i.e., $\\sigma=1 \\implies \\rho=0$), then output is [Cobb-Douglas](http://en.wikipedia.org/wiki/Cobb%E2%80%93Douglas_production_function).\n",
      "\n",
      "\\begin{equation}\n",
      "  \\lim_{\\rho \\rightarrow 0} Y(t) = K(t)^{\\alpha}(A(t)L(t))^{1-\\alpha} \\tag{1.5}\n",
      "\\end{equation}"
     ]
    },
    {
     "cell_type": "code",
     "collapsed": false,
     "input": [
      "%load_ext autoreload"
     ],
     "language": "python",
     "metadata": {},
     "outputs": [],
     "prompt_number": 7
    },
    {
     "cell_type": "code",
     "collapsed": false,
     "input": [
      "%autoreload 2"
     ],
     "language": "python",
     "metadata": {},
     "outputs": [],
     "prompt_number": 8
    },
    {
     "cell_type": "code",
     "collapsed": false,
     "input": [
      "import numpy as np\n",
      "import pandas as pd\n",
      "from scipy import integrate, linalg, optimize\n",
      "import matplotlib as mpl\n",
      "import matplotlib.pyplot as plt\n",
      "\n",
      "# for the first few labs we will be working with models of growth\n",
      "import growth\n",
      "import pwt"
     ],
     "language": "python",
     "metadata": {},
     "outputs": [],
     "prompt_number": 9
    },
    {
     "cell_type": "markdown",
     "metadata": {},
     "source": [
      "### (5 points) Part a) \n",
      "\n",
      "Show that the CES production function as defined by equation 1.2 exhibits constant returns to scale."
     ]
    },
    {
     "cell_type": "markdown",
     "metadata": {},
     "source": [
      "#### Answer:\n",
      "Constant returns to scale requires that multiplying both factors of production by some fixed constant $c > 0$, causes output to change by the same factor.\n",
      "\n",
      "\\begin{align}\n",
      "  F(cK, cAL) =& \\bigg[\\alpha (cK(t))^{\\rho} + (1-\\alpha) (cA(t)L(t))^{\\rho}\\bigg]^{\\frac{1}{\\rho}} \\\\\n",
      "  =& \\bigg[\\alpha c^{\\rho}K(t)^{\\rho} + (1-\\alpha) c^{\\rho}(A(t)L(t))^{\\rho}\\bigg]^{\\frac{1}{\\rho}} \\\\\n",
      "  =& \\bigg[c^{\\rho}\\bigg(\\alpha K(t)^{\\rho} + (1-\\alpha) (A(t)L(t))^{\\rho}\\bigg)\\bigg]^{\\frac{1}{\\rho}} \\\\\n",
      "  =& c\\bigg[\\alpha K(t)^{\\rho} + (1-\\alpha) (A(t)L(t))^{\\rho}\\bigg]^{\\frac{1}{\\rho}} \\\\\n",
      "  =& cF(K, AL)\n",
      "\\end{align}"
     ]
    },
    {
     "cell_type": "markdown",
     "metadata": {},
     "source": [
      "### (10 points) Part b)\n",
      "Derive the intensive forms for both the general CES production function as defined by equation 1.2 and for its Cobb-Douglas special case defined by equation 1.5. Show that both of these intensive production functions are concave."
     ]
    },
    {
     "cell_type": "markdown",
     "metadata": {},
     "source": [
      "#### Answer:\n",
      "\n",
      "The intensive form of the general CES production function is...\n",
      "\n",
      "\\begin{align}\n",
      "y(t) = \\frac{Y(t)}{A(t)L(t)} =& \\frac{1}{A(t)L(t)}\\bigg[\\alpha K(t)^{\\rho} + (1-\\alpha) (A(t)L(t))^{\\rho}\\bigg]^{\\frac{1}{\\rho}} \\\\\n",
      "=& \\bigg[\\frac{\\alpha K(t)^{\\rho} + (1-\\alpha) (A(t)L(t))^{\\rho}}{(A(t)L(t))^{\\rho}}\\bigg]^{\\frac{1}{\\rho}} \\\\\n",
      "=& \\bigg[\\alpha \\frac{K(t)^{\\rho}}{(A(t)L(t))^{\\rho}} + (1-\\alpha) \\frac{(A(t)L(t))^{\\rho}}{(A(t)L(t))^{\\rho}}\\bigg]^{\\frac{1}{\\rho}} \\\\\n",
      "=& \\bigg[\\alpha \\bigg(\\frac{K(t)}{A(t)L(t)}\\bigg)^{\\rho} + (1-\\alpha)\\bigg]^{\\frac{1}{\\rho}} \\\\\n",
      "=& \\bigg[\\alpha k(t)^{\\rho} + (1-\\alpha)\\bigg]^{\\frac{1}{\\rho}}\n",
      "\\end{align}\n",
      "\n",
      "The intensive form of the Codd-Douglas special case is...\n",
      "\n",
      "\\begin{align}\n",
      "y(t) = \\frac{Y(t)}{A(t)L(t)} =& \\frac{1}{A(t)L(t)}K(t)^{\\alpha}(A(t)L(t))^{1-\\alpha} \\\\\n",
      "=& K(t)^{\\alpha}(A(t)L(t))^{-\\alpha} \\\\\n",
      "=& \\bigg(\\frac{K(t)}{A(t)L(t)}\\bigg)^{\\alpha} \\\\\n",
      "= & k(t)^{\\alpha}\n",
      "\\end{align}\n",
      "\n",
      "Concavity requires that $f'(k) > 0$ and $f''(k) < 0$. For the intensive form of the general CES production function these derivatives are messy!\n",
      "\n",
      "\\begin{align}\n",
      "    f'(k) = \\frac{\\partial y(t)}{\\partial k(t)} =& \\alpha k(t)^{\\rho-1}\\bigg[\\alpha k(t)^{\\rho} + (1-\\alpha)\\bigg]^{\\frac{1}{\\rho} - 1} > 0 \\\\\n",
      "    f''(k) = \\frac{\\partial^2 y(t)}{\\partial k(t)^2} =& \\alpha k(t)^{\\rho-1} \\frac{\\partial}{\\partial k}\\bigg(\\bigg[\\alpha k(t)^{\\rho} + (1-\\alpha)\\bigg]^{\\frac{1}{\\rho} - 1}\\bigg) + \\frac{\\partial}{\\partial k}\\bigg(\\alpha k(t)^{\\rho-1}\\bigg)\\bigg[\\alpha k(t)^{\\rho} + (1-\\alpha)\\bigg]^{\\frac{1}{\\rho} - 1} \\\\\n",
      "    =& \\alpha k(t)^{\\rho-1} \\frac{\\partial}{\\partial k}\\bigg(\\bigg[\\alpha k(t)^{\\rho} + (1-\\alpha)\\bigg]^{\\frac{1}{\\rho} - 1}\\bigg) + \\bigg(\\alpha(\\rho - 1)k(t)^{\\rho-2}\\bigg)\\bigg[\\alpha k(t)^{\\rho} + (1-\\alpha)\\bigg]^{\\frac{1}{\\rho} - 1} \\\\\n",
      "    =& \\alpha k(t)^{\\rho-1}\\bigg(\\bigg(\\alpha \\rho k(t)^{\\rho-1}\\bigg)\\bigg(\\frac{1}{\\rho} - 1\\bigg)\\bigg[\\alpha k(t)^{\\rho} + (1-\\alpha)\\bigg]^{\\frac{1}{\\rho} - 2}\\bigg) + \\bigg(\\alpha(\\rho - 1)k(t)^{\\rho-2}\\bigg)\\bigg[\\alpha k(t)^{\\rho} + (1-\\alpha)\\bigg]^{\\frac{1}{\\rho} - 1} \\\\\n",
      "    =& \\alpha k(t)^{\\rho-1}\\bigg(\\bigg(\\alpha k(t)^{\\rho-1}\\bigg)\\bigg(1 - \\rho\\bigg)\\bigg[\\alpha k(t)^{\\rho} + (1-\\alpha)\\bigg]^{\\frac{1}{\\rho} - 2}\\bigg) + \\bigg(\\alpha(\\rho - 1)k(t)^{\\rho-2}\\bigg)\\bigg[\\alpha k(t)^{\\rho} + (1-\\alpha)\\bigg]^{\\frac{1}{\\rho} - 1} \\\\\n",
      "    =& \\bigg(\\bigg(\\alpha k(t)^{\\rho-1}\\bigg)^2\\bigg(1 - \\rho\\bigg)\\bigg[\\alpha k(t)^{\\rho} + (1-\\alpha)\\bigg]^{\\frac{1}{\\rho} - 2}\\bigg) - \\bigg(\\alpha(1 -\\rho)k(t)^{\\rho-2}\\bigg)\\bigg[\\alpha k(t)^{\\rho} + (1-\\alpha)\\bigg]^{\\frac{1}{\\rho} - 1} \\\\\n",
      "    =& (1 -\\rho)\\bigg[\\alpha k(t)^{\\rho} + (1-\\alpha)\\bigg]^{\\frac{1}{\\rho} - 2}\\bigg(\\bigg(\\alpha k(t)^{\\rho-1}\\bigg)^2 - \\bigg(\\alpha k(t)^{\\rho-2}\\bigg)\\bigg[\\alpha k(t)^{\\rho} + (1-\\alpha)\\bigg]\\bigg) \\\\\n",
      "    =& (1 -\\rho)\\bigg[\\alpha k(t)^{\\rho} + (1-\\alpha)\\bigg]^{\\frac{1}{\\rho} - 2}\\bigg(\\alpha^2 k(t)^{2\\rho-2} - \\alpha^2 k(t)^{2\\rho-2} - (1-\\alpha)\\bigg(\\alpha k(t)^{\\rho-2}\\bigg)\\bigg) \\\\\n",
      "    =& -(1 -\\rho)(1-\\alpha)\\bigg(\\alpha k(t)^{\\rho-2}\\bigg)\\bigg[\\alpha k(t)^{\\rho} + (1-\\alpha)\\bigg]^{\\frac{1}{\\rho} - 2} < 0\\\\\n",
      "\\end{align}\n",
      "\n",
      "For the Cobb-Douglas special case, the derivatives are much nicer.\n",
      "\n",
      "\\begin{align}\n",
      "f'(k) =& \\alpha k(t)^{\\alpha-1} > 0 \\\\\n",
      "f''(k) =& -\\alpha (1 - \\alpha) k(t)^{\\alpha-2} < 0 \\\\\n",
      "\\end{align}"
     ]
    },
    {
     "cell_type": "markdown",
     "metadata": {},
     "source": [
      "### (5 points) Part c)\n",
      "\n",
      "Using your results from part b, complete the Python function below which defines output (per person/effective person) in terms of capital (per person/effective person) and model parameters."
     ]
    },
    {
     "cell_type": "code",
     "collapsed": false,
     "input": [
      "# you were given the following incomplete code...\n",
      "def ces_output(t, k, params):\n",
      "    \"\"\"\n",
      "    Intensive form for a CES production \n",
      "    function.\n",
      "\n",
      "    Arguments:\n",
      "\n",
      "        t:      (array-like) Time.\n",
      "        k:      (array-like) Capital (per person/effective person).\n",
      "        params: (dict) Dictionary of parameter values.\n",
      "       \n",
      "    Returns:\n",
      "\n",
      "        y: (array-like) Output (per person/ effective person)\n",
      "\n",
      "    \"\"\"\n",
      "    # extract params\n",
      "    alpha = params['alpha']\n",
      "    sigma = params['sigma']\n",
      "    rho   = # INSERT CODE HERE DEFINING RHO IN TERMS OF SIGMA!\n",
      "    \n",
      "    # nest Cobb-Douglas technology as special case\n",
      "    if rho == 0:\n",
      "        y = # INSERT CODE HERE!\n",
      "    else:\n",
      "        y = # INSERT CODE HERE!\n",
      "    \n",
      "    return y"
     ],
     "language": "python",
     "metadata": {},
     "outputs": []
    },
    {
     "cell_type": "code",
     "collapsed": false,
     "input": [
      "# which should be completed as follows...\n",
      "def ces_output(t, k, params):\n",
      "    \"\"\"\n",
      "    Intensive form for a CES production function.\n",
      "\n",
      "    Arguments:\n",
      "\n",
      "        t:      (array-like) Time.\n",
      "        k:      (array-like) Capital (per person/effective person).\n",
      "        params: (dict) Dictionary of parameter values.\n",
      "       \n",
      "    Returns:\n",
      "\n",
      "        y: (array-like) Output (per person/ effective person)\n",
      "\n",
      "    \"\"\"\n",
      "    # extract params\n",
      "    alpha = params['alpha']\n",
      "    sigma = params['sigma']\n",
      "    rho   = (sigma - 1) / sigma\n",
      "    \n",
      "    # nest Cobb-Douglas technology as special case\n",
      "    if rho == 0:\n",
      "        y = k**alpha\n",
      "    else:\n",
      "        y = (alpha * k**rho + (1-alpha))**(1 / rho)\n",
      "    \n",
      "    return y"
     ],
     "language": "python",
     "metadata": {},
     "outputs": [],
     "prompt_number": 1
    },
    {
     "cell_type": "markdown",
     "metadata": {},
     "source": [
      "### (5 points) Part d)\n",
      "\n",
      "Using your results from part b, complete the Python function below which defines the marginal product of capital (per person/effective person) in terms of capital (per person/effective person) and model parameters."
     ]
    },
    {
     "cell_type": "code",
     "collapsed": false,
     "input": [
      "# you were given the following incomplete code...\n",
      "def marginal_product_capital(t, k, params):\n",
      "    \"\"\"\n",
      "    Marginal product of capital with CES production function.\n",
      "\n",
      "    Arguments:\n",
      "\n",
      "        t:      (array-like) Time.\n",
      "        k:      (array-like) Capital (per person/effective person).\n",
      "        params: (dict) Dictionary of parameter values.\n",
      "       \n",
      "    Returns:\n",
      "\n",
      "        mpk: (array-like) Derivative of output with respect to capital, k.\n",
      "\n",
      "    \"\"\"\n",
      "    # extract params\n",
      "    alpha = params['alpha']\n",
      "    sigma = params['sigma']\n",
      "    rho   = # INSERT CODE HERE DEFINING RHO IN TERMS OF SIGMA!\n",
      "    \n",
      "    # nest Cobb-Douglas technology as special case\n",
      "    if rho == 0:\n",
      "        mpk = # INSERT CODE HERE!\n",
      "    else:\n",
      "        mpk = # INSERT CODE HERE!\n",
      "    \n",
      "    return mpk"
     ],
     "language": "python",
     "metadata": {},
     "outputs": []
    },
    {
     "cell_type": "code",
     "collapsed": false,
     "input": [
      "# which should be completed as follows...\n",
      "def marginal_product_capital(t, k, params):\n",
      "    \"\"\"\n",
      "    Marginal product of capital with CES production function.\n",
      "\n",
      "    Arguments:\n",
      "\n",
      "        t:      (array-like) Time.\n",
      "        k:      (array-like) Capital (per person/effective person).\n",
      "        params: (dict) Dictionary of parameter values.\n",
      "       \n",
      "    Returns:\n",
      "\n",
      "        mpk: (array-like) Derivative of output with respect to capital, k.\n",
      "\n",
      "    \"\"\"\n",
      "    # extract params\n",
      "    alpha = params['alpha']\n",
      "    sigma = params['sigma']\n",
      "    rho   = (sigma - 1) / sigma\n",
      "    \n",
      "    # nest Cobb-Douglas technology as special case\n",
      "    if rho == 0:\n",
      "        mpk = alpha * k**(alpha - 1)\n",
      "    else:\n",
      "        mpk = alpha * k**(rho - 1) * (alpha * k**rho + (1 - alpha))**((1 / rho) - 1)\n",
      "    \n",
      "    return mpk"
     ],
     "language": "python",
     "metadata": {},
     "outputs": [],
     "prompt_number": 2
    },
    {
     "cell_type": "markdown",
     "metadata": {},
     "source": [
      "### (5 points) Part e)\n",
      "\n",
      "Derive the equation of motion for capital per effective worker when the general CES production function defined by equation 1.2 and for the Cobb-Douglas special case defined by equation 1.5."
     ]
    },
    {
     "cell_type": "markdown",
     "metadata": {},
     "source": [
      "#### Answer:\n",
      "\n",
      "The key equation of the Solow model is the equation of motion for capital per effective worker, $k(t)=\\frac{K(t)}{A(t)L(t)}$. Application of the chain rule to $k(t)$ yields\n",
      "\n",
      "\\begin{align}\n",
      "\t\\dot{k}(t) =& \\frac{\\dot{K}A(t)L(t) - K(t)\\left[A(t)\\dot{L}(t) + \\dot{A}(t)L(t)\\right]}{[A(t)L(t)]^2} \\notag \\\\\n",
      "\t =& \\frac{\\dot{K}}{A(t)L(t)} - \\frac{K(t)}{A(t)L(t)}\\left(\\frac{\\dot{L}(t)}{L(t)} + \\frac{\\dot{A}(t)}{A(t)}\\right).\n",
      "\\end{align}\n",
      "\n",
      "From here I need only substitute the equation of motion for capital and the expressions for the exogenous growth rates of labor and technology to obtain a first-order non-linear differential equation describing the evolution of capital per effective worker, $k(t)$.\n",
      "\n",
      "\\begin{align}\n",
      "\t\\dot{k}(t) =& \\frac{sY(t) - \\delta K(t)}{A(t)L(t)} - \\frac{K(t)}{A(t)L(t)}\\left(\\frac{\\dot{L}(t)}{L(t)} + \\frac{\\dot{A}(t)}{A(t)}\\right) \\notag \\\\\n",
      "\t=& s\\frac{Y(t)}{A(t)L(t)} - (n + g + \\delta)\\frac{K(t)}{A(t)L(t)} \\notag \\\\\n",
      "    =& sy(t) - (n + g + \\delta)k(t) \\notag \\\\\n",
      "\\end{align} \n",
      "\n",
      "When the production function is CES, the equation becomes\n",
      "\n",
      "\\begin{align}\n",
      "\t\\dot{k}(t) =& s\\bigg[\\alpha k(t)^{\\rho} + (1-\\alpha)\\bigg]^{\\frac{1}{\\rho}} - (n + g + \\delta)k(t).\n",
      "\\end{align} \n",
      "\n",
      "When the production function is Cobb-Douglas, the equation becomes\n",
      "\n",
      "\\begin{align}\n",
      "\t\\dot{k}(t) =& sk(t)^{\\alpha} - (n + g + \\delta)k(t).\n",
      "\\end{align} "
     ]
    },
    {
     "cell_type": "markdown",
     "metadata": {},
     "source": [
      "### (5 points) Part f)\n",
      "\n",
      "Using your results from parts d) and e) and the Python function defining the equation of motion for capital (per person/effective person) complete the Python function which defines the Jacobian for the Solow model."
     ]
    },
    {
     "cell_type": "code",
     "collapsed": false,
     "input": [
      "def equation_of_motion_capital(t, k, params):\n",
      "    \"\"\"\n",
      "    Equation of motion for capital (per person/effective person).\n",
      "\n",
      "    Arguments:\n",
      "\n",
      "        t:      (array-like) Time.\n",
      "        k:      (array-like) Capital (per person/effective person).\n",
      "        params: (dict) Dictionary of parameter values.\n",
      "       \n",
      "    Returns:\n",
      "\n",
      "        k_dot: (array-like) Time-derivative of capital (per person/effective \n",
      "               person).\n",
      "\n",
      "    \"\"\"\n",
      "    # extract params\n",
      "    s     = params['s']\n",
      "    n     = params['n']\n",
      "    g     = params['g']\n",
      "    delta = params['delta']\n",
      "    \n",
      "    y = ces_output(t, k, params)\n",
      "    \n",
      "    k_dot = s * y - (n + g + delta) * k\n",
      "    \n",
      "    return k_dot"
     ],
     "language": "python",
     "metadata": {},
     "outputs": [],
     "prompt_number": 3
    },
    {
     "cell_type": "code",
     "collapsed": false,
     "input": [
      "# you where given the following incomplete code...\n",
      "def solow_jacobian(t, k, params):\n",
      "    \"\"\"\n",
      "    The Jacobian of the Solow model.\n",
      "    \n",
      "    Arguments:\n",
      "\n",
      "        t:      (array-like) Time.\n",
      "        k:      (array-like) Capital (per person/effective person).\n",
      "        params: (dict) Dictionary of parameter values.\n",
      "       \n",
      "    Returns:\n",
      "\n",
      "        jac: (array-like) Value of the derivative of the equation of \n",
      "             motion for capital (per worker/effective worker) with \n",
      "             respect to k.\n",
      "\n",
      "    \"\"\"\n",
      "    # extract params\n",
      "    s     = params['s']\n",
      "    n     = params['n']\n",
      "    g     = params['g']\n",
      "    delta = params['delta']\n",
      "\n",
      "    mpk = #INSERT YOUR CODE HERE\n",
      "    \n",
      "    k_dot = s * mpk - (n + g + delta)\n",
      "    \n",
      "    return k_dot"
     ],
     "language": "python",
     "metadata": {},
     "outputs": []
    },
    {
     "cell_type": "code",
     "collapsed": false,
     "input": [
      "# which should have been completed as follows...\n",
      "def solow_jacobian(t, k, params):\n",
      "    \"\"\"\n",
      "    The Jacobian of the Solow model.\n",
      "    \n",
      "    Arguments:\n",
      "\n",
      "        t:      (array-like) Time.\n",
      "        k:      (array-like) Capital (per person/effective person).\n",
      "        params: (dict) Dictionary of parameter values.\n",
      "       \n",
      "    Returns:\n",
      "\n",
      "        jac: (array-like) Value of the derivative of the equation of \n",
      "             motion for capital (per worker/effective worker) with \n",
      "             respect to k.\n",
      "\n",
      "    \"\"\"\n",
      "    # extract params\n",
      "    s     = params['s']\n",
      "    n     = params['n']\n",
      "    g     = params['g']\n",
      "    delta = params['delta']\n",
      "\n",
      "    mpk = marginal_product_capital(t, k, params) \n",
      "    \n",
      "    k_dot = s * mpk - (n + g + delta)\n",
      "    \n",
      "    return k_dot"
     ],
     "language": "python",
     "metadata": {},
     "outputs": [],
     "prompt_number": 4
    },
    {
     "cell_type": "markdown",
     "metadata": {},
     "source": [
      "### (5 points) Part g)\n",
      "\n",
      "In the cell below, create a Python dictionary called `default_params` using the following values: $\\alpha$ = 0.33, $\\delta$ = 0.04, $\\sigma$ = 1.0, $g$ = 0.02, $n$ = 0.01, $s$ = 0.15, $L(0)$=1.0, $A(0)$=1.0."
     ]
    },
    {
     "cell_type": "code",
     "collapsed": false,
     "input": [
      "# INSERT CODE HERE!"
     ],
     "language": "python",
     "metadata": {},
     "outputs": []
    },
    {
     "cell_type": "code",
     "collapsed": false,
     "input": [
      "# my solution...\n",
      "default_params = {'alpha':0.5, 'delta':0.04, 'sigma':1.05, 'g':0.02, \n",
      "                  'n':0.01, 's':0.15, 'A0':1.0, 'L0':1.0} "
     ],
     "language": "python",
     "metadata": {},
     "outputs": [],
     "prompt_number": 60
    },
    {
     "cell_type": "markdown",
     "metadata": {},
     "source": [
      "### (5 points) Part h)\n",
      "In the cell below, create instance of the `SolowModel` class called `model` using the results from parts c), d), f) and g)."
     ]
    },
    {
     "cell_type": "code",
     "collapsed": false,
     "input": [
      "# INSERT CODE HERE!"
     ],
     "language": "python",
     "metadata": {},
     "outputs": []
    },
    {
     "cell_type": "code",
     "collapsed": false,
     "input": [
      "# my solution...\n",
      "model = growth.SolowModel(output=ces_output, \n",
      "                          mpk=marginal_product_capital,\n",
      "                          k_dot=equation_of_motion_capital, \n",
      "                          jacobian=solow_jacobian,\n",
      "                          params=default_params)"
     ],
     "language": "python",
     "metadata": {},
     "outputs": [],
     "prompt_number": 61
    },
    {
     "cell_type": "markdown",
     "metadata": {},
     "source": [
      "### (10 points) Part i)\n",
      "\n",
      "Derive an analytic expression for the steady state value of capital (per person/effective person) using your result from part e) and use your result to complete the Python function in the cell below defining the analytic steady state value for $k$ as a function of model parameters."
     ]
    },
    {
     "cell_type": "markdown",
     "metadata": {},
     "source": [
      "#### Answer:\n",
      "When the production function is CES, the steady state value for capital (per person/effective person) is\n",
      "\n",
      "\\begin{align}\n",
      "0 =& s\\bigg[\\alpha k^{*\\rho} + (1-\\alpha)\\bigg]^{\\frac{1}{\\rho}} - (n + g + \\delta)k^* \\\\\n",
      "s\\bigg[\\alpha k^{*\\rho} + (1-\\alpha)\\bigg]^{\\frac{1}{\\rho}} =& (n + g + \\delta)k^* \\\\\n",
      "s^{\\rho}\\bigg[\\alpha k^{*\\rho} + (1-\\alpha)\\bigg] =& (n + g + \\delta)^{\\rho}k^{*\\rho} \\\\\n",
      "\\alpha s^{\\rho} k^{*\\rho} + (1-\\alpha)s^{\\rho} =& (n + g + \\delta)^{\\rho}k^{*\\rho} \\\\\n",
      "(1-\\alpha)s^{\\rho} =& (n + g + \\delta)^{\\rho}k^{*\\rho} - \\alpha s^{\\rho} k^{*\\rho} \\\\\n",
      "(1-\\alpha)s^{\\rho} =& \\bigg((n + g + \\delta)^{\\rho} - \\alpha s^{\\rho}\\bigg) k^{*\\rho} \\\\\n",
      "k^{*\\rho} =& \\frac{(1-\\alpha)s^{\\rho}}{(n + g + \\delta)^{\\rho} - \\alpha s^{\\rho}} \\\\\n",
      "k^* =& \\left(\\frac{(1-\\alpha)s^{\\rho}}{(n + g + \\delta)^{\\rho} - \\alpha s^{\\rho}}\\right)^{\\frac{1}{\\rho}} \\\\\n",
      "\\end{align}\n",
      "\n",
      "Note that in order for $k^* > 0$ we require that the parameter $\\alpha$ satisfies\n",
      "\n",
      "\\begin{align}\n",
      "\\alpha < \\bigg(\\frac{n+g+\\delta}{s}\\bigg)^{\\rho}.\n",
      "\\end{align}\n",
      "\n",
      "When the production function is Cobb-Douglas, the steady state value for capital (per person/effective person) is\n",
      "\n",
      "\\begin{align}\n",
      "0 =& sk^{*\\alpha} - (n + g + \\delta)k^* \\\\\n",
      "sk^{*\\alpha} =& (n + g + \\delta)k^* \\\\\n",
      "sk^{*\\alpha-1} =& (n + g + \\delta) \\\\\n",
      "k^{*\\alpha-1} =& \\frac{n + g + \\delta}{s} \\\\\n",
      "k^* =& \\left(\\frac{s}{n + g + \\delta}\\right)^{\\frac{1}{1-\\alpha}}\n",
      "\\end{align} "
     ]
    },
    {
     "cell_type": "code",
     "collapsed": false,
     "input": [
      "### you were given the following incomplete code...\n",
      "def analytic_k_star(params): \n",
      "    \"\"\"Steady-state level of capital (per person/effective person).\"\"\"\n",
      "    # extract params\n",
      "    s     = params['s']\n",
      "    n     = params['n']\n",
      "    g     = params['g']\n",
      "    alpha = params['alpha']\n",
      "    delta = params['delta']\n",
      "    sigma = params['sigma']\n",
      "    rho   = # INSERT CODE HERE DEFINING RHO IN TERMS OF SIGMA!\n",
      "    \n",
      "    # nest Cobb-Douglas technology as special case\n",
      "    if rho == 0:\n",
      "        k_star = # INSERT CODE HERE!\n",
      "    else:\n",
      "        k_star = # INSERT CODE HERE!\n",
      "    \n",
      "    return k_star"
     ],
     "language": "python",
     "metadata": {},
     "outputs": []
    },
    {
     "cell_type": "code",
     "collapsed": false,
     "input": [
      "### which should be completed as follows...\n",
      "def analytic_k_star(params): \n",
      "    \"\"\"Steady-state level of capital (per person/effective person).\"\"\"\n",
      "    # extract params\n",
      "    s     = params['s']\n",
      "    n     = params['n']\n",
      "    g     = params['g']\n",
      "    alpha = params['alpha']\n",
      "    delta = params['delta']\n",
      "    sigma = params['sigma']\n",
      "    rho   = (sigma - 1) / sigma\n",
      "    \n",
      "    # nest Cobb-Douglas as special case\n",
      "    if rho == 0:\n",
      "        k_star = (s / (n + g + delta))**(1 / (1 - alpha))\n",
      "    else:\n",
      "        k_star = (((1 - alpha) * s**rho) / ((n + g + delta)**rho - alpha * s**rho))**(1 / rho)\n",
      "        \n",
      "    return k_star"
     ],
     "language": "python",
     "metadata": {},
     "outputs": [],
     "prompt_number": 11
    },
    {
     "cell_type": "code",
     "collapsed": false,
     "input": [
      "def isfinite_k_star(params):\n",
      "    \"\"\"Returns true if parameters are consistent with a finite k*.\"\"\"\n",
      "    # extract params\n",
      "    s     = params['s']\n",
      "    n     = params['n']\n",
      "    g     = params['g']\n",
      "    alpha = params['alpha']\n",
      "    delta = params['delta']\n",
      "    sigma = params['sigma']\n",
      "    rho   = (sigma - 1) / sigma\n",
      "    \n",
      "    return alpha < ((n + g + delta) / s)**rho"
     ],
     "language": "python",
     "metadata": {},
     "outputs": [],
     "prompt_number": 12
    },
    {
     "cell_type": "code",
     "collapsed": false,
     "input": [
      "isfinite_k_star(default_params)"
     ],
     "language": "python",
     "metadata": {},
     "outputs": [
      {
       "metadata": {},
       "output_type": "pyout",
       "prompt_number": 13,
       "text": [
        "True"
       ]
      }
     ],
     "prompt_number": 13
    },
    {
     "cell_type": "markdown",
     "metadata": {},
     "source": [
      "### (5 points) Part j)\n",
      "\n",
      "Using the code from the lab session as a guide, create a Python dictionary called `solow_steady_state_funcs` containing your result from part i) and add it to the model."
     ]
    },
    {
     "cell_type": "code",
     "collapsed": false,
     "input": [
      "# INSERT YOUR CODE HERE!!"
     ],
     "language": "python",
     "metadata": {},
     "outputs": []
    },
    {
     "cell_type": "code",
     "collapsed": false,
     "input": [
      "# create a dictionary of steady state expressions...\n",
      "solow_steady_state_funcs = {'k_star':analytic_k_star}\n",
      "\n",
      "# add the dictionary of functions to the model\n",
      "model.steady_state.set_functions(solow_steady_state_funcs)"
     ],
     "language": "python",
     "metadata": {},
     "outputs": [],
     "prompt_number": 62
    },
    {
     "cell_type": "code",
     "collapsed": false,
     "input": [
      "# compute the steady state values\n",
      "model.steady_state.set_values()"
     ],
     "language": "python",
     "metadata": {},
     "outputs": [],
     "prompt_number": 63
    },
    {
     "cell_type": "code",
     "collapsed": false,
     "input": [
      "# compare this result to the one you obtained from part i\n",
      "model.steady_state.values"
     ],
     "language": "python",
     "metadata": {},
     "outputs": [
      {
       "metadata": {},
       "output_type": "pyout",
       "prompt_number": 64,
       "text": [
        "{'k_star': 4.72555503663348}"
       ]
      }
     ],
     "prompt_number": 64
    },
    {
     "cell_type": "markdown",
     "metadata": {},
     "source": [
      "Execute the code in the cell below to calibrate the model for the U.S. using data from the Penn World Tables."
     ]
    },
    {
     "cell_type": "code",
     "collapsed": false,
     "input": [
      "# calibrate the model!\n",
      "growth.calibrate_ces(model, 'USA', x0=[0.75, 1.01], method='Nelder-Mead', bounds=None)"
     ],
     "language": "python",
     "metadata": {},
     "outputs": [
      {
       "output_type": "stream",
       "stream": "stdout",
       "text": [
        "Optimization terminated successfully.\n",
        "         Current function value: 0.624288\n",
        "         Iterations: 62\n",
        "         Function evaluations: 145\n"
       ]
      }
     ],
     "prompt_number": 84
    },
    {
     "cell_type": "code",
     "collapsed": false,
     "input": [
      "# display the parameters...\n",
      "model.params"
     ],
     "language": "python",
     "metadata": {},
     "outputs": [
      {
       "metadata": {},
       "output_type": "pyout",
       "prompt_number": 85,
       "text": [
        "{'A0': 121.54997789817465,\n",
        " 'L0': 61.971196530271804,\n",
        " 'alpha': 0.91456643533201798,\n",
        " 'delta': 0.03761163,\n",
        " 'g': 0.03629411526782518,\n",
        " 'n': 0.015525562239498985,\n",
        " 's': 0.20732178,\n",
        " 'sigma': 0.78943070081394473}"
       ]
      }
     ],
     "prompt_number": 85
    },
    {
     "cell_type": "code",
     "collapsed": false,
     "input": [
      "# check that k_star is finite!\n",
      "isfinite_k_star(model.params)"
     ],
     "language": "python",
     "metadata": {},
     "outputs": [
      {
       "metadata": {},
       "output_type": "pyout",
       "prompt_number": 86,
       "text": [
        "True"
       ]
      }
     ],
     "prompt_number": 86
    },
    {
     "cell_type": "markdown",
     "metadata": {},
     "source": [
      "### (5 points) Part k)\n",
      "\n",
      "Using the code examples from the lab as a guide, generate a plot of the Solow diagram demonstrating how the output, actual investment, and breakeven investment curves shift as a result of a 50% *increase* in $\\sigma$ (i.e., the elasticity of substitution between capital and effective labor). Explain why, and in which direction, each curve shifts. Discuss the impact on the steady state levels of capital, output, and consumption per effective person."
     ]
    },
    {
     "cell_type": "code",
     "collapsed": false,
     "input": [
      "# here is the code for generating the plot...\n",
      "plt.figure(figsize=(8,6))\n",
      "model.plot_solow_diagram(gridmax=300, N=1000, param='sigma', shock=1.05, reset=True) \n",
      "plt.show()"
     ],
     "language": "python",
     "metadata": {},
     "outputs": [
      {
       "metadata": {},
       "output_type": "display_data",
       "png": "[encoded data removed]",
       "text": [
        "<matplotlib.figure.Figure at 0xb6a52f0>"
       ]
      }
     ],
     "prompt_number": 89
    },
    {
     "cell_type": "markdown",
     "metadata": {},
     "source": [
      "#### Answer:\n",
      "\n",
      "From your answer to part b) it can be shown that a positive shock to $\\sigma$ increases the marginal productivity of capital per effective worker. Following the positive shock to $\\sigma$ the current stock of capital per effective worker now has a higher marginal product and is therefore capable of producing more output per effective worker (i.e., $y$ jumps up!). Since a constant fraction of output is saved the positve shock to $\\sigma$ also leads to higher actual savings. Break even investment is unaffected by shocks to $\\sigma$. \n",
      "\n",
      "Following the positive shock to $\\sigma$ actual investment will exceed breakeven investment which causes capital per effective worker to rise towards its new, higher steady state value. Since steady state $k$ is higher following the shock, steady state $y$ must also be higher. Whether steady state consumption per effective worker is higher or lower depends on the old (i.e., pre-shock) and new (i.e., post-shock) steady state value of $k$ to its \"Golden-rule\" level. If the new steady state is closer (further away) to its \"Golden-rule\" level than the old steady state, then the new steady state $c$ will be higher (lower). "
     ]
    },
    {
     "cell_type": "markdown",
     "metadata": {},
     "source": [
      "### (5 points) Part l)\n",
      "\n",
      "Using code from the lab as a guide, generate impulse response functions (IRFs) in for the Solow model following a 50% *increase* in the elasticity of substitution between capital and effective labor, $\\sigma$. Discuss the resulting IRFs. "
     ]
    },
    {
     "cell_type": "code",
     "collapsed": false,
     "input": [
      "# here is the code snippet...\n",
      "fig_kwargs = {'figsize':(12,8)}\n",
      "model.plot_impulse_response(variables='all', param='sigma', shock=1.05, T=100, \n",
      "                            kind='efficiency_units', log=False, reset=True, **fig_kwargs)\n",
      "plt.show()"
     ],
     "language": "python",
     "metadata": {},
     "outputs": [
      {
       "metadata": {},
       "output_type": "display_data",
       "png": "[encoded data removed]",
       "text": [
        "<matplotlib.figure.Figure at 0xb166db0>"
       ]
      }
     ],
     "prompt_number": 39
    },
    {
     "cell_type": "markdown",
     "metadata": {},
     "source": [
      "#### Answer: \n",
      "The positive shock to $\\sigma$ increases the marginal capital, which raises output and actual investment. Break even investment is unaffected by an increase in $\\sigma$. Since, following the shock, actual investment exceeds break even investment $k$ begins to rise and continues to do so until it reaches its new, higher steady state level. \n",
      "\n",
      "Following the positive shock to $\\sigma$ the current stock of capital per effective worker now has a higher marginal product and is therefore capable of producing more output per effective worker.  The shock to $\\sigma$ causes $y$ to jump up inititially and then, because $k$ continues to rise, $y$ also continues rising toward its new, higher steady state value. \n",
      "\n",
      "Following the positive shock to $\\sigma$ the current stock of capital per effective worker now has a higher marginal product and is therefore capable of producing more output per effective worker. The shock to $\\sigma$ causes $y$ to jump up inititially. Since consumption per effective worker is just a constant fraction of output per effective worker, the jump in $y$ causes $c$ to jump as well. The fact that $c$ transitions to a new, higher steady state level indicates that the economy has moved closer to its \"Golden-rule\" level."
     ]
    },
    {
     "cell_type": "markdown",
     "metadata": {},
     "source": [
      "### (5 points) Part m:\n",
      "\n",
      "Using your results from part b), derive an expression for the elasticity of output per effective person with respect to capital per effective person, $\\alpha_k$, as a function of capital per effective person, $k$, and model parameters."
     ]
    },
    {
     "cell_type": "markdown",
     "metadata": {},
     "source": [
      "#### Answer:\n",
      "\\begin{align}\n",
      "    \\alpha_{k}(k) =& \\frac{k f'(k)}{f(k)} \\\\\n",
      "    =&\\frac{k\\bigg[\\alpha k^{\\rho-1}\\bigg(\\alpha k^{\\rho} + (1-\\alpha)\\bigg)^{\\frac{1}{\\rho}-1}\\bigg]}{\\bigg(\\alpha k^{\\rho} + (1-\\alpha)\\bigg)^{\\frac{1}{\\rho}}}\\\\\n",
      "    =&\\frac{\\alpha k^{\\rho}}{\\alpha k^{\\rho} + (1-\\alpha)}\\\\\n",
      "\\end{align}"
     ]
    },
    {
     "cell_type": "markdown",
     "metadata": {},
     "source": [
      "### (5 points) Part n)\n",
      "\n",
      "Differentiate your result from part m) with respect to capital per effective person, $k$, and discuss under what conditions the derivative will be positive, negative, or zero."
     ]
    },
    {
     "cell_type": "markdown",
     "metadata": {},
     "source": [
      "#### Answer:\n",
      "\n",
      "\\begin{align}\n",
      "    \\frac{\\partial \\alpha_{k}(k)}{\\partial k} =&\\frac{\\alpha \\rho k^{\\rho - 1}\\bigg(\\alpha k^{\\rho} + (1-\\alpha)\\bigg) - \\alpha k^{\\rho}\\bigg(\\alpha\\rho k^{\\rho-1}\\bigg)}{\\bigg(\\alpha k^{\\rho} + (1-\\alpha)\\bigg)^2}\\\\\n",
      "    =&\\frac{\\alpha^2 \\rho k^{2\\rho - 1} + \\alpha(1-\\alpha)\\rho k^{\\rho-1} - \\alpha^2\\rho k^{2\\rho-1}}{\\bigg(\\alpha k^{\\rho} + (1-\\alpha)\\bigg)^2}\\\\\n",
      "    =&\\frac{\\alpha(1-\\alpha)\\rho k^{\\rho-1}}{\\bigg(\\alpha k^{\\rho} + (1-\\alpha)\\bigg)^2}\\\\\n",
      "\\end{align}\n",
      "\n",
      "Result is more easily interpretable after subsituting $\\rho=\\frac{\\sigma-1}{\\sigma}$.\n",
      "\n",
      "\\begin{align}\n",
      "    \\frac{\\partial \\alpha_{k}(k)}{\\partial k} =&\\frac{\\alpha(1-\\alpha)\\rho k^{\\rho-1}}{\\bigg(\\alpha k^{\\rho} + (1-\\alpha)\\bigg)^2}\\\\\n",
      "    =&\\frac{\\alpha(1-\\alpha)\\bigg(\\frac{\\sigma-1}{\\sigma}\\bigg) k^{\\frac{1}{\\sigma}}}{\\bigg(\\alpha k^{\\frac{\\sigma-1}{\\sigma}} + (1-\\alpha)\\bigg)^2}\\\\\n",
      "\\end{align}\n",
      "\n",
      "Thus we find that $\\frac{\\partial \\alpha_{k}(k)}{\\partial k} > 0 \\iff \\sigma > 1$ which means that capital and effective labor are substitutes; $\\frac{\\partial \\alpha_{k}(k)}{\\partial k} < 0 \\iff \\sigma < 1$ which means that capital and effective labor are complements; and $\\frac{\\partial \\alpha_{k}(k)}{\\partial k} = 0 \\iff \\sigma = 1$ which means that production function is Cobb-Douglas. "
     ]
    },
    {
     "cell_type": "markdown",
     "metadata": {},
     "source": [
      "### (5 points) Part o)\n",
      "\n",
      "Use the fact that $\\frac{\\partial k}{\\partial s} > 0$ and the result from part n) to relate the sign of $\\frac{\\partial \\alpha_k(k)}{\\partial s}$ to the elasticity of substitution between capital and effective labor."
     ]
    },
    {
     "cell_type": "markdown",
     "metadata": {},
     "source": [
      "#### Answer:\n",
      "\n",
      "We find that $\\frac{\\partial \\alpha_k(k)}{\\partial s} = \\left(\\frac{\\partial k}{\\partial s}\\right)\\left(\\frac{\\partial \\alpha_{k}(k)}{\\partial k}\\right) > 0 \\iff \\sigma > 1$ which means that capital and effective labor are substitutes; similarly, $\\frac{\\partial \\alpha_k(k)}{\\partial s} < 0 \\iff \\sigma < 1$ which means that capital and effective labor are complements; and $\\frac{\\partial \\alpha_k(k)}{\\partial s} = 0 \\iff \\sigma = 1$ which means that production function is Cobb-Douglas. "
     ]
    },
    {
     "cell_type": "markdown",
     "metadata": {},
     "source": [
      "### (15 points) Part p)\n",
      "\n",
      "The code in the cell below regresses $\\alpha_k(k)$ on the investment's share of GDP for the U.S., $s$ during two different time periods: 1950-1970 and 1970-2011. Can you \"explain\" these pattern using your result from part o)?"
     ]
    },
    {
     "cell_type": "code",
     "collapsed": false,
     "input": [
      "fig = plt.figure(figsize=(8,6))\n",
      "ax1 = fig.add_subplot(121)\n",
      "ax2 = fig.add_subplot(122)\n",
      "\n",
      "# capital's share for US (pre-1970)\n",
      "y = 1 - model.data.labsh.loc[:1970]\n",
      "\n",
      "# savings rate for US (pre-1970)\n",
      "x = model.data.csh_i.loc[:1970]\n",
      "\n",
      "# regress capital's share on savings rate \n",
      "res1   = pd.ols(y=y, x=x)\n",
      "\n",
      "ax1.scatter(x, y)\n",
      "ax1.set_xlabel('s', family='serif', fontsize=15)\n",
      "ax1.set_ylabel(r'$\\alpha_k(k)$', fontsize=15, family='serif', rotation='horizontal')\n",
      "ax1.set_title('U.S. pre-1970', family='serif', fontsize=15)\n",
      "\n",
      "# plot regression line pre-1970\n",
      "grid = np.linspace(0.15, 0.25, 100)\n",
      "ax1.plot(grid, res1.beta[1] + res1.beta[0] * grid, 'r')\n",
      "\n",
      "# capital's share for US (post-1970)\n",
      "y = 1 - model.data.labsh.loc[1970:]\n",
      "\n",
      "# savings rate for US (post-1970)\n",
      "x = model.data.csh_i.loc[1970:]\n",
      "\n",
      "# regress capital's share on savings rate post-1970\n",
      "res2   = pd.ols(y=y, x=x)\n",
      "\n",
      "ax2.scatter(x, y)\n",
      "ax2.set_xlabel('s', family='serif', fontsize=15)\n",
      "ax2.set_title('U.S. post-1970', family='serif', fontsize=15)\n",
      "\n",
      "# plot regression line post-1970\n",
      "grid = np.linspace(0.15, 0.25, 100)\n",
      "ax2.plot(grid, res2.beta[1] + res2.beta[0] * grid, 'r')\n",
      "\n",
      "fig.suptitle(\"Patterns in capital's share for the U.S?\", x=0.5, y=1.05, \n",
      "             fontsize=20, family='serif')\n",
      "fig.tight_layout()\n",
      "plt.show()"
     ],
     "language": "python",
     "metadata": {},
     "outputs": [
      {
       "metadata": {},
       "output_type": "display_data",
       "png": "[encoded data removed]",
       "text": [
        "<matplotlib.figure.Figure at 0xb7b2e70>"
       ]
      }
     ],
     "prompt_number": 18
    },
    {
     "cell_type": "code",
     "collapsed": false,
     "input": [
      "# summary of the regression results for 1950-1970\n",
      "print res1"
     ],
     "language": "python",
     "metadata": {},
     "outputs": [
      {
       "output_type": "stream",
       "stream": "stdout",
       "text": [
        "\n",
        "-------------------------Summary of Regression Analysis-------------------------\n",
        "\n",
        "Formula: Y ~ <x> + <intercept>\n",
        "\n",
        "Number of Observations:         21\n",
        "Number of Degrees of Freedom:   2\n",
        "\n",
        "R-squared:         0.2033\n",
        "Adj R-squared:     0.1613\n",
        "\n",
        "Rmse:              0.0087\n",
        "\n",
        "F-stat (1, 19):     4.8476, p-value:     0.0402\n",
        "\n",
        "Degrees of Freedom: model 1, resid 19\n",
        "\n",
        "-----------------------Summary of Estimated Coefficients------------------------\n",
        "      Variable       Coef    Std Err     t-stat    p-value    CI 2.5%   CI 97.5%\n",
        "--------------------------------------------------------------------------------\n",
        "             x     0.3420     0.1553       2.20     0.0402     0.0375     0.6465\n",
        "     intercept     0.2794     0.0307       9.12     0.0000     0.2193     0.3395\n",
        "---------------------------------End of Summary---------------------------------\n",
        "\n"
       ]
      }
     ],
     "prompt_number": 19
    },
    {
     "cell_type": "code",
     "collapsed": false,
     "input": [
      "# summary of the regression results for 1970-2011\n",
      "print res2"
     ],
     "language": "python",
     "metadata": {},
     "outputs": [
      {
       "output_type": "stream",
       "stream": "stdout",
       "text": [
        "\n",
        "-------------------------Summary of Regression Analysis-------------------------\n",
        "\n",
        "Formula: Y ~ <x> + <intercept>\n",
        "\n",
        "Number of Observations:         42\n",
        "Number of Degrees of Freedom:   2\n",
        "\n",
        "R-squared:         0.1669\n",
        "Adj R-squared:     0.1461\n",
        "\n",
        "Rmse:              0.0130\n",
        "\n",
        "F-stat (1, 40):     8.0161, p-value:     0.0072\n",
        "\n",
        "Degrees of Freedom: model 1, resid 40\n",
        "\n",
        "-----------------------Summary of Estimated Coefficients------------------------\n",
        "      Variable       Coef    Std Err     t-stat    p-value    CI 2.5%   CI 97.5%\n",
        "--------------------------------------------------------------------------------\n",
        "             x    -0.2736     0.0966      -2.83     0.0072    -0.4630    -0.0842\n",
        "     intercept     0.4104     0.0206      19.92     0.0000     0.3700     0.4508\n",
        "---------------------------------End of Summary---------------------------------\n",
        "\n"
       ]
      }
     ],
     "prompt_number": 20
    },
    {
     "cell_type": "markdown",
     "metadata": {},
     "source": [
      "#### Answer:\n",
      "\n",
      "Consistency with the Solow model requires that...\n",
      "\n",
      "1. Capital and effective labor must have been \"substitutes\" $\\implies \\sigma > 1,\\ \\rho > 0$ for the U.S. between 1950-1970.\n",
      "2. Capital and effective labor must be \"complements\" $\\implies \\sigma < 1,\\ \\rho < 0$ for the U.S. between 1970-present.\n",
      "\n",
      "One possible story is that prior to 1970 advances in technology led to increased automation of production process (i.e., technology replaced people with machines!); after 1970, however, advances in technology were primarily driven by rise of computers which require skilled labor to operate efficiently (i.e., technology replaced a worker  with a computer and a worker with skills to use it!).\n",
      "\n",
      "In case, you are wondering the values for $\\sigma$ calibrated to pre and post 1970's U.S. data are consistent with the above story. "
     ]
    },
    {
     "cell_type": "code",
     "collapsed": false,
     "input": [
      "# calibrate the model for 1950-1970\n",
      "growth.calibrate_ces(model, 'USA', x0=[0.9, 1.05], method='Nelder-Mead', bounds=(1950, 1970))\n",
      "\n",
      "# display the parameters...\n",
      "model.params"
     ],
     "language": "python",
     "metadata": {},
     "outputs": [
      {
       "output_type": "stream",
       "stream": "stdout",
       "text": [
        "Optimization terminated successfully.\n",
        "         Current function value: 0.069163\n",
        "         Iterations: 60\n",
        "         Function evaluations: 142\n"
       ]
      },
      {
       "metadata": {},
       "output_type": "pyout",
       "prompt_number": 41,
       "text": [
        "{'A0': 8.4013859704623151e-06,\n",
        " 'L0': 62.042847904603079,\n",
        " 'alpha': 0.92487514982243713,\n",
        " 'delta': 0.035311185,\n",
        " 'g': 0.24752114778989309,\n",
        " 'n': 0.013829716769131757,\n",
        " 's': 0.19696239,\n",
        " 'sigma': 1.0319048902747541}"
       ]
      }
     ],
     "prompt_number": 41
    },
    {
     "cell_type": "code",
     "collapsed": false,
     "input": [
      "# calibrate the model for 1970-2011\n",
      "growth.calibrate_ces(model, 'USA', x0=[0.3, 0.35], method='Nelder-Mead', bounds=(1970, 2011))\n",
      "\n",
      "# display the parameters...\n",
      "model.params"
     ],
     "language": "python",
     "metadata": {},
     "outputs": [
      {
       "output_type": "stream",
       "stream": "stdout",
       "text": [
        "Optimization terminated successfully.\n",
        "         Current function value: 0.177896\n",
        "         Iterations: 68\n",
        "         Function evaluations: 166\n"
       ]
      },
      {
       "metadata": {},
       "output_type": "pyout",
       "prompt_number": 42,
       "text": [
        "{'A0': 2144.4725557564207,\n",
        " 'L0': 66.08809869858429,\n",
        " 'alpha': 0.90974121093750004,\n",
        " 'delta': 0.038733795,\n",
        " 'g': 0.025180474313690131,\n",
        " 'n': 0.014127169172378055,\n",
        " 's': 0.21214846,\n",
        " 'sigma': 0.55418090820312549}"
       ]
      }
     ],
     "prompt_number": 42
    },
    {
     "cell_type": "code",
     "collapsed": false,
     "input": [],
     "language": "python",
     "metadata": {},
     "outputs": []
    }
   ],
   "metadata": {}
  }
 ]
}