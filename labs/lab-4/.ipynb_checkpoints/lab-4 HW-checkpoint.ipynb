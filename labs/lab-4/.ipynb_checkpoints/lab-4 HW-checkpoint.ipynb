{
 "metadata": {
  "name": ""
 },
 "nbformat": 3,
 "nbformat_minor": 0,
 "worksheets": [
  {
   "cells": [
    {
     "cell_type": "markdown",
     "metadata": {},
     "source": [
      "<div align='center' ><img src='https://raw.github.com/davidrpugh/computational-econ-labs/master/graduate/images/sgpe-logo.jpg' width=\\\"1200\\\" height=\\\"100\\\"></div>\n",
      "<div align='center' ><img src='https://raw.github.com/davidrpugh/computational-econ-labs/master/graduate/images/sirelogo.jpg' width=\\\"1200\\\" height=\\\"100\\\"></div>"
     ]
    },
    {
     "cell_type": "markdown",
     "metadata": {},
     "source": [
      "# Lab 4 HW: Playing around with the RBC model\n",
      "These questions should be answered using the `rbc_benchmark_HW.mod` file included with your lab materials."
     ]
    },
    {
     "cell_type": "code",
     "collapsed": false,
     "input": [
      "import numpy as np\n",
      "import matplotlib.pyplot as plt\n",
      "import matplotlib as mpl\n",
      "from mpl_toolkits.mplot3d import Axes3D\n",
      "from scipy import linalg, interpolate, io"
     ],
     "language": "python",
     "metadata": {},
     "outputs": [],
     "prompt_number": 1
    },
    {
     "cell_type": "markdown",
     "metadata": {},
     "source": [
      "# Question 1:"
     ]
    },
    {
     "cell_type": "markdown",
     "metadata": {},
     "source": [
      "## Part a) (5 points)\n",
      "\n",
      "The only difference between the `rbc_benchmark_HW.mod` file and the `rbc_benchmark.mod` file that we used in the lab is that in `rbc_benchmark_HW.mod` I have set $\\theta = 1.0$ and $\\gamma=1.0$. What does this parameterization imply about the preferences of the representative household?"
     ]
    },
    {
     "cell_type": "code",
     "collapsed": false,
     "input": [],
     "language": "python",
     "metadata": {},
     "outputs": []
    },
    {
     "cell_type": "markdown",
     "metadata": {},
     "source": [
      "## Part b) (10 points)\n",
      "\n",
      "Using `Dynare++` solve for a first-order approximation of the household decision rules (you should also specify the same command line options that we used in the lab) and load the resulting `rbc_benchmark_HW.mat` file in a Python."
     ]
    },
    {
     "cell_type": "code",
     "collapsed": false,
     "input": [
      "# insert your code here!"
     ],
     "language": "python",
     "metadata": {},
     "outputs": []
    },
    {
     "cell_type": "markdown",
     "metadata": {},
     "source": [
      "## Part c) (15 points)\n",
      "Using code provided in the lab, plot impulse response functions (IRFs) for output, consumption, and investment in response to a negative productivity shock. Discuss the economic mechanisms at work. You may wish to refer to the discussion of IRFs in Romer Chapter 5 and/or your lecture notes."
     ]
    },
    {
     "cell_type": "code",
     "collapsed": false,
     "input": [
      "# insert your code here!"
     ],
     "language": "python",
     "metadata": {},
     "outputs": []
    },
    {
     "cell_type": "markdown",
     "metadata": {},
     "source": [
      "## Part d) (10 points)\n",
      "Using code provided in the lab, plot IRFs for labor supply and the real wage for the model in response to a positive productivity shock.  Discuss the economic mechanisms at work. You may wish to refer to the discussion of IRFs in Romer Chapter 5 and/or your lecture notes."
     ]
    },
    {
     "cell_type": "code",
     "collapsed": false,
     "input": [
      "# insert your code here!"
     ],
     "language": "python",
     "metadata": {},
     "outputs": []
    },
    {
     "cell_type": "markdown",
     "metadata": {},
     "source": [
      "## Part e) (10 points)\n",
      "\n",
      "Using code provided in the lab, construct the correlation matrix for the model's endogenous variables. What is the correlation between the real wage and the labor supply? How does your result compare to results reported in Romer and discussed in your lecture notes?"
     ]
    },
    {
     "cell_type": "code",
     "collapsed": false,
     "input": [
      "# insert your code here!"
     ],
     "language": "python",
     "metadata": {},
     "outputs": []
    },
    {
     "cell_type": "markdown",
     "metadata": {},
     "source": [
      "# Question 2"
     ]
    },
    {
     "cell_type": "markdown",
     "metadata": {},
     "source": [
      "## Part a) (5 points)\n",
      "\n",
      "Open the `rbc_benchmark_HW.mod` file and change the value of $\\theta$ to $\\theta = 2.5$. Discuss the impact of this change on household preferences."
     ]
    },
    {
     "cell_type": "code",
     "collapsed": false,
     "input": [],
     "language": "python",
     "metadata": {},
     "outputs": []
    },
    {
     "cell_type": "markdown",
     "metadata": {},
     "source": [
      "## Part b) (10 points)\n",
      "\n",
      "Using `Dynare++` solve for a first-order approximation of the household decision rules (you should also specify the same command line options that we used in the lab) and load the resulting `rbc_benchmark_HW.mat` file into Python."
     ]
    },
    {
     "cell_type": "code",
     "collapsed": false,
     "input": [
      "# insert your code here!"
     ],
     "language": "python",
     "metadata": {},
     "outputs": []
    },
    {
     "cell_type": "markdown",
     "metadata": {},
     "source": [
      "## Part c) (15 points)\n",
      "Using code provided in the lab, plot IRFs for labor supply and the real wage for the model in response to a positive productivity shock. Discuss.  Discuss the economic mechanisms at work. You may wish to refer to the discussion of IRFs in Romer Chapter 5 and/or your lecture notes."
     ]
    },
    {
     "cell_type": "code",
     "collapsed": false,
     "input": [
      "# insert your code here!"
     ],
     "language": "python",
     "metadata": {},
     "outputs": []
    },
    {
     "cell_type": "markdown",
     "metadata": {},
     "source": [
      "## Part d) (20 points)\n",
      "\n",
      "Using code provided in the lab, construct the correlation matrix for the model's endogenous variables. What is the correlation between the real wage and the labor supply? How does your result compare to results reported in Romer and discussed in your lecture notes? Compare/contrast this result with your result from Question 1, Part e."
     ]
    },
    {
     "cell_type": "code",
     "collapsed": false,
     "input": [
      "# insert your code here!"
     ],
     "language": "python",
     "metadata": {},
     "outputs": []
    }
   ],
   "metadata": {}
  }
 ]
}