{
 "metadata": {
  "name": ""
 },
 "nbformat": 3,
 "nbformat_minor": 0,
 "worksheets": [
  {
   "cells": [
    {
     "cell_type": "markdown",
     "metadata": {},
     "source": [
      "<div align='center' ><img src='https://raw.github.com/davidrpugh/computational-econ-labs/master/graduate/images/sgpe-logo.jpg' width=\\\"1200\\\" height=\\\"100\\\"></div>\n",
      "<div align='center' ><img src='https://raw.github.com/davidrpugh/computational-econ-labs/master/graduate/images/sirelogo.jpg' width=\\\"1200\\\" height=\\\"100\\\"></div>"
     ]
    },
    {
     "cell_type": "markdown",
     "metadata": {},
     "source": [
      "# *Numerical Methods for Economists: RBC/DSGE modelling using `Dynare++`*"
     ]
    },
    {
     "cell_type": "code",
     "collapsed": false,
     "input": [
      "import numpy as np\n",
      "import matplotlib.pyplot as plt\n",
      "import matplotlib as mpl\n",
      "from mpl_toolkits.mplot3d import Axes3D\n",
      "from scipy import linalg, interpolate, io"
     ],
     "language": "python",
     "metadata": {},
     "outputs": []
    },
    {
     "cell_type": "markdown",
     "metadata": {},
     "source": [
      "# Task 1: How well do you know your single period utility function? RBC edition!\n",
      "\n",
      "This task will help you build some intuition for the intra-period trade-off between consumption and leisure that is the economic mechanism which propogates total factor productivity shocks in all basic real business cycle (RBC) models.  In this lab we will assume that the representative household has the following flow utility function: \n",
      "\n",
      "$$ u\\bigg(C_t, L_t\\bigg) = \\left(\\frac{C_t^{1 - \\theta} - 1}{1 - \\theta}\\right) + b \\left(\\frac{(1 - L_t)^{1 - \\omega} - 1}{1 - \\omega}\\right) $$\n",
      "\n",
      "where $C_{t}$, $L_{t}$ is labor (note that labor endowment has been normalized to 1!). The parameter $0 < \\theta$ is the coefficient of relative risk avesion, $0 < \\omega$ is the inverse inter-temporal elasticity of substitution between current and future leisure, and $0 < b$ controls the importance of leisure in determining flow utility. Note that if $\\theta = \\omega = 1$, then \n",
      "\n",
      "$$u\\bigg(C_t, L_t\\bigg) = \\ln C_t + b \\ln (1 - L_t) $$\n",
      "\n",
      "and we recover the flow utility function assumed by Romer and used in your lecture notes. Code this utility function in the cell below."
     ]
    },
    {
     "cell_type": "code",
     "collapsed": false,
     "input": [
      "def u(C, L):\n",
      "    \"\"\" \n",
      "    In the standard RBC model utility in each period is a function of \n",
      "    consumption, C, and leisure, 1 - L. Note that the representative\n",
      "    household's labor endowment has been normalized to 1 for simplicity. \n",
      "    \n",
      "    Arguments:\n",
      "    \n",
      "        C:      (array) Consumption\n",
      "        L:      (array) Labor supply\n",
      "    \n",
      "    Returns:\n",
      "    \n",
      "        utility: (array) Flow utility of the representative agent.\n",
      "        \n",
      "    \"\"\"\n",
      "    if theta == 1.0:\n",
      "        utility_consumption = # insert your code here!\n",
      "    else:\n",
      "        utility_consumption = # insert your code here!\n",
      "        \n",
      "    if omega == 1.0:\n",
      "        utility_leisure = # insert your code here!\n",
      "    else:\n",
      "        utility_leisure = # insert your code here!\n",
      "        \n",
      "    # flow utility is weighted sum of utilities from consumption and leisure\n",
      "    utility = utility_consumption + b * utility_leisure\n",
      "    \n",
      "    return utility"
     ],
     "language": "python",
     "metadata": {},
     "outputs": []
    },
    {
     "cell_type": "code",
     "collapsed": false,
     "input": [
      "# my solution\n",
      "def u(C, L):\n",
      "    \"\"\" \n",
      "    In the standard RBC model utility in each period is a function of \n",
      "    consumption, C, and leisure, 1 - L. Note that the representative\n",
      "    household's labor endowment has been normalized to 1 for simplicity. \n",
      "    \n",
      "    Arguments:\n",
      "    \n",
      "        C:      (array) Consumption\n",
      "        L:      (array) Labor supply\n",
      "    \n",
      "    Returns:\n",
      "    \n",
      "        utility: (array) Flow utility of the representative agent.\n",
      "        \n",
      "    \"\"\"\n",
      "    if theta == 1.0:\n",
      "        utility_consumption = np.log(C)\n",
      "    else:\n",
      "        utility_consumption = (C**(1 - theta) - 1) / (1 - theta)\n",
      "        \n",
      "    if omega == 1.0:\n",
      "        utility_leisure = np.log(1 - L)\n",
      "    else:\n",
      "        utility_leisure = ((1 - L)**(1 - omega) - 1) / (1 - omega)\n",
      "        \n",
      "    # flow utility is weighted sum of utilities from consumption and leisure\n",
      "    utility = utility_consumption + b * utility_leisure\n",
      "    \n",
      "    return utility"
     ],
     "language": "python",
     "metadata": {},
     "outputs": []
    },
    {
     "cell_type": "code",
     "collapsed": false,
     "input": [
      "# Choose some parameter values\n",
      "b, theta, omega = 2.0, 1.0, 1.0\n",
      "\n",
      "# Check that the utility function is working properly!\n",
      "u(np.exp(1), 0)"
     ],
     "language": "python",
     "metadata": {},
     "outputs": []
    },
    {
     "cell_type": "markdown",
     "metadata": {},
     "source": [
      "### Exercise:\n",
      "\n",
      "First, let's plot the utility surface using matplotlib 3D graphics functions for $b=2.5, \\theta=1.0, \\omega=1.0$. What to you notice about the shape of the utility surface? Rotate the plot by altering the `azim` argument of the `fig.gca()` function.  What do you notice about the marginal utilities of consumption and leisure?  Finally, change the parameters $b,\\theta,\\omega$. Try to anticipate how parameter changes will alter the utility surface. Do the actual changes confirm your expectations? Or not?"
     ]
    },
    {
     "cell_type": "code",
     "collapsed": false,
     "input": [
      "# create a new Figure object \n",
      "fig = plt.figure(figsize=(8,6))\n",
      "\n",
      "# create a 3D Axes object\n",
      "ax = fig.gca(projection='3d', elev=30, azim=310)\n",
      "\n",
      "# create a grid of (x,y) values which we will pass to function\n",
      "consumption = np.linspace(0, 10, 200)\n",
      "labor = np.linspace(0, 1, 20)\n",
      "L, C = np.meshgrid(labor, consumption)\n",
      "\n",
      "# Choose parameter values\n",
      "b, theta, omega = 5.0, 1.0, 1.0\n",
      "\n",
      "# we will actually plot output\n",
      "utility = u(C, L)\n",
      "\n",
      "# note the use of the new plot command!\n",
      "utility_surface = ax.plot_surface(L, C, utility, rstride=1, cstride=1, cmap=mpl.cm.terrain, \n",
      "                                  linewidth=0, vmin=-10, vmax=np.max(utility), \n",
      "                                  antialiased=False)\n",
      "\n",
      "# axes, labels, title, colorbar etc.\n",
      "ax.set_xlim(0, 1)\n",
      "ax.set_ylim(0, 10)\n",
      "ax.set_xlabel(r'Labor, $L_{t}$', fontsize=15, family='serif')\n",
      "ax.set_ylabel(r'Consumption, $C_{t}$', fontsize=15, family='serif')\n",
      "ax.set_title(r'$u(C,\\ L)$ for $b=%.2f, \\theta=%.2f, \\omega=%.2f$' %(b, theta, omega), \n",
      "             fontsize=20, family='serif')\n",
      "fig.colorbar(utility_surface, shrink=0.75, aspect=10)\n",
      "\n",
      "# save the plot\n",
      "plt.savefig('graphics/RBC-utility-surface.png')\n",
      "\n",
      "# display the plot!\n",
      "plt.show()"
     ],
     "language": "python",
     "metadata": {},
     "outputs": []
    },
    {
     "cell_type": "markdown",
     "metadata": {},
     "source": [
      "Next we plot utility \"slices\" for various values of the parameters $b$, $\\theta$, and $\\omega$. The code below fixed either consumption or labor supply and then loops over a fixed set of parameter values plotting \"slices\" of the utility surface. Example...\n",
      "\n",
      "    for b in [0.5, 1.0, 1.5, 1.0]:\n",
      "    \n",
      "        plot stuff!\n",
      "        \n",
      "Try changing the set of parameter values over which the code is looping. Can you explain in words how changes to each of the parameters impact household preferences?"
     ]
    },
    {
     "cell_type": "code",
     "collapsed": false,
     "input": [
      "# fix l_bar and c_bar\n",
      "L_bar, C_bar = 0.33, 1\n",
      "\n",
      "# create a new figure object!\n",
      "fig, axes = plt.subplots(1, 2, sharey=True, figsize=(12,6))\n",
      "ax1, ax2 = axes\n",
      "\n",
      "for b in [0.5, 1.0, 1.5, 2.0]:\n",
      "    \n",
      "    # first subplot will fix l at some constant l_bar and plot u(C, l_bar)\n",
      "    ax1.plot(consumption, u(consumption, L_bar), label='b=%g' %b)\n",
      "\n",
      "    # axes, labels, title. legend, etc\n",
      "    ax1.set_xlabel('Consumption, $C_{t}$', family='serif')\n",
      "    ax1.set_ylabel(r'$u(C_{t}, \\bar{L})$', rotation='horizontal')\n",
      "    ax1.set_title('A slice through $u(C_{t}, L_{t})$ at $L_{t}=%.2f$' %L_bar,\n",
      "                  family='serif')\n",
      "\n",
      "    # first subplot will fix l at some constant l_bar and plot u(C, l_bar)\n",
      "    ax2.plot(labor, u(C_bar, labor), label='b=%g' %b)\n",
      "\n",
      "    # axes, labels, title. legend, etc\n",
      "    ax2.set_xlabel('Labor, $L_{t}$', family='serif')\n",
      "    ax2.set_title('A slice through $u(C_{t}, L_{t})$ at $C_{t}=%.2f$' %C_bar,\n",
      "                  family='serif')\n",
      "    \n",
      "ax2.legend(loc=0, frameon=False, prop={'family':'serif'})\n",
      "\n",
      "# tighten things up and add a title\n",
      "plt.tight_layout()\n",
      "plt.suptitle('Utility slices for various $b$', y=1.05, fontsize=20, family='serif') \n",
      "plt.show()"
     ],
     "language": "python",
     "metadata": {},
     "outputs": []
    },
    {
     "cell_type": "code",
     "collapsed": false,
     "input": [
      "# fix l_bar and c_bar\n",
      "L_bar, C_bar = 0.33, 1\n",
      "\n",
      "# create a new figure object!\n",
      "fig, axes = plt.subplots(1, 2, sharey=True, figsize=(12,6))\n",
      "ax1, ax2 = axes\n",
      "\n",
      "for theta in [0.5, 1.0, 1.5, 2.0]:\n",
      "    \n",
      "    # first subplot will fix l at some constant l_bar and plot u(C, l_bar)\n",
      "    ax1.plot(consumption, u(consumption, L_bar), label=r'$\\theta=%g$' %theta)\n",
      "\n",
      "    # axes, labels, title. legend, etc\n",
      "    ax1.set_xlabel('Consumption, $C_{t}$', family='serif')\n",
      "    ax1.set_ylabel(r'$u(C_{t}, \\bar{L})$', rotation='horizontal')\n",
      "    ax1.set_title('A slice through $u(C_{t}, L_{t})$ at $L_{t}=%.2f$' %L_bar,\n",
      "                  family='serif')\n",
      "\n",
      "    # first subplot will fix l at some constant l_bar and plot u(C, l_bar)\n",
      "    ax2.plot(labor, u(C_bar, labor), label=r'$\\theta=%g$' %theta)\n",
      "\n",
      "    # axes, labels, title. legend, etc\n",
      "    ax2.set_xlabel('Labor, $L_{t}$', family='serif')\n",
      "    ax2.set_title('A slice through $u(C_{t}, L_{t})$ at $C_{t}=%.2f$' %C_bar,\n",
      "                  family='serif')\n",
      "    \n",
      "ax2.legend(loc=0, frameon=False, prop={'family':'serif'})\n",
      "\n",
      "# tighten things up and add a title\n",
      "plt.tight_layout()\n",
      "plt.suptitle(r'Utility slices for various $\\theta$', y=1.05, fontsize=20, family='serif') \n",
      "plt.show()"
     ],
     "language": "python",
     "metadata": {},
     "outputs": []
    },
    {
     "cell_type": "code",
     "collapsed": false,
     "input": [
      "# fix l_bar and c_bar\n",
      "L_bar, C_bar = 0.33, 1\n",
      "\n",
      "# create a new figure object!\n",
      "fig, axes = plt.subplots(1, 2, sharey=True, figsize=(12,6))\n",
      "ax1, ax2 = axes\n",
      "\n",
      "for omega in [0.5, 1.0, 1.5, 2.0]:\n",
      "    \n",
      "    # first subplot will fix l at some constant l_bar and plot u(C, l_bar)\n",
      "    ax1.plot(consumption, u(consumption, L_bar), label=r'$\\omega=%g$' %omega)\n",
      "\n",
      "    # axes, labels, title. legend, etc\n",
      "    ax1.set_xlabel('Consumption, $C_{t}$', family='serif')\n",
      "    ax1.set_ylabel(r'$u(C_{t}, \\bar{L})$', rotation='horizontal')\n",
      "    ax1.set_title('A slice through $u(C_{t}, L_{t})$ at $L_{t}=%.2f$' %L_bar,\n",
      "                  family='serif')\n",
      "\n",
      "    # first subplot will fix l at some constant l_bar and plot u(C, l_bar)\n",
      "    ax2.plot(labor, u(C_bar, labor), label=r'$\\omega=%g$' %omega)\n",
      "\n",
      "    # axes, labels, title. legend, etc\n",
      "    ax2.set_xlabel('Labor, $L_{t}$', family='serif')\n",
      "    ax2.set_title('A slice through $u(C_{t}, L_{t})$ at $C_{t}=%.2f$' %C_bar,\n",
      "                  family='serif')\n",
      "    \n",
      "ax2.legend(loc=0, frameon=False, prop={'family':'serif'})\n",
      "\n",
      "# tighten things up and add a title\n",
      "plt.tight_layout()\n",
      "plt.suptitle(r'Utility slices for various $\\omega$', y=1.05, fontsize=20, family='serif') \n",
      "plt.show()"
     ],
     "language": "python",
     "metadata": {},
     "outputs": []
    },
    {
     "cell_type": "markdown",
     "metadata": {},
     "source": [
      "# Task 2: Trade-off between consumption and leisure\n",
      "\n",
      "In order to graphically analyze the trade-off between consumption and leisure in two dimensions we need to be able to plot the set of indifference curves implied by the household's utility function.  The code in the cell below defines a creates a contour plot of the above 3D utility surface in two dimensions and then overlays a set of contour lines for various values of utility.  These contour lines are indifference curves!"
     ]
    },
    {
     "cell_type": "code",
     "collapsed": false,
     "input": [
      "fig = plt.figure(figsize=(8,6))\n",
      "ax = fig.add_subplot(111)\n",
      "\n",
      "# Force logarithmic preferences!\n",
      "b, theta, omega = 2.0, 1.0, 1.0\n",
      "\n",
      "# we will actually plot output\n",
      "utility = u(C, L)\n",
      "\n",
      "# create the contour plot\n",
      "im = ax.imshow(utility, interpolation='gaussian', origin='lower', cmap=mpl.cm.terrain, \n",
      "               vmin=-10, vmax=np.max(utility), extent=(0, 1, 0, 10), aspect=0.10)\n",
      "\n",
      "# demarcate the contours...\n",
      "CS = ax.contour(L, C, utility, np.linspace(-8, np.max(utility), 10), colors=np.repeat('k', 10), \n",
      "                linewidths=1, linestyles='solid')\n",
      "ax.clabel(CS, inline=1, fmt='%1.2f')\n",
      "\n",
      "# axes, labels, title, colorbar etc.\n",
      "ax.set_xlim(0, 1)\n",
      "ax.set_ylim(0, 10)\n",
      "ax.set_xlabel(r'Labor, $L_{t}$', fontsize=15, family='serif')\n",
      "ax.set_ylabel(r'Consumption, $C_{t}$', fontsize=15, family='serif')\n",
      "ax.set_title(r'$u(C,\\ L)$ for $b=%.2f, \\theta=%.2f, \\omega=%.2f$' %(b, theta, omega), \n",
      "             fontsize=20, family='serif')\n",
      "fig.colorbar(utility_surface, shrink=0.75, aspect=10)\n",
      "\n",
      "plt.show()"
     ],
     "language": "python",
     "metadata": {},
     "outputs": []
    },
    {
     "cell_type": "markdown",
     "metadata": {},
     "source": [
      "## Static model\n",
      "To see what the above preferences imply about the optimal choices of household labor supply and consumption, suppose the representative agent lives for only a single period and has no initial wealth (for simplicity also assume that the houshold has only one member). These assumptions imply that the houshold budget constraint is simply $C = WL$, where $W$ is the real wage. Furthermore, for simplicity, suppose that $\\theta=\\omega=1$. To find optimal consumption bundle, set up the Lagrangian: \n",
      "\n",
      "$$\\max_{C,L}\\ ln\\ C + b\\ ln(1 - L) + \\lambda(wL - C)$$\n",
      "\n",
      "FOC and the budget constraint yield a system of 3 equation in 3 unknowns $C, l, \\lambda$:\n",
      "\n",
      "$$\\frac{1}{C} - \\lambda = 0$$\n",
      "\n",
      "$$-\\frac{b}{1 - L} + \\lambda W = 0$$\n",
      "\n",
      "$$C = WL$$\n",
      "\n",
      "One can reduce the above to a 2 equation system in 2 unkowns by eliminating $\\lambda$:\n",
      "\n",
      "$$bC + WL = w$$\n",
      "\n",
      "$$C - WL = 0$$\n",
      "\n",
      "Or, equivalently \n",
      "\n",
      "$$\\begin{vmatrix} b & \\ W \\\\ 1 & -W\\end{vmatrix} \\begin{vmatrix}C \\\\ L \\end{vmatrix} = \\begin{vmatrix} W \\\\ 0 \\end{vmatrix}$$\n",
      "\n",
      "Note that this is a linear system of equations (which makes our life much easier!). Solving the system (via your favorite method for solving linear systems of equations) yields expressions for optimal choices of $C$ and $l$ as functions of prices (and model parameters):\n",
      "\n",
      "$$C(W; b) = \\frac{1}{1 + b}w$$\n",
      "\n",
      "$$L(W; b) = \\frac{1}{1 + b}$$\n",
      "\n",
      "$$\\lambda(W; b) = \\frac{1 + b}{W}$$\n",
      "\n",
      "Note that the household's labor supply choice is indepedent of the real wage, $W$.  This independence of labor supply and the real wage is a direct consequence of logarithmic utility and the assumption that houshold has no initial wealth and thus the income and substitution effects of a price change exactly offset one another.  Also, note that the household will choose to consum a fixed fraction of its lifetime net worth (which in the case is just the value of their labor endowment for a single period!).  This 'consume a fixed fraction of start of period net worth' decision rule is a direct consequence of logarithmic preferences.  The code in the cell below uses the linear equation solver from the SciPy linear algebra package to solve for the optimal consumption-labor bundle."
     ]
    },
    {
     "cell_type": "code",
     "collapsed": false,
     "input": [
      "# specify some model parameters\n",
      "b, W = 2.5, 10\n",
      "\n",
      "# Define the coefficient matrix, A, and vector of dependent values, d, for our two equation system\n",
      "A = np.array([[b, W], \n",
      "              [1, -W]]) \n",
      "d = np.array([[W], \n",
      "              [0]])\n",
      "\n",
      "# Solve the system of equations and assign the optimal choices for consumption and labor\n",
      "C_star, L_star = linalg.solve(A, d)[0,0], linalg.solve(A, d)[1,0] \n",
      "u_star = u(C_star, L_star)\n",
      "\n",
      "print \"Optimal choice of consumption:         \", C_star \n",
      "print \"Optimal choice of labor supply:        \", L_star\n",
      "print \"Utility associated with optimal bundle:\", u_star"
     ],
     "language": "python",
     "metadata": {},
     "outputs": []
    },
    {
     "cell_type": "markdown",
     "metadata": {},
     "source": [
      "We can show the tangency condition graphically by overlaying the budget constraint across the contour plot and then plotting the contour line/indifference curve for `u_star`. The indifference curve should be exactly tangent to the budget constraint at the optimal consumption-labor supply bundle."
     ]
    },
    {
     "cell_type": "code",
     "collapsed": false,
     "input": [
      "fig = plt.figure(figsize=(8,8))\n",
      "ax = fig.add_subplot(111)\n",
      "\n",
      "# we will actually plot output\n",
      "utility = u(C, L)\n",
      "\n",
      "# re-create the contour plot\n",
      "im = ax.imshow(utility, interpolation='gaussian', origin='lower', cmap=mpl.cm.terrain, \n",
      "                vmin=-10, vmax=np.max(utility), extent=(0, 1, 0, 10), aspect=0.10)\n",
      "\n",
      "# plot the budget constraint\n",
      "labor_supply = np.linspace(0, 1, 100)\n",
      "ax.plot(labor_supply, W * labor_supply, 'r-', label='$C=WL$')\n",
      "\n",
      "# demarcate the indifference curve...\n",
      "CS = ax.contour(L, C, utility, np.array([u_star]), colors='k', linewidths=1, \n",
      "                linestyles='solid')\n",
      "ax.clabel(CS, inline=1, fmt='%1.4f')\n",
      "\n",
      "# mark the optimal bundle\n",
      "ax.hlines(C_star, 0, L_star, linestyle='dashed')\n",
      "ax.vlines(L_star, 0, C_star, linestyle='dashed')\n",
      "\n",
      "# axes, labels, title, colorbar etc.\n",
      "ax.set_xlim(0, 1)\n",
      "ax.set_ylim(0, 10)\n",
      "ax.set_xlabel(r'Labor, $L_{t}$', fontsize=15, family='serif')\n",
      "ax.set_ylabel(r'Consumption, $C_{t}$', fontsize=15, family='serif')\n",
      "ax.set_title(r'$u(C,\\ L)$ for $b=%.2f, \\theta=%.2f, \\omega=%.2f$' %(b, theta, omega), \n",
      "             fontsize=20, family='serif')\n",
      "ax.legend(loc='best', frameon=False)\n",
      "fig.colorbar(utility_surface, shrink=0.75, aspect=10)\n",
      "\n",
      "plt.savefig('graphics/RBC contour plot for utility surface 1 period decision problem.png')\n",
      "plt.show()"
     ],
     "language": "python",
     "metadata": {},
     "outputs": []
    },
    {
     "cell_type": "markdown",
     "metadata": {},
     "source": [
      "## 2-period model\n",
      "The fact that the level of wage does not effect labor supply in a static model does not mean that variations in the real wage do not impact household labor supply when the time horizon is more than one period.  Suppose that the representative household lives for two periods and that there is no uncertainty about future prices.  Because of logarithmic preferences, the household will again follow the decision rule 'consume a fraction fixed fraction of the PDV of lifetime net worth.'  We can derive this decision rule formally as follows. First, note that the household budget constraint is \n",
      "\n",
      "$$C_{0} + \\frac{1}{1 + r_{1}}C_{1} = W_{0}L_{0} + \\frac{1}{1 + r_{1}}W_{1}L_{1}$$ \n",
      "\n",
      "where $r_{1}$ is the real interest rate.  The Lagrangian for the household's two period optimization problem is \n",
      "\n",
      "$$\\max_{C_0,L_0,C_1,L_1} ln(C_{0}) + b\\ ln(1-L_{0}) + \\beta[ln(C_{1}) + b\\ ln(1-L_{1})] + \\lambda\\left[W_{0}L_{0} + \\frac{1}{1 + r_{1}}W_{1}L_{1} - C_{0} - \\frac{1}{1 + r_{1}}C_{1}\\right]$$ \n",
      "\n",
      "The houshold now chooses sequences of consumption and labor (i.e., representative household chooses $C_{0}, C_{1}, L_{0}, L_{1}$). The FOC along with the budget constraint imply a system of 5 equations in the 5 unknowns $C_{0}, C_{1}, L_{0}, L_{1}, \\lambda$ as follows:\n",
      "\n",
      "$$\\frac{1}{C_{0}} - \\lambda = 0$$\n",
      "\n",
      "$$\\beta\\frac{1}{C_{1}} - \\lambda \\frac{1}{1+r_{1}}= 0$$\n",
      "\n",
      "$$-\\frac{b}{1 - L_{0}} + \\lambda W_{0} = 0$$\n",
      "\n",
      "$$-\\beta\\frac{b}{1 - L_{1}} + \\lambda \\frac{1}{1 + r_{1}}W_{1} = 0$$\n",
      "\n",
      "$$C_{0} + \\frac{1}{1 + r_{1}}C_{1} = W_{0}L_{0} + \\frac{1}{1 + r_{1}}W_{1}L_{1}$$\n",
      "\n",
      "This 5 equation system can be reduced (by eliminating the Lagrange multiplier $\\lambda$) to a linear system of 4 equations in 4 unknowns:\n",
      "\n",
      "$$\\begin{vmatrix} b & \\ 0 & \\ W_{0} & 0 \\\\\\ \\beta(1 + r_{1}) & -1 & 0 & 0 \\\\\\ 0 & \\ b & 0 & W_{1} \\\\\\ 1 & \\frac{1}{1 + r_{1}} & -W_{0} & -\\frac{1}{1+r_{1}}W_{1} \\end{vmatrix} \\begin{vmatrix}C_{0} \\\\\\ C_{1} \\\\\\ L_{0} \\\\\\ L_{1}\\end{vmatrix} = \\begin{vmatrix} W_{0} \\\\\\ 0 \\\\\\ W_{1} \\\\\\ 0\\end{vmatrix}$$\n",
      "\n",
      "The above system can be solved in closde form using some method like Cramer's rule/substitution etc to yield the following optimal sequences/policies for consumption and labor supply:\n",
      "\n",
      "$$C_{0} = \\frac{1}{(1 + b)(1 + \\beta)}\\left(W_{0} + \\frac{1}{1 + r_{1}}W_{1}\\right) $$\n",
      "\n",
      "$$C_{1} = \\left(\\frac{1 + r_{1}}{1 + b}\\right)\\left(\\frac{\\beta}{1 + \\beta}\\right)\\left(W_{0} + \\frac{1}{1 + r_{1}}W_{1}\\right) $$\n",
      "\n",
      "$$L_{0} = 1 - \\left(\\frac{b}{W_{0}}\\right)\\left(\\frac{1}{(1 + b)(1 + \\beta)}\\right)\\left(W_{0} + \\frac{1}{1 + r_{1}}W_{1}\\right) $$\n",
      "\n",
      "$$L_{1} = 1 - \\left(\\frac{b\\beta(1+r_{1})}{W_{1}}\\right) \\left(\\frac{1}{(1 + b)(1 + \\beta)}\\right)\\left(W_{0} + \\frac{1}{1 + r_{1}}W_{1}\\right) $$\n",
      "\n",
      "Several important points to note about the above optimal consumption and labor supply policies. Household's lifetime net worth \n",
      "\n",
      "$$W_{0} + \\frac{1}{1 + r_{1}}W_{1}$$\n",
      "\n",
      "is the present discounted value of its labor endowment. Household's lifetime net worth depends on the wages in BOTH periods and future interest rate.  This hints at a more general result: if the household has an infinite time horizon, lifetime net worth depends on the entire future path of wages and interest rates! In each period, houshold's consume a fraction of their lifetime net worth. Although the fraction changes in this simple two period model, if the household has an infinite horizon, the fraction of lifetime net worth consumed each period will be fixed and equal to \n",
      "\n",
      "$$\\frac{1}{(1 + b)(1 + \\beta + \\beta^2 + \\dots)}=\\frac{1 - \\beta}{1 + b}$$\n",
      "\n",
      "From the policy function for $L_{0}$, one can show that in order for the labor supply in period $t=0$ to be non-negative (which it must!), the following inequality must hold: \n",
      "\n",
      "$$\\left(\\frac{1}{1 + r_{1}}\\right)\\left(\\frac{W_{1}}{W{0}}\\right) \\lt \\frac{(1 + b)(1 + \\beta)}{b} - 1$$\n",
      "\n",
      "From the policy function for $L_{1}$, in order for the labor supply in period $t=1$ to be non-negative (which it must!), the following inequality must hold: \n",
      "\n",
      "$$(1 + r_{1})\\left(\\frac{W_{0}}{W_{1}}\\right) \\lt \\left(\\frac{1 + b}{b}\\right)\\left(\\frac{1 + \\beta}{\\beta}\\right) - 1$$\n",
      "\n",
      "The code in the cells below walks you through some exercises deisgned to build your intuition about the inter-period tradeoffs between consumption and labor supply. Please try the following:\n",
      "\n",
      "1. Execute the code in each of the remaining cells in the task and interpret the results.\n",
      "2. Return to the cell just below this one and change the value of $b$ (either higher or lower is fine).  Given your new value of $b$ try and predict the direction of the changes to the elements of the optimal sequences of $C$ and $L$. Check that the plots confirm your intuition. Remember, that a change in $b$ is changing the weight that the household places on utility from leisure relative to utility from consumption.\n",
      "3. Return to the cell just below this one and reset $b=2.5$.  Alter the prices (i.e., wages and the interest rate) so that the labor supply choice in period $t=0$ is close to zero and then regenerate and interpret the contour plots.\n",
      "4. Return to the cell just below this one and reset $b=2.5$.  Alter the prices so that the labor supply choice in period $t=1$ is close to zero and then regenerate and interpret the contour plots.   \n",
      "\n",
      "Follow along and be sure to ask questions if you get stuck!"
     ]
    },
    {
     "cell_type": "code",
     "collapsed": false,
     "input": [
      "# define parameter values\n",
      "b, beta, theta, omega = 2.5, 0.99, 1.0, 1.0\n",
      " \n",
      "# Specify some prices (i.e., wages and interest rates) all of which households take as given\n",
      "W0, W1, r1 = 5, 5, 0.025\n",
      "\n",
      "# Calculate the household's initial net worth (i.e., the PDV of his labor endowment) given these prices\n",
      "networth = W0 + (1 / (1 + r1)) * W1\n",
      "\n",
      "print \"PDV of Household's net worth (i.e., labor endowment):\", networth"
     ],
     "language": "python",
     "metadata": {},
     "outputs": []
    },
    {
     "cell_type": "code",
     "collapsed": false,
     "input": [
      "# is the non-negativity constraint on l0 satisfied by your chosen prices?\n",
      "(1 / (1 + r1)) * (W1 / W0) < ((((1 + b) * (1 + beta)) / b) - 1)"
     ],
     "language": "python",
     "metadata": {},
     "outputs": []
    },
    {
     "cell_type": "code",
     "collapsed": false,
     "input": [
      "# is the non-negativity constraint on l1 satisfied by your chosen prices?\n",
      "(1 + r1) * (W0 / W1) < (((1 + b) / b) * ((1 + beta) / beta) - 1)"
     ],
     "language": "python",
     "metadata": {},
     "outputs": []
    },
    {
     "cell_type": "markdown",
     "metadata": {},
     "source": [
      "Define the coefficient matrix, $A$, and vector of dependent values, $d$, for our four equation system (i.e, with two periods agent must choose $C_{0}$, $L_{0}$, $C_{1}$, and $L_{1}$)."
     ]
    },
    {
     "cell_type": "code",
     "collapsed": false,
     "input": [
      "A = np.array([[b, 0, W0, 0], \n",
      "              [beta * (1 + r1), -1, 0, 0], \n",
      "              [0, b, 0, W1], \n",
      "              [1, 1 / (1 + r1), -W0, -(1 / (1 + r1)) * W1]])\n",
      "\n",
      "d = np.array([[W0], \n",
      "              [0], \n",
      "              [W1], \n",
      "              [0]])\n",
      "\n",
      "# Solve the system of equations and assign the optimal choices for consumption and labor\n",
      "C_star0 = linalg.solve(A, d)[0,0]\n",
      "C_star1 = linalg.solve(A, d)[1,0] \n",
      "L_star0 = linalg.solve(A, d)[2,0]\n",
      "L_star1 = linalg.solve(A, d)[3,0]\n",
      "u_star0 = u(C_star0, L_star0)\n",
      "u_star1 = u(C_star1, L_star1)\n",
      "\n",
      "print \"Optimal C sequence:\", (C_star0, C_star1) \n",
      "print \"Optimal l sequence:\", (L_star0, L_star1) \n",
      "print \"Flow of utility:   \", (u_star0, u_star1)"
     ],
     "language": "python",
     "metadata": {},
     "outputs": []
    },
    {
     "cell_type": "markdown",
     "metadata": {},
     "source": [
      "Check that `C_star0`, as obtained above, equates to the optimal value of consumption in period t=0 derived analytically (use Python as a calculator to compute the analytic solution!). Then do the same for `C_star1`, `L_star0`, and `L_star1`."
     ]
    },
    {
     "cell_type": "code",
     "collapsed": false,
     "input": [
      "# my solution \n",
      "print \"Optimal C, t=0:\", (1 / ((1 + b) * (1 + beta))) * (W0 + (1 / (1 + r1)) * W1)\n",
      "print \"Optimal C, t=1:\", ((1 + r1) / (1 + b)) * (beta / (1 + beta)) * (W0 + (1 / (1 + r1)) * W1)\n",
      "print \"Optimal l, t=0:\", 1 - (b / W0) * (1 /((1 + b) * (1 + beta))) * (W0 + (1 / (1 + r1)) * W1)\n",
      "print \"Optimal l, t=1:\", 1 - ((b * beta * (1 + r1)) / W1) * (1 /((1 + b) * (1 + beta))) * (W0 + (1 / (1 + r1)) * W1)"
     ],
     "language": "python",
     "metadata": {},
     "outputs": []
    },
    {
     "cell_type": "markdown",
     "metadata": {},
     "source": [
      "Let's add the budget constraint in period $t=0$ as well as the contour line/indifference curve which satisfies the necessary tangency condition to the contour plot."
     ]
    },
    {
     "cell_type": "code",
     "collapsed": false,
     "input": [
      "fig = plt.figure(figsize=(8,8))\n",
      "ax = fig.add_subplot(111)\n",
      "\n",
      "# we will actually plot output\n",
      "utility = u(C, L)\n",
      "\n",
      "# re-create the contour plot\n",
      "im = ax.imshow(utility, interpolation='gaussian', origin='lower', cmap=mpl.cm.terrain, \n",
      "                vmin=-10, vmax=np.max(utility), extent=(0, 1, 0, 10), aspect=0.10)\n",
      "\n",
      "# plot the budget constraint\n",
      "labor_supply = np.linspace(0, 1, 100)\n",
      "ax.plot(labor_supply, W0 * labor_supply + (1 / (1 + r1)) * (W1 * L_star1 - C_star1), \n",
      "        color='r', label=r'$C_{0}=W_{0}L_{0} + \\frac{1}{1 + r_{1}}(W_{1}L_{1}^* - C_{1}^*)$')\n",
      "\n",
      "# demarcate the indifference curve...\n",
      "CS = ax.contour(L, C, utility, np.array([u_star0]), colors='k', linewidths=1, linestyles='solid')\n",
      "ax.clabel(CS, inline=1, fmt='%1.4f')\n",
      "\n",
      "# mark the optimal bundle\n",
      "ax.hlines(C_star0, 0, L_star0, linestyle='dashed')\n",
      "ax.vlines(L_star0, 0, C_star0, linestyle='dashed')\n",
      "\n",
      "# axes, labels, title, colorbar etc.\n",
      "ax.set_xlim(0, 1)\n",
      "ax.set_ylim(0, 10)\n",
      "ax.set_ylabel(r'Consumption, $C_{t}$', family='serif', fontsize=15)\n",
      "ax.set_xlabel(r'Labor, $L_{t}$', family='serif', fontsize=15)\n",
      "ax.set_title(r'Optimal bundle in period t=0 for $b=%.2f, \\beta=%.2f$' %(b, beta), \n",
      "             fontsize=15, family='serif')\n",
      "ax.legend(loc=4, frameon=False)\n",
      "fig.colorbar(utility_surface, shrink=0.75, aspect=10)\n",
      "\n",
      "plt.show()"
     ],
     "language": "python",
     "metadata": {},
     "outputs": []
    },
    {
     "cell_type": "markdown",
     "metadata": {},
     "source": [
      "Finally, we can plot the budget constraint for period $t=1$ and the indifference curve that is tangent with the budget constraint at the optimal consumption-labor bundle."
     ]
    },
    {
     "cell_type": "code",
     "collapsed": false,
     "input": [
      "fig = plt.figure(figsize=(8,8))\n",
      "ax = fig.add_subplot(111)\n",
      "\n",
      "# we will actually plot output\n",
      "utility = u(C, L)\n",
      "\n",
      "# re-create the contour plot\n",
      "im = ax.imshow(utility, interpolation='gaussian', origin='lower', cmap=mpl.cm.terrain, \n",
      "               vmin=-10, vmax=np.max(utility), extent=(0, 1, 0, 10), aspect=0.10)\n",
      "\n",
      "# plot the budget constraint\n",
      "labor_supply = np.linspace(0, 1, 100)\n",
      "ax.plot(labor_supply, W0 * labor_supply + (1 / (1 + r1)) * (W1 * L_star1 - C_star1), color='r', alpha=0.25)\n",
      "ax.plot(labor_supply, W1 * labor_supply + (1 + r1) * (W0 * L_star0 - C_star0), color='r',\n",
      "        label=r'$C_{1} = W_{1}L_{1} + (1 + r_{1})(W_{0}L_{0}^* - C_{0}^*)$')\n",
      "\n",
      "# demarcate the indifference curve...\n",
      "CS_0 = ax.contour(L, C, utility, np.array([u_star0]), colors='k', linewidths=1, linestyles='solid', alpha=0.25)\n",
      "CS_1 = ax.contour(L, C, utility, np.array([u_star1]), colors='k', linewidths=1, linestyles='solid')\n",
      "ax.clabel(CS_1, inline=1, fmt='%1.4f')\n",
      "\n",
      "# mark the optimal bundle\n",
      "ax.hlines(C_star1, 0, L_star1, linestyle='dashed')\n",
      "ax.vlines(L_star1, 0, C_star1, linestyle='dashed')\n",
      "\n",
      "# axes, labels, title, colorbar etc.\n",
      "ax.set_xlim(0, 1)\n",
      "ax.set_ylim(0, 10)\n",
      "ax.set_ylabel(r'Consumption, $C_{t}$', family='serif', fontsize=15)\n",
      "ax.set_xlabel(r'Labor, $L_{t}$', family='serif', fontsize=15)\n",
      "ax.set_title(r'Optimal bundle in period t=1 for $b=%.2f, \\beta=%.2f$' %(b, beta),\n",
      "             family='serif', fontsize=15)\n",
      "ax.legend(loc=4, frameon=False)\n",
      "fig.colorbar(utility_surface, shrink=0.75, aspect=10)\n",
      "\n",
      "plt.show()"
     ],
     "language": "python",
     "metadata": {},
     "outputs": []
    },
    {
     "cell_type": "markdown",
     "metadata": {},
     "source": [
      "# Task 3: Solving a Real Business Cycle (RBC) Model using `Dynare++`\n",
      "\n",
      "The remainder of the lab focuses on solving and analyzing the RBC/DSGE models using perturbation methods implemented in [`Dynare++`](http://www.dynare.org/documentation-and-support/dynarepp). Perturbation methods are *local* approximation methods: our strategy will be to pick a point in the state space of the model around which to approximate the decision rules of the representative household. Our solution will only be valid/accurate within some small neighborhood of our chosen point. Perturbation methods are fundamentally different from, say, numerical dynamic programming methods which can be used to find *global* approximations to the decision rules of the representative household.\n",
      "\n",
      "Those interested in the mathematical machinery of perturbation methods should consult Chapters 13 and 14 of [*Numerical Methods for Economists*](http://www.amazon.co.uk/Numerical-Methods-Economics-Kenneth-Judd/dp/0262100711) and the papers included in the literature folder."
     ]
    },
    {
     "cell_type": "markdown",
     "metadata": {},
     "source": [
      "## A basic RBC model\n",
      "\n",
      "### Firms\n",
      "\n",
      "Representative firm has a constant returns to scale (CRTS), constant elasticity of substitution (CES) production function.\n",
      "\n",
      "$$ Y_t = F(Z_t, K_t, L_t) = e^{Z_t} \\Bigg[\\alpha K_{t-1}^{\\frac{\\sigma - 1}{\\sigma}} + (1 - \\alpha) L_t^{\\frac{\\sigma - 1}{\\sigma}}\\Bigg]^{\\frac{\\sigma}{\\sigma-1}} \\tag{3.1}$$\n",
      "\n",
      "Total factor productivity shocks, $Z_t$, are assumed to follow a first-order autoregressive process:\n",
      "\n",
      "$$Z_t = \\rho_z Z_{t-1} + \\epsilon_{z,t} \\tag{3.2}$$ \n",
      "\n",
      "where the disturbance, $\\epsilon_z$, is assumed to be Gaussian with zero mean and standard deviation $\\sigma_z$: $\\epsilon_z \\sim N(0, \\sigma_z)$.  All markets are competitive and therefore factors are paid their respective marginal products.\n",
      "\n",
      "\\begin{align}\n",
      "W_t =& \\frac{\\partial F}{\\partial L_t} = \\left(\\frac{(1 - \\alpha)L_t^{-\\frac{1}{\\sigma}}}{\\alpha K_{t-1}^{\\frac{\\sigma - 1}{\\sigma}} + (1 - \\alpha) L_t^{\\frac{\\sigma - 1}{\\sigma}}}\\right) Y_t \\tag{3.3} \\\\\n",
      "r_t =& \\frac{\\partial F}{\\partial K_t} = \\left(\\frac{\\alpha K_t^{-\\frac{1}{\\sigma}}}{\\alpha K_{t-1}^{\\frac{\\sigma - 1}{\\sigma}} + (1 - \\alpha) L_t^{\\frac{\\sigma - 1}{\\sigma}}}\\right) Y_t \\tag{3.4}\n",
      "\\end{align}\n",
      "\n",
      "Joint assumption of constant returns to scale and perfect competition implies that representative firm earns zero profits.\n",
      "\n",
      "$$ Y_t = W_t L_t + r_tK_{t-1} \\tag{3.5}$$\n",
      "\n",
      "\n",
      "### Households\n",
      "\n",
      "#### Preferences\n",
      "The lifetime utility of the representative household is:\n",
      "\n",
      "$$ U = E\\left\\{\\sum_{t=0}^{\\infty} \\beta^t u\\bigg(C_t, L_t\\bigg)\\right\\} $$\n",
      "\n",
      "where the flow utility function has the following form.\n",
      "\n",
      "$$ u\\bigg(C_t, L_t\\bigg) = \\left(\\frac{C_t^{1 - \\theta} - 1}{1 - \\theta}\\right) + b \\left(\\frac{(1 - L_t)^{1 - \\omega} - 1}{1 - \\omega}\\right) $$\n",
      "\n",
      "The parameter $0 < \\theta$ is the coefficient of relative risk avesion, $0 < \\omega$ is the inverse inter-temporal elasticity of substitution between current and future leisure, and $0 < b$ controls the importance of leisure in determining flow utility. Note that if $\\theta = \\omega = 1$, then \n",
      "\n",
      "$$u\\bigg(C_t, L_t\\bigg) = \\ln C_t + b \\ln (1 - L_t) $$\n",
      "\n",
      "and we recover the flow utility function assumed by Romer and used in your lecture notes.\n",
      "\n",
      "The household has two sources of income: labor income, $W_tL_t$, and capital income, $r_t K_{t-1}$. The household must divide its total income between consumption and investment:\n",
      "\n",
      "$$ C_t + I_t = W_tL_t + r_tK_{t-1} $$\n",
      "\n",
      "The household's initial stock of capital, $K_0$, is assumed given, and its capital holdings evolve as follows.\n",
      "\n",
      "$$ K_t = (1 - \\delta)K_{t-1} + I_t $$\n",
      "\n",
      "The representative household's objective is to solve:\n",
      "\n",
      "$$ \\max_{\\{C\\}_{t=0}^{\\infty}, \\{L\\}_{t=0}^{\\infty}} E\\left\\{\\sum_{t=0}^{\\infty} \\beta^t\\Bigg[\\left(\\frac{C_t^{1 - \\theta} - 1}{1 - \n",
      "\\theta}\\right) + b \\left(\\frac{(1 - L_t)^{1 - \\omega} - 1}{1 - \\omega}\\right)\\Bigg]\\right\\} $$\n",
      "\n",
      "subject to the flow budget constraint and the equation of motion for capital stock. \n",
      "\n",
      "\\begin{align}\n",
      "C_t + I_t =& W_tL_t + r_tK_{t-1} \\tag{3.6a}\\\\\n",
      "K_t =& (1 - \\delta)K_{t-1} + I_t \\tag{3.6b}\n",
      "\\end{align}\n",
      "\n",
      "#### Solution to household's problem\n",
      "\n",
      "To solve the household's problem, combine the two constraints as follows:\n",
      "\n",
      "$$ K_t = W_tL_t + (1 + r_t - \\delta)K_{t-1} - C_t $$\n",
      "\n",
      "and then form the Lagrangian.\n",
      "\n",
      "$$ \\mathcal{L} \\equiv E\\left\\{\\sum_{t=0}^{\\infty} \\beta^t\\Bigg[\\left(\\frac{C_t^{1 - \\theta} - 1}{1 - \n",
      "\\theta}\\right) + b \\left(\\frac{(1 - L_t)^{1 - \\omega} - 1}{1 - \\omega}\\right) + \\lambda_t\\bigg[W_tL_t + (1 + r_t - \\delta)K_{t-1} - C_t - K_t\\bigg]\\Bigg]\\right\\} $$\n",
      "\n",
      "First-order necessary conditions are\n",
      "\n",
      "\\begin{align}\n",
      "\\frac{\\partial \\mathcal{L}}{\\partial C_t} = 0 \\implies& C_t^{-\\theta} = \\lambda_t \\\\ \n",
      "\\frac{\\partial \\mathcal{L}}{\\partial L_t} = 0 \\implies& b(1 - L_t)^{-\\omega} = W_t\\lambda_t\\\\\n",
      "\\frac{\\partial \\mathcal{L}}{\\partial K_t} = 0 \\implies& \\lambda_t = \\beta E_t\\bigg\\{\\lambda_{t+1}(1 + r_{t+1} - \\delta)\\bigg\\} \n",
      "\\end{align}\n",
      "\n",
      "Combine the first two FOCs and we get the intra-temporal trade-off between consumption and labor. Optimal choice of $C_t$ and $L_t$ should equate the benefit from an extra unit of leisure, $b(1-L_t)^{-\\omega}$, with the benefit from consuming $W_t$ units of the consumption good, $W_tC_t^{-\\theta}$. \n",
      "\n",
      "$$ b(1 - L_t)^{-\\omega} = W_tC_t^{-\\theta} \\tag{3.7}$$\n",
      "\n",
      "Combine the first and the third FOCs and we get the inter-temporal trade-off between consumption (i.e., the consumption Euler equation). As usual, the consumption Euler equation implies that the optimal allocation of $C$ across time equates the benefit from an additional unit of consumption today with the *expected* benefit from and consuming that additional unit tomorrow.\n",
      "\n",
      "$$ C_t^{-\\theta} = \\beta E_t\\bigg\\{C_{t+1}^{-\\theta}(1 + r_{t+1} - \\delta)\\bigg\\} \\tag{3.8}$$"
     ]
    },
    {
     "cell_type": "markdown",
     "metadata": {},
     "source": [
      "### Model summary\n",
      "\n",
      "#### Equations\n",
      "Collecting the numbered equations from above yields the following system of 9 non-linear equations (only one of which involves computing expectations) in the 8 unknowns $Y, Z, K, L, W, r, C, I$. \n",
      "\n",
      "\\begin{align}\n",
      "0 =& Y_t - e^{Z_t} \\Bigg[\\alpha K_{t-1}^{\\frac{\\sigma - 1}{\\sigma}} + (1 - \\alpha) L_t^{\\frac{\\sigma - 1}{\\sigma}}\\Bigg]^{\\frac{\\sigma}{\\sigma-1}} \\tag{3.1} \\\\ \\\\\n",
      "0 =& Z_t  - \\rho_z Z_{t-1} - \\epsilon_{z,t} \\tag{3.2} \\\\ \\\\\n",
      "0 =& W_t - \\left(\\frac{(1 - \\alpha)L_t^{-\\frac{1}{\\sigma}}}{\\alpha K_{t-1}^{\\frac{\\sigma - 1}{\\sigma}} + (1 - \\alpha) L_t^{\\frac{\\sigma - 1}{\\sigma}}}\\right) Y_t \\tag{3.3} \\\\ \\\\\n",
      "0 =& r_t  - \\left(\\frac{\\alpha K_t^{-\\frac{1}{\\sigma}}}{\\alpha K_{t-1}^{\\frac{\\sigma - 1}{\\sigma}} + (1 - \\alpha) L_t^{\\frac{\\sigma - 1}{\\sigma}}}\\right) Y_t \\tag{3.4} \\\\ \\\\\n",
      "0 =& Y_t  - W_t L_t - r_tK_{t-1} \\tag{3.5} \\\\ \\\\\n",
      "0 =& C_t + I_t  - W_tL_t - r_tK_{t-1} \\tag{3.6a}\\\\ \\\\\n",
      "0 =& K_t  - (1 - \\delta)K_{t-1} - I_t \\tag{3.6b} \\\\ \\\\\n",
      "0 =& b(1 - L_t)^{-\\omega} - W_tC_t^{-\\theta} \\tag{3.7} \\\\ \\\\\n",
      "0 =& C_t^{-\\theta} - \\beta E_t\\bigg\\{C_{t+1}^{-\\theta}(1 + r_{t+1} - \\delta)\\bigg\\} \\tag{3.8}\n",
      "\\end{align}\n",
      "\n",
      "Wait a minute! If we have 9 equations, but only 8 unknowns doesn't this mean we have an over-identified system? Yes! Equation 3.5, which defines the zero profit condition, is redundant. Why include a redundant equation? We will use equation 3.5 as a \"sanity check\" to confirm that we have coded the model into `Dynare++` correctly: we know that profits of the representative firm must be zero in every period, thus define an extra variable called `zero_profit` and check whether `zero_profit` $\\equiv Y_t - W_t L_t - r_tK_{t-1} = 0$ holds for our solution.\n",
      "\n",
      "#### Parameters\n",
      "In order to solve the model, we will need to specify values for the following 9 parameters:\n",
      "\n",
      "* $0 < \\beta < 1$: Representative household's discount factor;\n",
      "* $0 < \\theta <\\infty$: Representative household's coefficient of relative risk aversion;\n",
      "* $0 < \\omega < \\infty$: Representative household's inverse of the inter-temporal elasticity of substitution of leisure;\n",
      "* $0 < b < \\infty$: Controls the importance of utility from leisure for the representative household;\n",
      "* $0 < \\delta < 1$: Depreciation factor for physical capital;\n",
      "* $0 < \\alpha < 1$: Controls the relative importance of capital and labor in production process;\n",
      "* $0 < \\sigma < \\infty$: Elasticity of substitution between capital and labor in production process;\n",
      "* $-1 < \\rho_z < 1$: Correlation of productivity process;\n",
      "* $0 < \\sigma_z < \\infty$: Standard deviation of productivity shocks.\n",
      "\n",
      "Because I want to focus on the numerical techniques used to solve RBC/DSGE models, we will simple specify values for these parameters and not bother estimating them using data. However, you should be aware taht there is an enormous literature on Bayesian and Maximum Likelihood methods for estimating DSGE models. Those interested in learning how to estimate DSGE modles should start by reading the Dynare [user's guide](http://www.dynare.org/documentation-and-support/user-guide/Dynare-UserGuide-WebBeta.pdf), [reference manual](http://www.dynare.org/wp-repo/dynarewp001.pdf), and citations therein. "
     ]
    },
    {
     "cell_type": "markdown",
     "metadata": {},
     "source": [
      "### Coding the model file\n",
      "\n",
      "Both `Dynare` and `Dynare++` require us to create a text file summarizing the model that we wish to solve. The `Dynare++` model file generally involves three commands that tell the program what are the model's variables, which of them are endogenous (and which are exogenous) and what are the model parameters.\n",
      "\n",
      "The commands are:\n",
      "\n",
      "* `var` starts a comma separated list of endogenous variables.\n",
      "* `varexo` starts a comma separated list list of exogenous variables that will be shocked.\n",
      "* `parameters` starts a comma separated list of parameters.\n",
      "\n",
      "**Example syntax:**\n",
      "\n",
      "    var Y, K, L, C, I, r, W, Z, zero_profit;\n",
      "    varexo eps_z;\n",
      "    parameters b, alpha, beta, delta, sigma, theta, omega, rho_z, sigma_z;\n",
      "\n",
      "#### Exercise:\n",
      "\n",
      "Create a new text file in your working directory and add the lines of code from the first example (i.e., the lines which define the endogenous and exogenous variables and the parameters) to the file. When you are done, save the file as `rbc_benchmark.mod`.\n",
      "\n",
      "** N.B.: Each line of the model file must end with a semi-colon. The most common syntax error when writing model files is to forget to end the line with a semi-colon!**"
     ]
    },
    {
     "cell_type": "code",
     "collapsed": false,
     "input": [],
     "language": "python",
     "metadata": {},
     "outputs": []
    },
    {
     "cell_type": "markdown",
     "metadata": {},
     "source": [
      "We will also need to specify values for our parameters. I prefer to specify the values of each parameter on a separate line. I always include a short comment describing each parameter.\n",
      "\n",
      "**Example syntax:**\n",
      "\n",
      "    // discount factor\n",
      "    beta  = 0.9896;\n",
      "\n",
      "#### Exercise:\n",
      "\n",
      "Open the file `rbc_benchmark.mod`. Add the code from the example above which specifies a value for the discount factor. Using the example syntax as a guide, add additional lines of code to the text file defining values for the remaining parameters of the model. \n",
      "\n",
      "* Discount factor, $\\beta  = 0.9896$\n",
      "* Coefficient of relative risk aversion, $\\theta = 2.5$\n",
      "* Inverse elasticity of substitution for leisure, $\\omega = 1.5$\n",
      "* Weight for leisure in utility, $b = 2.0$\n",
      "* Elasticity of substitution between capital and labor, $\\sigma = 0.75$\n",
      "* Relative weight of capital in production, $\\alpha = 0.40$\n",
      "* Depreciation rate of capital, $\\delta = 0.025$\n",
      "* Persistence of productivity process, $\\rho_z = 0.95$\n",
      "\n",
      "** N.B.: Each line of the model file must end with a semi-colon. The most common syntax error when writing model files is to forget to end the line with a semi-colon!**"
     ]
    },
    {
     "cell_type": "code",
     "collapsed": false,
     "input": [],
     "language": "python",
     "metadata": {},
     "outputs": []
    },
    {
     "cell_type": "markdown",
     "metadata": {},
     "source": [
      "The model's equations are formulated in the same way in both `Dynare` and `Dynare++`: we specifiy a \"model block\" by inserting the following lines into our model file...  \n",
      "\n",
      "    model;\n",
      "    \n",
      "    // INSERT YOUR MODEL'S EQUATIONS HERE !\n",
      "    \n",
      "    end;\n",
      "    \n",
      "The keywords `model;` and `end;` are how the program is able to find and then parse our model equations. Model equations can be specified as mathematical expressions using the following functions and operators:\n",
      "\n",
      "* Binary operators: `+ - * / ^`.\n",
      "* Unary plus and minus as in `a = -3;` and `a = +3;` respectively.\n",
      "* Unary mathematical functions: `log exp sin cos tan sqrt`, where the logarithm has a natural base\n",
      "\n",
      "The `Dynare++` manual also lists a symbolic differentiation operator `diff(expr,symbol)`, where `expr` is a mathematical expression and `symbol` is a unary symbol (i.e., a variable or a parameter); for example \n",
      "\n",
      "    diff(A*K(-1)^alpha*L^(1-alpha),K(-1))\n",
      "\n",
      "is internally expanded as \n",
      "\n",
      "    A*alpha*K(-1)^(alpha-1)*L^(1-alpha).\n",
      "    \n",
      "However, I have not been able to get model files to compile when using the `diff` operator.\n",
      "\n",
      "**Example syntax:**\n",
      "\n",
      "    // consumption Euler equation (i.e., equation 3.7)\n",
      "    C^(-theta) = beta * C(+1)^(-theta) * (1 + r(+1) - delta);\n",
      "\n",
      "In `Dynare` and `Dynare++`, the timing of each variable reflects the period in which that variable is decided. For instance, capital stock is not decided today, but yesterday (recall that it is a function of yesterday's investment and capital stock); it is what we call in the jargon a \"predetermined variable.\" Thus, even though in Romer's textbook (and in your lecture notes and in many published papers!) the equation of motion for capital is written \n",
      "\n",
      "$$ K_{t+1} = (1 - \\delta)K_t + I_t$$\n",
      "\n",
      "in order to use `Dynare` and `Dynare++` we must re-write this equation as\n",
      "\n",
      "$$ K_t = (1 - \\delta)K_{t-1} + I_t$$\n",
      "\n",
      "which we would code in our model file as\n",
      "\n",
      "    // household evolution of capital (i.e., equation 3.6b)\n",
      "    K = (1 - delta) * K(-1) + I;\n",
      "\n",
      "A slightly more roundabout way to explain the same thing is that for stock variables, we must use a \"stock at the end of the period\" convention. It is investment during period $t$ that sets stock at the end of period $t$. Again a lot of papers use the \"stock at the beginning of the period\" convention. There is nothing wrong with this! But if you want to use either `Dynare` or `Dynare++` to solve such a model then you will need to re-write the model using \"stock at the end of the period\" convention.\n",
      "\n",
      "#### Exercise:\n",
      "\n",
      "Open the file `rbc_benchmark.mod`. Add the model expressions for the consumption Euler equation and the equation of motion for capital stock from the example above. Using the example syntax as a guide, add additional expressions for each of the model equations. When you are finished you should have 9 equations: one for each of our 9 declared variables! Save your changes to the file `rbc_benchmark.mod`\n",
      "\n",
      "** N.B.: Each line of the model file must end with a semi-colon. The most common syntax error when writing model files is to forget to end the line with a semi-colon!**"
     ]
    },
    {
     "cell_type": "code",
     "collapsed": false,
     "input": [],
     "language": "python",
     "metadata": {},
     "outputs": []
    },
    {
     "cell_type": "markdown",
     "metadata": {},
     "source": [
      "### Deterministic steady state\n",
      "In order to solve our RBC model using perturbation methods, we need to specify a point in state space around which we will approximate the decision rules of the representative household. By convention, NOT necessity, most researchers choose to approximate the decision rules around the deterministic steady state of the model. By definition, the deterministic steady state of the model is the point in state space where the model would remain in the absence of shocks: \n",
      "\n",
      "$$\\epsilon_{z,t} = 0\\ \\forall\\ t\\ \\implies Z_t = 0\\ \\forall\\ t. $$\n",
      "\n",
      "To solve for the deterministic steady state of our RBC model we need to find values $\\overline{Y}, \\overline{K}, \\overline{L}, \\overline{W}, \\overline{r}, \\overline{C}, \\overline{I}$ that jointy solve the following system of non-linear equations.\n",
      "\n",
      "\\begin{align}\n",
      "0 =& \\overline{Y} - \\Bigg[\\alpha \\overline{K}^{\\frac{\\sigma - 1}{\\sigma}} + (1 - \\alpha) \\overline{L}^{\\frac{\\sigma - 1}{\\sigma}}\\Bigg]^{\\frac{\\sigma}{\\sigma-1}} \\tag{3.9}\\\\ \\\\\n",
      "0 =& \\overline{W} - \\left(\\frac{(1 - \\alpha)\\overline{L}^{-\\frac{1}{\\sigma}}}{\\alpha \\overline{K}^{\\frac{\\sigma - 1}{\\sigma}} + (1 - \\alpha) \\overline{L}^{\\frac{\\sigma - 1}{\\sigma}}}\\right) \\overline{Y}  \\tag{3.10}\\\\ \\\\\n",
      "0 =& \\overline{r} - \\left(\\frac{\\alpha \\overline{K}^{-\\frac{1}{\\sigma}}}{\\alpha \\overline{K}^{\\frac{\\sigma - 1}{\\sigma}} + (1 - \\alpha) \\overline{L}^{\\frac{\\sigma - 1}{\\sigma}}}\\right) \\overline{Y}  \\tag{3.11}\\\\ \\\\\n",
      "0 =& \\overline{Y} - \\overline{C} - \\overline{I}  \\tag{3.12}\\\\ \\\\\n",
      "0 =& \\overline{K} - (1 - \\delta)\\overline{K} - \\overline{I}  \\tag{3.13}\\\\ \\\\\n",
      "0 =& b(1 - \\overline{L})^{-\\omega} - \\overline{W}\\overline{C}^{-\\theta}  \\tag{3.14}\\\\ \\\\\n",
      "0 =& 1 - \\beta (1 + \\overline{r} - \\delta)  \\tag{3.15}\n",
      "\\end{align}\n",
      "\n",
      "Mathematically, solving for a deterministic steady state of an RBC/DSGE model is a [root-finding problem](http://en.wikipedia.org/wiki/Root-finding_algorithm). Standard algorithms exist for solving root-finding problems (many of which have been implemented in the [`scipy.optimize`](http://docs.scipy.org/doc/scipy/reference/optimize.html) module). Those interested in the details should start with Chapter 5 of *Numerical Methods for Economists*. In practice, solving for deterministic steady state of the model can be quite difficult (particularly with large models which may have hundreds of equations that need to be solved simultaneously!). \n",
      "\n",
      "All algorithms for solving root finding problems require an initial guess of the correct solution in order to proceed. Sometimes (often?) any guess is good enough. However, sometimes a \"good\" initial guess must be supplied in order for the algorithm to terminate successfully/efficiently. Where do \"good\" initial guesses come from? Typically from analytic solutions to some special case of the general model.\n",
      "\n",
      "Suppose that representative household has logarithmic preferences, $\\theta=\\omega=1.0$; there is full capital depreciation, $\\delta=1.0$; and production is Cobb-Douglas, $\\sigma = 1.0$. Under these simplifying assumptions, the equations 3.9-3.15 reduce to...\n",
      "\n",
      "\\begin{align}\n",
      "0 =& \\overline{Y} - \\overline{K}^{\\alpha}\\overline{L}^{1-\\alpha}  \\tag{3.16}\\\\ \\\\\n",
      "0 =& \\overline{W} - (1 - \\alpha)\\frac{\\overline{Y}}{\\overline{L}}  \\tag{3.17}\\\\ \\\\\n",
      "0 =& \\overline{r} - \\alpha\\frac{\\overline{Y}}{\\overline{K}}  \\tag{3.18}\\\\ \\\\\n",
      "0 =& \\overline{Y} - \\overline{C} - \\overline{I}  \\tag{3.19}\\\\ \\\\\n",
      "0 =& \\overline{K} - \\overline{I} \\tag{3.20}\\\\ \\\\\n",
      "0 =& \\frac{b}{1 - \\overline{L}} - \\frac{\\overline{W}}{\\overline{C}}  \\tag{3.21}\\\\ \\\\\n",
      "0 =& 1 - \\beta \\overline{r}  \\tag{3.22}\n",
      "\\end{align}\n",
      "\n",
      "Now we bust out the pen and paper! From equation 3.22 we learn that\n",
      "\n",
      "$$ \\overline{r} =\\frac{1}{\\beta} = \\alpha \\frac{\\overline{Y}}{\\overline{K}} \\implies \\frac{\\overline{K}}{\\overline{Y}} = \\alpha\\beta.$$\n",
      "\n",
      "Combining equations 3.19 and 3.20 and then ividing through the result by $Y$ yields\n",
      "\n",
      "$$ \\frac{\\overline{C}}{\\overline{Y}} = 1 - \\frac{\\overline{K}}{\\overline{Y}} = 1 - \\alpha\\beta \\implies \\frac{\\overline{I}}{\\overline{Y}} = \\alpha\\beta.$$\n",
      "\n",
      "This result tells us that, in steady state, the representative household consumes a fraction $1-\\alpha\\beta$ of its income. Using this result as well as equation 3.17 to substitute for $\\overline{C}$ and $\\overline{W}$, repsectively, in equation 3.21 yields (after a bit of algebra!) an expression for the steady state labor supply.\n",
      "\n",
      "$$\\overline{L} = \\frac{1 - \\alpha}{1 - \\alpha + b(1 - \\alpha\\beta)}$$\n",
      "\n",
      "Substituting our expression for $\\overline{L}$ into equation 3.16 and making use of previous results allows us to work out the expression for $\\overline{K}$.\n",
      "\n",
      "$$ \\overline{K} = \\alpha\\beta \\overline{Y} = \\alpha\\beta \\overline{K}^{\\alpha}\\overline{L}^{1-\\alpha} = \\alpha\\beta \\overline{K}^{\\alpha}\\left(\\frac{1 - \\alpha}{1 - \\alpha + b(1 - \\alpha\\beta)}\\right)^{1-\\alpha} \\iff \\overline{K} = (\\alpha\\beta)^{\\frac{1}{1-\\alpha}}\\left(\\frac{1 - \\alpha}{1 - \\alpha + b(1 - \\alpha\\beta)}\\right)$$\n",
      "\n",
      "Finally, we can solve for the steady state value of output as follows.\n",
      "\n",
      "$$ \\overline{Y} = \\overline{K}^{\\alpha}\\overline{L}^{1-\\alpha} = (\\alpha\\beta)^{\\frac{\\alpha}{1-\\alpha}}\\left(\\frac{1 - \\alpha}{1 - \\alpha + b(1 - \\alpha\\beta)}\\right)$$\n",
      "\n",
      "We actually don't need to bother deriving expressions for $\\overline{C}, \\overline{I}$, and $\\overline{W}$ in terms of the structural parameters of the model! In sum, we use the following initial conditions as our guess for the steady state values for the general model...\n",
      "\n",
      "\\begin{align}\n",
      "\\overline{L} =& \\frac{1 - \\alpha}{1 - \\alpha + b(1 - \\alpha\\beta)} \\tag{3.23}\\\\ \\\\\n",
      "\\overline{K} =& (\\alpha\\beta)^{\\frac{1}{1-\\alpha}}\\overline{L} \\tag{3.24}\\\\ \\\\\n",
      "\\overline{Y} =& (\\alpha\\beta)^{\\frac{\\alpha}{1-\\alpha}}\\overline{L} \\tag{3.25}\\\\ \\\\\n",
      "\\overline{I} =& \\overline{K} \\tag{3.26}\\\\ \\\\\n",
      "\\overline{C} =& \\overline{Y} - \\overline{K} \\tag{3.27} \\\\ \\\\\n",
      "\\overline{W} =& (1 - \\alpha)\\frac{\\overline{Y}}{\\overline{L}} \\tag{3.28} \\\\ \\\\\n",
      "\\overline{r} =& \\frac{1}{\\beta} \\tag{3.29}\\\\ \\\\\n",
      "\\overline{Z} =& 0 \\tag{3.30}\n",
      "\\end{align}\n",
      "\n",
      "In order to use the built-in `Dynare++` root-finding algorithm to find the steady state of our model, we need to get the expression defining our initial guess into our model file. The first step is to define 3 additional parameters, `KSS`, `LSS`, and `YSS`, representing the steady state values of $K$, $L$, and $Y$ for the special case of our general model. Open the file `rbc_benchmark.mod` and edit the declaration of model parameters to include `KSS`, `LSS`, and `YSS`. This line should look as follows:\n",
      "\n",
      "    parameters b, alpha, beta, delta, sigma, theta, omega, rho_z, KSS, LSS, YSS;\n",
      "\n",
      "Now we need to add additional lines of code to define the values of `KSS`, `LSS`, and `YSS` in terms of the structural parameters of the model. Add the following lines of code to the `rbc_benchmark.mod` file (in the section where the structural parameters of the model are given values...NOT at the end of the file!):\n",
      "\n",
      "    // steady state labor supply (computed for theta=omega=delta=sigma=1)\n",
      "    LSS = (1 - alpha) / (1 - alpha + b * (1 - alpha * beta));\n",
      "\n",
      "    // steady state capital (computed for theta=omega=delta=sigma=1)\n",
      "    KSS =  (alpha * beta)^(1 / (1 - alpha)) * LSS;\n",
      "\n",
      "    // steady state output (computed for theta=omega=delta=sigma=1)\n",
      "    YSS = KSS^alpha * LSS^(1 - alpha);\n",
      "\n",
      "We now specify our initial guess for the deterministic steady state of our general model by adding an \"initial value block\" to the end of the file `rbc_benchmark.mod` (i.e., *after* the model block!).\n",
      "\n",
      "    ////////// Initial values for computing steady state //////////\n",
      "    \n",
      "    initval;\n",
      "    K = KSS;\n",
      "    L = LSS;\n",
      "    Y = YSS;\n",
      "    C = (1 - alpha * beta) * YSS;\n",
      "    Z = 0.0;\n",
      "    I = alpha * beta * YSS;\n",
      "    W = (1 - alpha) * (YSS / LSS);\n",
      "    r = (1 / beta);\n",
      "    zero_profit = 0.0;\n",
      "    end;\n"
     ]
    },
    {
     "cell_type": "markdown",
     "metadata": {},
     "source": [
      "### Variance-covariance structure of the exogenous shocks\n",
      "\n",
      "To complete the specification of our model, we need to specify the variance-covariance structure or the shocks driving the economy. In more complicated models, this matrix might be very large. In our toy RBC model, this matrix is the scalar $\\sigma_z$. My parameterization sets $\\sigma_z^2=0.007$. Add the following code to the bottom of the `rbc_benchmark.mod` file.\n",
      "\n",
      "    ////////// Variance covariance matrix //////////\n",
      "    vcov = [0.007];\n"
     ]
    },
    {
     "cell_type": "code",
     "collapsed": false,
     "input": [],
     "language": "python",
     "metadata": {},
     "outputs": []
    },
    {
     "cell_type": "markdown",
     "metadata": {},
     "source": [
      "## Introducing `Dynare++`\n",
      "`Dynare++` is a standalone C++ version of [`Dynare`](http://www.dynare.org/) specialized in computing $k$-order [Taylor approximations](http://en.wikipedia.org/wiki/Taylor_series) of dynamic stochastic general equilibrium (DSGE) models (if you weren't already aware, RBC models are a special case of DSGE models). The current version of `Dynare++` is capable of approximating the decision rules (i.e., policy functions) around either a deterministic or stochastic steady state, run simulations, generate IRFs, etc. It is also able to check approximation errors of the solution.\n",
      "\n",
      "The main features of `Dynare++` are:\n",
      "\n",
      "* Completely standalone, no need to install MATLAB\u00ae or GNU Octave\n",
      "* Output readable in MATLAB\u00ae and GNU Octave (and Python!)\n",
      "* Contains a tensor library for evaluation of Faa Di Bruno formula\n",
      "* Highly parallelized\n",
      "* Takes advantage of kronecker product structure\n",
      "* Links with ATLAS and LAPACK (industry standard linear algebra libraries)\n",
      "* Includes numerical integration module\n",
      "* Includes parser and derivator doing all derivatives symbolically\n",
      "\n",
      "I am only going to demonstrate a small subset of the functionality of `Dynare` and `Dynare++`. However, I have included .pdf copies of the Dynare user guide and reference manual, as well as a `Dynare++` tutorial. Those of you interested in pursuing RBC/DSGE modelling for your MSc disseration or future PhD research should read these documents at some point."
     ]
    },
    {
     "cell_type": "markdown",
     "metadata": {},
     "source": [
      "### What are Taylor approximations?"
     ]
    },
    {
     "cell_type": "code",
     "collapsed": false,
     "input": [
      "def f(x):\n",
      "    \"\"\"Example function for demonstrating Taylor approximations.\"\"\"\n",
      "    return x**0.25\n",
      "\n",
      "f_1st_order = interpolate.approximate_taylor_polynomial(f, x=1, degree=1, scale=0.01)\n",
      "f_2nd_order = interpolate.approximate_taylor_polynomial(f, x=1, degree=2, scale=0.01)\n",
      "f_3rd_order = interpolate.approximate_taylor_polynomial(f, x=1, degree=3, scale=0.01)\n",
      "f_4th_order = interpolate.approximate_taylor_polynomial(f, x=1, degree=4, scale=0.01)\n",
      "f_5th_order = interpolate.approximate_taylor_polynomial(f, x=1, degree=5, scale=0.01)"
     ],
     "language": "python",
     "metadata": {},
     "outputs": []
    },
    {
     "cell_type": "code",
     "collapsed": false,
     "input": [
      "fig = plt.figure(figsize=(8,6))\n",
      "ax1 = fig.add_subplot(111)\n",
      "\n",
      "# grid of points to evaluate function and its approximations\n",
      "grid = np.linspace(-1, 3, 10000)\n",
      "\n",
      "# plots of the function and its approximations (need to translate Taylor polynomial!)\n",
      "ax1.plot(grid, f(grid), label='f(x)')\n",
      "ax1.plot(grid, f_1st_order(grid - 1), label='1st-order')\n",
      "#ax1.plot(grid, f_2nd_order(grid - 1), label='2nd-order')\n",
      "#ax1.plot(grid, f_3rd_order(grid - 1), label='3rd-order')\n",
      "#ax1.plot(grid, f_4th_order(grid - 1), label='4th-order')\n",
      "#ax1.plot(grid, f_5th_order(grid - 1), label='5th-order')\n",
      "\n",
      "# axes, labels, title, legend, etc...\n",
      "ax1.set_xlabel('$x$', fontsize=15)\n",
      "ax1.set_ylabel('$f(x)$', rotation='horizontal', fontsize=15)\n",
      "ax1.set_title(r'Taylor series approximation of $f(x) = x^{\\alpha}$ at $x=1$', fontsize=20, family='serif')\n",
      "ax1.set_ylim(-0.5, 2.0)\n",
      "ax1.grid()\n",
      "ax1.legend(loc='best', frameon=False, prop={'family':'serif'})\n",
      "\n",
      "plt.savefig('graphics/deterministic-taylor-approximation-example.png')\n",
      "plt.show()"
     ],
     "language": "python",
     "metadata": {},
     "outputs": []
    },
    {
     "cell_type": "markdown",
     "metadata": {},
     "source": [
      "Execute the following command in order to confirm that Dynare++ has been added to your path correctly, and that it is fully functional. **N.B.: The `!` tells IPython to send to command to your OS shell.** "
     ]
    },
    {
     "cell_type": "code",
     "collapsed": false,
     "input": [
      "# confirm the Dynare++ is installed correctly!\n",
      "!dynare++"
     ],
     "language": "python",
     "metadata": {},
     "outputs": []
    },
    {
     "cell_type": "code",
     "collapsed": false,
     "input": [
      "# solve the model via linearization around the deterministic steady state...\n",
      "!dynare++ --order 1 --no-centralize --seed 42 --check PE --per 500 --check-num 100 rbc_benchmark_answers.mod\n",
      "\n",
      "# convert the output into a Python dictionary\n",
      "rbc_order1 = io.loadmat('rbc_benchmark_answers.mat')"
     ],
     "language": "python",
     "metadata": {},
     "outputs": []
    },
    {
     "cell_type": "markdown",
     "metadata": {},
     "source": [
      "Remember that Python dictionaries store information in key-value pairs. Our Python dictionary `rbc_order1` has the following keys...."
     ]
    },
    {
     "cell_type": "code",
     "collapsed": false,
     "input": [
      "# returns a list of the dictionary keys...\n",
      "rbc_order1.keys()"
     ],
     "language": "python",
     "metadata": {},
     "outputs": []
    },
    {
     "cell_type": "markdown",
     "metadata": {},
     "source": [
      "We can access the values of the `rbc_order1` dictionary using these keys. For example, if we want to access an array of endogenous variable names sorted by the `Dynare++` internal ordering then we type..."
     ]
    },
    {
     "cell_type": "code",
     "collapsed": false,
     "input": [
      "rbc_order1['dyn_vars']"
     ],
     "language": "python",
     "metadata": {},
     "outputs": []
    },
    {
     "cell_type": "markdown",
     "metadata": {},
     "source": [
      "...if we want to access the array which stores the steady state values of the endogenous variables in the model, then we type..."
     ]
    },
    {
     "cell_type": "code",
     "collapsed": false,
     "input": [
      "rbc_order1['dyn_ss'] "
     ],
     "language": "python",
     "metadata": {},
     "outputs": []
    },
    {
     "cell_type": "markdown",
     "metadata": {},
     "source": [
      "A detailed description of each of the keys can be found in section 7.2 of the [Dynare++ tutorial](http://www.dynare.org/documentation-and-support/dynarepp/dynare-tutorial.pdf)."
     ]
    },
    {
     "cell_type": "markdown",
     "metadata": {},
     "source": [
      "## Plotting impulse response functions\n",
      "\n",
      "By default, `Dynare++` simulates impulse response functions (IRFs) for all endogenous variables of the model. We can access the simulated IRFS using the appropriate dictionary keys. \n",
      "\n",
      "* `'dyn_irfm_eps_z_mean'` for negative shocks \n",
      "* `'dyn_irfp_eps_z_mean'` for postive shocks.\n",
      "\n",
      "**Note the subtle difference in the IRF keys!**"
     ]
    },
    {
     "cell_type": "code",
     "collapsed": false,
     "input": [
      "# variables are ordering according to rbc_order1['dyn_vars']\n",
      "Y_bar, I_bar, W_bar, L_bar, zero_profit_bar, K_bar, Z_bar, C_bar, r_bar = rbc_order1['dyn_ss'] "
     ],
     "language": "python",
     "metadata": {},
     "outputs": []
    },
    {
     "cell_type": "code",
     "collapsed": false,
     "input": [
      "plt.figure(figsize=(8,6))\n",
      "\n",
      "# absolute deviations of Y and K in response to positive productivity shock\n",
      "plt.plot(rbc_order1['dyn_irfp_eps_z_mean'][0,:100], label='$Y$')\n",
      "plt.plot(rbc_order1['dyn_irfp_eps_z_mean'][5,:100], label='$K$')\n",
      "\n",
      "plt.xlabel('Periods', fontsize=15, family='serif')\n",
      "plt.ylabel('Absolute deviations', fontsize=15, family='serif')\n",
      "plt.title(\"Output and capital IRFs\", fontsize=20, family='serif')\n",
      "plt.legend(loc='best', frameon=False, prop={'family':'serif'})\n",
      "plt.grid()\n",
      "\n",
      "plt.show()"
     ],
     "language": "python",
     "metadata": {},
     "outputs": []
    },
    {
     "cell_type": "markdown",
     "metadata": {},
     "source": [
      "By default `Dynare++` computes IRFs representing absolute deviations from the deterministic steady state. If we want IRFs representing percentage deviations then we will need to code them ourselves..."
     ]
    },
    {
     "cell_type": "code",
     "collapsed": false,
     "input": [
      "plt.figure(figsize=(8,6))\n",
      "\n",
      "# percentage deviations of Y and K in response to positive productivity shock\n",
      "plt.plot(100 * rbc_order1['dyn_irfp_eps_z_mean'][0,:100] / Y_bar, label='$Y$')\n",
      "plt.plot(100 * rbc_order1['dyn_irfp_eps_z_mean'][5,:100] / K_bar, label='$K$')\n",
      "\n",
      "plt.xlabel('Periods', fontsize=15, family='serif')\n",
      "plt.ylabel('% deviations', fontsize=15, family='serif')\n",
      "plt.title(\"Output and capital IRFs\", fontsize=20, family='serif')\n",
      "plt.legend(loc='best', frameon=False, prop={'family':'serif'})\n",
      "plt.grid()\n",
      "\n",
      "plt.show()"
     ],
     "language": "python",
     "metadata": {},
     "outputs": []
    },
    {
     "cell_type": "markdown",
     "metadata": {},
     "source": [
      "Here we plot the responses of consumption, output, and investment to a negative productivity shock."
     ]
    },
    {
     "cell_type": "code",
     "collapsed": false,
     "input": [
      "plt.figure(figsize=(8,6))\n",
      "\n",
      "# irfs for output, investment, and consumption in response to negative productivity shock \n",
      "plt.plot(100 * rbc_order1['dyn_irfm_eps_z_mean'][0,:100] / Y_bar, label='$Y$')\n",
      "plt.plot(100 * rbc_order1['dyn_irfm_eps_z_mean'][1,:100] / I_bar, label='$I$')\n",
      "plt.plot(100 * rbc_order1['dyn_irfm_eps_z_mean'][7,:100] / C_bar, label='$C$')\n",
      "\n",
      "plt.xlabel('Periods', fontsize=15, family='serif')\n",
      "plt.ylabel('% deviations', fontsize=15, family='serif')\n",
      "plt.title(\"Output, consumption, and investment IRFs\", fontsize=20, family='serif')\n",
      "plt.legend(loc='best', frameon=False, prop={'family':'serif'})\n",
      "plt.grid()\n",
      "\n",
      "plt.show()"
     ],
     "language": "python",
     "metadata": {},
     "outputs": []
    },
    {
     "cell_type": "markdown",
     "metadata": {},
     "source": [
      "### Exercise:\n",
      "\n",
      "Using the above code snippets as a guide, plot the IRFs for the real wage and the labor supply in response to positive and negative productivity shocks."
     ]
    },
    {
     "cell_type": "code",
     "collapsed": false,
     "input": [
      "# insert your code here!"
     ],
     "language": "python",
     "metadata": {},
     "outputs": []
    },
    {
     "cell_type": "markdown",
     "metadata": {},
     "source": [
      "## Generating simulated data from the model\n",
      "\n",
      "An array of simulated time series data from the model can be accessed using the `'dyn_simul_points'` key. Rows correspond to endogenous variables, columns to periods. Appears only if `--check P` option was passed when the solution was computed. The following code will produce a time series plot for $Y$..."
     ]
    },
    {
     "cell_type": "code",
     "collapsed": false,
     "input": [
      "plt.figure(figsize=(8,6))\n",
      "\n",
      "# simulated data \n",
      "plt.plot(rbc_order1['dyn_simul_points'][0,:])\n",
      "plt.axhline(Y_bar, ls='dashed', color='k', label=r'$\\overline{Y}$')\n",
      "\n",
      "plt.xlabel('Periods', fontsize=15, family='serif')\n",
      "plt.ylabel('Output, $Y_t$', fontsize=15, family='serif')\n",
      "plt.title(\"Time path of output\", fontsize=20, family='serif')\n",
      "plt.legend(loc='best', frameon=False, prop={'family':'serif'})\n",
      "plt.grid()\n",
      "\n",
      "plt.show()"
     ],
     "language": "python",
     "metadata": {},
     "outputs": []
    },
    {
     "cell_type": "markdown",
     "metadata": {},
     "source": [
      "Here is a time series plot for consumption, $C_t$..."
     ]
    },
    {
     "cell_type": "code",
     "collapsed": false,
     "input": [
      "plt.figure(figsize=(8,6))\n",
      "\n",
      "# simulated data \n",
      "plt.plot(rbc_order1['dyn_simul_points'][7,:])\n",
      "plt.axhline(C_bar, ls='dashed', color='k', label=r'$\\overline{C}$')\n",
      "\n",
      "plt.xlabel('Periods', fontsize=15, family='serif')\n",
      "plt.ylabel('Consumption, $C_t$', fontsize=15, family='serif')\n",
      "plt.title(\"Time path of consumption\", fontsize=20, family='serif')\n",
      "plt.legend(loc='best', frameon=False, prop={'family':'serif'})\n",
      "plt.grid()\n",
      "\n",
      "plt.show()"
     ],
     "language": "python",
     "metadata": {},
     "outputs": []
    },
    {
     "cell_type": "markdown",
     "metadata": {},
     "source": [
      "### Exercise:\n",
      "\n",
      "Using the above code snippets as a guide, create time series plots of investment, the real wage and the rental rate of capital."
     ]
    },
    {
     "cell_type": "code",
     "collapsed": false,
     "input": [
      "# insert your code here!"
     ],
     "language": "python",
     "metadata": {},
     "outputs": []
    },
    {
     "cell_type": "markdown",
     "metadata": {},
     "source": [
      "## Error analysis\n",
      "Passing the `--check P` command line option runs a random simulation and at each time point computes the model's residuals from following the approximately optimal policies for choosing consumption and labor supply. Ideally, these residuals would be zero for all $t$."
     ]
    },
    {
     "cell_type": "code",
     "collapsed": false,
     "input": [
      "plt.figure(figsize=(8,6))\n",
      "\n",
      "# consumption euler residual across time\n",
      "euler_residuals_time = rbc_order1['dyn_simul_errors'][7,:]\n",
      "plt.plot(euler_residuals_time**2)\n",
      "\n",
      "plt.yscale('log')\n",
      "plt.xlabel('Periods', fontsize=15, family='serif')\n",
      "plt.ylabel('Squared residuals', fontsize=15, family='serif')\n",
      "plt.title('Euler residuals across time...', fontsize=20, family='serif')\n",
      "plt.legend(loc='best', frameon=False, prop={'family':'serif'})\n",
      "plt.grid()\n",
      "\n",
      "plt.show()"
     ],
     "language": "python",
     "metadata": {},
     "outputs": []
    },
    {
     "cell_type": "markdown",
     "metadata": {},
     "source": [
      "Passing the `--check E` command line option calculates the model residuals on an ellipse of the state variables.  The method calculates the residuals at [low discrepancy sequence](http://en.wikipedia.org/wiki/Low-discrepancy_sequence) of points on the ellipse. The \"size\" of the ellipse is controled by the `--check-scale float` command line option. This sets the scaling factor for checking on ellipse to `0.5 * float`. Default is value if 2.0. Both the residuals,  `'dyn_ellipse_errors'`, and the points, `'dyn_ellipse_points'`, are reported."
     ]
    },
    {
     "cell_type": "code",
     "collapsed": false,
     "input": [
      "plt.figure(figsize=(8,6))\n",
      "\n",
      "# plot simulated data in state space\n",
      "simulated_K, simulated_Z = rbc_order1['dyn_simul_points'][5,:], rbc_order1['dyn_simul_points'][6,:]\n",
      "plt.scatter(simulated_K, np.exp(simulated_Z), s=4.0, edgecolor='b', alpha=0.5, label='Simulation')\n",
      "\n",
      "# plot the low discrepancy set in state space\n",
      "ellipse_K, ellipse_Z = rbc_order1['dyn_ellipse_points'][0,:], rbc_order1['dyn_ellipse_points'][1,:]\n",
      "plt.scatter(ellipse_K, np.exp(ellipse_Z), s=3.0, color='r', edgecolor='r', alpha=0.5, label='Low-discrepancy ellipse')\n",
      "\n",
      "# demarcate the deterministic steady state\n",
      "plt.scatter(K_bar, 1.0, color='k', label='SS')\n",
      "    \n",
      "plt.xlabel('Capital, $K_t$', fontsize=15, family='serif')\n",
      "plt.ylabel('Productivity, $e^{Z_t}$', fontsize=15, family='serif')\n",
      "plt.title('What is a low-discrepancy ellipse?', fontsize=20, family='serif')\n",
      "plt.legend(loc=2, frameon=False, prop={'family':'serif'})\n",
      "plt.grid()\n",
      "\n",
      "plt.show()"
     ],
     "language": "python",
     "metadata": {},
     "outputs": []
    },
    {
     "cell_type": "code",
     "collapsed": false,
     "input": [
      "plt.figure(figsize=(8,6))\n",
      "\n",
      "# consumption euler residual across space and time\n",
      "euler_residuals_spacetime = rbc_order1['dyn_ellipse_errors'][7,:]\n",
      "plt.plot(euler_residuals_spacetime**2)\n",
      "\n",
      "plt.yscale('log')\n",
      "plt.xlabel('Periods', fontsize=15, family='serif')\n",
      "plt.ylabel('Squared residuals', fontsize=15, family='serif')\n",
      "plt.title('Euler residuals across space and time...', fontsize=20, family='serif')\n",
      "plt.legend(loc='best', frameon=False, prop={'family':'serif'})\n",
      "plt.grid()\n",
      "\n",
      "plt.show()"
     ],
     "language": "python",
     "metadata": {},
     "outputs": []
    },
    {
     "cell_type": "markdown",
     "metadata": {},
     "source": [
      "## Variance-covariance matrix\n",
      "\n",
      "We can use the variance-covariance matrix of our model to assess how well the correlation structure or our model matches the correlation structure of the real world. The simplest way of \"calibrating\" a DSGE/RBC model is to choose some data targets (i.e., observed variances/covariances of/between variables like GDP, capital stock, labor supply, wages, etc.) and then choose model parameters so that the model variances/covariances are \"close\" to the target values."
     ]
    },
    {
     "cell_type": "code",
     "collapsed": false,
     "input": [
      "# the variance-covariance matrix for the endogenous variables\n",
      "rbc_order1['dyn_vcov']"
     ],
     "language": "python",
     "metadata": {},
     "outputs": []
    },
    {
     "cell_type": "code",
     "collapsed": false,
     "input": [
      "# compute standard deviations of endogenous variables\n",
      "std_vars = np.sqrt(rbc_order1['dyn_vcov'].diagonal())\n",
      "\n",
      "# correlation coefficients for endogenous variables\n",
      "rbc_order1['dyn_corr'] = rbc_order1['dyn_vcov'] / (std_vars[np.newaxis,:] * std_vars[:,np.newaxis])"
     ],
     "language": "python",
     "metadata": {},
     "outputs": []
    },
    {
     "cell_type": "code",
     "collapsed": false,
     "input": [
      "# examine the correlation structure: recalle ordering is Y, I, W, L, zero_profit, K, Z, C, r\n",
      "np.round(rbc_order1['dyn_corr'], 2)"
     ],
     "language": "python",
     "metadata": {},
     "outputs": []
    },
    {
     "cell_type": "code",
     "collapsed": false,
     "input": [
      "# correlation between the real wage and the labor supply\n",
      "rbc_order1['dyn_corr'][2,3]"
     ],
     "language": "python",
     "metadata": {},
     "outputs": []
    },
    {
     "cell_type": "markdown",
     "metadata": {},
     "source": [
      "## Going for higher order approximations\n",
      "\n",
      "[Research suggests](http://www.sciencedirect.com/science/article/pii/S0165188905001740) that first-order approximations around a deterministic steady state can be very inaccurate. The inaccuracy of first-order approximations is particularly accute when there are lots of binding constraints or other extreme forms of non-linearity. As a rough \"rule-of-thumb\": the more \"interesting\" is your model, the more inaccurate will be a first-order approximation of it! \n",
      "\n",
      "These numerical analysis results are largely ignored by economists. Very few papers bother to check the accuracy of their linear approximations (or at least very few papers report any error analysis). Very few papers bother to assess how either the qualitative or quantitative predictions of their models are effected by the order of approximation. \n",
      "\n",
      "As we will see, when using `Dynare++`, the marginal cost of generating higher order approximations is extremely low... "
     ]
    },
    {
     "cell_type": "code",
     "collapsed": false,
     "input": [
      "!dynare++"
     ],
     "language": "python",
     "metadata": {},
     "outputs": []
    },
    {
     "cell_type": "code",
     "collapsed": false,
     "input": [
      "# go ahead and compute up to 5th order approximations around the deterministic steady state\n",
      "!dynare++ --order 2 --no-centralize --seed 42 --check PE rbc_benchmark_answers.mod\n",
      "rbc_order2 = io.loadmat('rbc_benchmark_answers.mat')\n",
      "\n",
      "!dynare++ --order 3 --no-centralize --seed 42 --check PE rbc_benchmark_answers.mod\n",
      "rbc_order3 = io.loadmat('rbc_benchmark_answers.mat')\n",
      "\n",
      "!dynare++ --order 4 --no-centralize --seed 42 --check PE rbc_benchmark_answers.mod\n",
      "rbc_order4 = io.loadmat('rbc_benchmark_answers.mat')\n",
      "\n",
      "!dynare++ --order 5 --no-centralize --seed 42 --check PE rbc_benchmark_answers.mod\n",
      "rbc_order5 = io.loadmat('rbc_benchmark_answers.mat')"
     ],
     "language": "python",
     "metadata": {},
     "outputs": []
    },
    {
     "cell_type": "code",
     "collapsed": false,
     "input": [
      "# deterministic steady state values do not depend on the order of approximation\n",
      "Y_bar, I_bar, W_bar, L_bar, zero_profit_bar, K_bar, Z_bar, C_bar, r_bar = rbc_order1['dyn_ss'] "
     ],
     "language": "python",
     "metadata": {},
     "outputs": []
    },
    {
     "cell_type": "code",
     "collapsed": false,
     "input": [
      "plt.figure(figsize=(8,6))\n",
      "\n",
      "# irfs for labor supply\n",
      "plt.plot(100 * rbc_order1['dyn_irfp_eps_z_mean'][3,:100] / L_bar, label='$1^{st}$ order')\n",
      "plt.plot(100 * rbc_order2['dyn_irfp_eps_z_mean'][3,:] / L_bar, label='$2^{nd}$ order')\n",
      "plt.plot(100 * rbc_order3['dyn_irfp_eps_z_mean'][3,:] / L_bar, label='$3^{rd}$ order')\n",
      "plt.plot(100 * rbc_order4['dyn_irfp_eps_z_mean'][3,:] / L_bar, label='$4^{th}$ order')\n",
      "plt.plot(100 * rbc_order5['dyn_irfp_eps_z_mean'][3,:] / L_bar, label='$5^{th}$ order')\n",
      " \n",
      "plt.xlabel('Periods', fontsize=15, family='serif')\n",
      "plt.ylabel('% deviations', fontsize=15, family='serif')\n",
      "plt.title(\"IRFs for labor supply, $L$\", fontsize=20, family='serif')\n",
      "plt.legend(loc='best', frameon=False)\n",
      "plt.grid()\n",
      "\n",
      "plt.show()"
     ],
     "language": "python",
     "metadata": {},
     "outputs": []
    },
    {
     "cell_type": "code",
     "collapsed": false,
     "input": [
      "plt.figure(figsize=(8,6))\n",
      "\n",
      "# irfs for consumption\n",
      "plt.plot(100 * rbc_order1['dyn_irfp_eps_z_mean'][7,:100] / C_bar, label='$1^{st}$ order')\n",
      "plt.plot(100 * rbc_order2['dyn_irfp_eps_z_mean'][7,:] / C_bar, label='$2^{nd}$ order')\n",
      "plt.plot(100 * rbc_order3['dyn_irfp_eps_z_mean'][7,:] / C_bar, label='$3^{rd}$ order')\n",
      "plt.plot(100 * rbc_order4['dyn_irfp_eps_z_mean'][7,:] / C_bar, label='$4^{th}$ order')\n",
      "plt.plot(100 * rbc_order5['dyn_irfp_eps_z_mean'][7,:] / C_bar, label='$5^{th}$ order')\n",
      "\n",
      "plt.xlabel('Periods', fontsize=15, family='serif')\n",
      "plt.ylabel('% deviations', fontsize=15, family='serif')\n",
      "plt.title(\"IRFs for consumption, $C$\", fontsize=20, family='serif')\n",
      "plt.legend(loc='best', frameon=False)\n",
      "plt.grid()\n",
      "\n",
      "plt.show()"
     ],
     "language": "python",
     "metadata": {},
     "outputs": []
    },
    {
     "cell_type": "markdown",
     "metadata": {},
     "source": [
      "Although IRFs are relatively robust to higher order approximations, the variance-covariance matrix of endogenous variables can be highly sensitive to the order of approximation. **This implies that calibration/estimation results are likely to be highly dependent on order of approximation!** "
     ]
    },
    {
     "cell_type": "markdown",
     "metadata": {},
     "source": [
      "### Where to go to learn more:\n",
      "\n",
      "The following is a non-comprehensive list of materials that I have found useful...\n",
      "\n",
      "* For more details on perturbation theory (and pretty much anything numerical methods related!) see Prof. Wouter Den Haan's personal [website](http://www.wouterdenhaan.com/).\n",
      "* [Prof. Lawrence Christiano](http://faculty.wcas.northwestern.edu/~lchrist/) has made his lecture slides and code for some of his short courses avaiable:\n",
      "    * 5-day course on [\"Formulation, Estimation and Policy Analysis with DSGE Models\"](http://faculty.wcas.northwestern.edu/~lchrist/course/syllabus.htm).\n",
      "    * 3-day course on [\"The New Keynesian Model\"](http://faculty.wcas.northwestern.edu/~lchrist/course/CIED_2013/syllabus.html)."
     ]
    },
    {
     "cell_type": "code",
     "collapsed": false,
     "input": [],
     "language": "python",
     "metadata": {},
     "outputs": []
    }
   ],
   "metadata": {}
  }
 ]
}