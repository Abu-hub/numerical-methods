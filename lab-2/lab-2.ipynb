{
 "metadata": {
  "name": ""
 },
 "nbformat": 3,
 "nbformat_minor": 0,
 "worksheets": [
  {
   "cells": [
    {
     "cell_type": "markdown",
     "metadata": {},
     "source": [
      "<div align='center' ><img src='https://raw.github.com/davidrpugh/computational-econ-labs/master/graduate/images/sgpe-logo.jpg' width=\"1200\" height=\"100\"></div>\n",
      "<div align='center' ><img src='https://raw.github.com/davidrpugh/computational-econ-labs/master/graduate/images/sirelogo.jpg' width=\"1200\" height=\"100\"></div>"
     ]
    },
    {
     "cell_type": "markdown",
     "metadata": {},
     "source": [
      "The Ramsey Model:\n",
      "=================\n",
      "\n",
      "In the previous lab, we learned how to simulate a deterministic, continuous-time version of the Solow growth model where the savings rate of the economy was taken to be exogenous.  In this lab, we will learn how to solve and simulate a deteministic, continuous time version of the Ramsey model where the savings rate is endogenously chosen optimally by the representative household.  Although the Ramsey model is being presented after the Solow model (primarily because it involves optimizing on the parts of houeholds which makes the model technically more \"sophisticated\"), the optimization bits of the Ramsey model intellectually predate the Solow model by almost 30 years! Also, unlike the Solow model which was designed to be a decriptive model of economic growth, the Ramsey model was originally designed to be a normative, mathematical solution to the problem of how a social planner might optimally choose the savings rate for a society.  \n",
      "\n",
      "I highly recommend that you take a glance through [Frank Ramsey's](http://en.wikipedia.org/wiki/Frank_P._Ramsey) original paper, entitled [A Mathematical Theory of Saving](http://folk.uio.no/gasheim/zRam1928.pdf).  In particular the introduction where Ramsey states that the common practice amongst economists and decision theorists of discounting the future was \"ethicially indefensible and arises mearly from the weakness of the imagination.\"  Ramsey leaves little doubt that his paper was normative and not positive in character.  Finally, there is not a single citation at the end of Ramsey's paper: he simply signed his name!  Apparently, for this model at least, Ramsey owed no intellectual debts. "
     ]
    },
    {
     "cell_type": "code",
     "collapsed": false,
     "input": [
      "%load_ext autoreload\n",
      "%autoreload 2"
     ],
     "language": "python",
     "metadata": {},
     "outputs": [],
     "prompt_number": 1
    },
    {
     "cell_type": "code",
     "collapsed": false,
     "input": [
      "# These libaries will be doing the bulk of the heavy lifting!\n",
      "import numpy as np\n",
      "import pandas as pd\n",
      "import sympy as sp\n",
      "\n",
      "# these models contain all of the code\n",
      "import ramsey\n",
      "import pwt\n",
      "\n",
      "# matplotlib is for graphics\n",
      "import matplotlib as mpl\n",
      "import matplotlib.pyplot as plt\n",
      "from mpl_toolkits.mplot3d import Axes3D"
     ],
     "language": "python",
     "metadata": {},
     "outputs": [],
     "prompt_number": 2
    },
    {
     "cell_type": "markdown",
     "metadata": {},
     "source": [
      "# Task 1: Coding the optimal growth model in Python\n",
      "\n",
      "In this task you will learn how to program a continuous time version of the optimal growth model in Python. Before we starting writing code, we should stop and think about the \"primitives\" (i.e., basic bulding blocks) of an optimal growth model. \n",
      "\n",
      "## Coding $f(k)$ and $f'(k)$:\n",
      "In the previous lab we began coding up the Solow model by writing a Python function representing the intensive form of a [Cobb-Douglas](http://en.wikipedia.org/wiki/Cobb%E2%80%93Douglas_production_function) production function. In this lab we will assume that $f$ has the more general constant elasticity of substitution (CES) form\n",
      "\n",
      "$$f(k(t)) = \\bigg[\\alpha k(t)^\\gamma + (1 - \\alpha)\\bigg]^{\\frac{1}{\\gamma}} \\tag{1.1a}$$\n",
      "\n",
      "where $0 < \\alpha < 1$ and $-\\infty < \\gamma < 1$. The parameter $\\gamma = \\frac{\\sigma - 1}{\\sigma}$ where $\\sigma$ is the elasticity of substitution between capital and effective labor. Recall that the CES production technology nests the Cobb-Douglas function\n",
      "\n",
      "$$ f(k(t)) = k(t)^{\\alpha} \\tag{1.1b}$$\n",
      "\n",
      "as a special case when $\\sigma=1$. "
     ]
    },
    {
     "cell_type": "markdown",
     "metadata": {},
     "source": [
      "### Exercise 1:\n",
      "\n",
      "Use the information above to complete the [Python function](http://www.greenteapress.com/thinkpython/html/thinkpython004.html) `ces_output` defined below. "
     ]
    },
    {
     "cell_type": "code",
     "collapsed": false,
     "input": [
      "def ces_output(t, k, params):\n",
      "    \"\"\"\n",
      "    Constant elasticity of substitution (CES) production function.\n",
      "\n",
      "    Arguments:\n",
      "\n",
      "        t:      (array) Time.\n",
      "        k:      (array) Capital (per person/effective person).\n",
      "        params: (dict) Dictionary of parameter values.\n",
      "       \n",
      "    Returns:\n",
      "\n",
      "        y: (array-like) Output (per person/ effective person)\n",
      "\n",
      "    \"\"\"\n",
      "    # extract params\n",
      "    alpha = params['alpha']\n",
      "    sigma = params['sigma']\n",
      "    gamma = (sigma - 1) / sigma\n",
      "    \n",
      "    # nest Cobb-Douglas as special case\n",
      "    if gamma == 0:\n",
      "        y = # INSERT CODE HERE!!\n",
      "    else:\n",
      "        y = # INSERT CODE HERE!!\n",
      "    \n",
      "    return y"
     ],
     "language": "python",
     "metadata": {},
     "outputs": []
    },
    {
     "cell_type": "code",
     "collapsed": false,
     "input": [
      "# my solution is as follows!\n",
      "def ces_output(t, k, params):\n",
      "    \"\"\"\n",
      "    Constant elasticity of substitution (CES) production function.\n",
      "\n",
      "    Arguments:\n",
      "\n",
      "        t:      (array) Time.\n",
      "        k:      (array) Capital (per person/effective person).\n",
      "        params: (dict) Dictionary of parameter values.\n",
      "       \n",
      "    Returns:\n",
      "\n",
      "        y: (array-like) Output (per person/ effective person)\n",
      "\n",
      "    \"\"\"\n",
      "    # extract params\n",
      "    alpha = params['alpha']\n",
      "    sigma = params['sigma']\n",
      "    gamma = (sigma - 1) / sigma\n",
      "    \n",
      "    # nest Cobb-Douglas as special case\n",
      "    if gamma == 0:\n",
      "        y = k**alpha\n",
      "    else:\n",
      "        y = (alpha * k**gamma + (1 - alpha))**(1 / gamma)\n",
      "    \n",
      "    return y"
     ],
     "language": "python",
     "metadata": {},
     "outputs": [],
     "prompt_number": 3
    },
    {
     "cell_type": "markdown",
     "metadata": {},
     "source": [
      "We will also need to code a function defining the marginal product of capital per effective person.  From your homework assignment, you should recall that \n",
      "\n",
      "$$ f'(k) = \\alpha k(t)^{\\gamma-1}\\bigg[\\alpha k(t)^{\\gamma} + (1-\\alpha)\\bigg]^{\\frac{1}{\\gamma} - 1} \\tag{1.2a}$$\n",
      "\n",
      "for $\\sigma \\neq 1$ and \n",
      "\n",
      "$$f'(k) = \\alpha k(t)^{\\alpha-1} \\tag{1.2b}$$\n",
      "\n",
      "for the Cobb-Douglas special case when $\\sigma = 1$. "
     ]
    },
    {
     "cell_type": "markdown",
     "metadata": {},
     "source": [
      "### Exercise 2:\n",
      "\n",
      "Use the information above to complete the [Python function](http://www.greenteapress.com/thinkpython/html/thinkpython004.html) `marginal_product_capital` defined below. "
     ]
    },
    {
     "cell_type": "code",
     "collapsed": false,
     "input": [
      "def marginal_product_capital(t, k, params):\n",
      "    \"\"\"\n",
      "    Marginal product of capital for CES production function.\n",
      "\n",
      "    Arguments:\n",
      "\n",
      "        t:      (array-like) Time.\n",
      "        k:      (array-like) Capital (per person/effective person).\n",
      "        params: (dict) Dictionary of parameter values.\n",
      "       \n",
      "    Returns:\n",
      "\n",
      "        mpk: (array-like) Derivative of output with respect to capital, k.\n",
      "\n",
      "    \"\"\"\n",
      "    # extract params\n",
      "    alpha = params['alpha']\n",
      "    sigma = params['sigma']\n",
      "    gamma = (sigma - 1) / sigma\n",
      "    \n",
      "    # nest Cobb-Douglas as special case\n",
      "    if gamma == 0:\n",
      "        mpk = # INSERT CODE HERE!!\n",
      "    else:\n",
      "        mpk = # INSERT CODE HERE!!\n",
      "    \n",
      "    return mpk\n"
     ],
     "language": "python",
     "metadata": {},
     "outputs": []
    },
    {
     "cell_type": "code",
     "collapsed": false,
     "input": [
      "# my solution!\n",
      "def marginal_product_capital(t, k, params):\n",
      "    \"\"\"\n",
      "    Marginal product of capital for CES production function.\n",
      "\n",
      "    Arguments:\n",
      "\n",
      "        t:      (array-like) Time.\n",
      "        k:      (array-like) Capital (per person/effective person).\n",
      "        params: (dict) Dictionary of parameter values.\n",
      "       \n",
      "    Returns:\n",
      "\n",
      "        mpk: (array-like) Derivative of output with respect to capital, k.\n",
      "\n",
      "    \"\"\"\n",
      "    # extract params\n",
      "    alpha = params['alpha']\n",
      "    sigma = params['sigma']\n",
      "    gamma = (sigma - 1) / sigma\n",
      "    \n",
      "    # nest Cobb-Douglas as special case\n",
      "    if gamma == 0:\n",
      "        mpk = alpha * k**(alpha - 1)\n",
      "    else:\n",
      "        mpk = alpha * k**(gamma - 1) * (alpha * k**gamma + (1 - alpha))**((1 / gamma) - 1)\n",
      "    \n",
      "    return mpk"
     ],
     "language": "python",
     "metadata": {},
     "outputs": [],
     "prompt_number": 4
    },
    {
     "cell_type": "markdown",
     "metadata": {},
     "source": [
      "## Coding the equilibrium system of ODEs:\n",
      "\n",
      "From the lecture you should recall that the equilibrium of the continuous-time, optimal growth model is described by the following two-dimensional system of ordinary differential equations (ODEs).\n",
      "\n",
      "\\begin{align}\n",
      " \t\\dot{k} =& f(k(t)) - (n+g+\\delta)k(t) - c(t),\\ k(0) = k_0 \\tag{1.3}\\\\\n",
      "\t\\dot{c} =& \\left[\\frac{f'(k(t)) - \\delta - \\rho - \\theta g}{\\theta}\\right]c(t),\\ 0 < \\lim_{t\\rightarrow\\infty} |c(t)| < \\infty \\tag{1.4}\n",
      "\\end{align}\n",
      "\n",
      "Equation 1.3 is the equation of motion for capital per effective person and equation 1.4 is the consumption Euler equation. "
     ]
    },
    {
     "cell_type": "markdown",
     "metadata": {},
     "source": [
      "### Exercise 3:\n",
      "\n",
      "Use the information above to complete the [Python functions](http://www.greenteapress.com/thinkpython/html/thinkpython004.html) `equation_motion_capital` and `consumption_euler_equation` defined below. "
     ]
    },
    {
     "cell_type": "code",
     "collapsed": false,
     "input": [
      "def equation_motion_capital(t, vec, params):\n",
      "    \"\"\"\n",
      "    Equation of motion for capital (per person/ effective person).\n",
      "\n",
      "    Arguments:\n",
      "\n",
      "        t:      (array-like) Time.\n",
      "        vec:    (array-like) Vector of endogenous variables [k, c] where k is \n",
      "                capital (per person/effective person) and c is consumption \n",
      "                (per person/effective person).\n",
      "        params: (dict) Dictionary of parameter values.\n",
      "       \n",
      "    Returns:\n",
      "\n",
      "        k_dot: (array-like) Rate of change in the stock of captial \n",
      "               (per person/effective person).\n",
      "\n",
      "    \"\"\"\n",
      "    # extract params\n",
      "    n     = params['n']\n",
      "    g     = params['g']\n",
      "    delta = params['delta']\n",
      "    \n",
      "    # unpack the vector of endogenous variables\n",
      "    k, c = vec\n",
      "    \n",
      "    # formula for the equation of motion for capital \n",
      "    k_dot = # INSERT CODE HERE!!\n",
      "    \n",
      "    return k_dot\n",
      "\n",
      "def consumption_euler_equation(t, vec, params):\n",
      "    \"\"\"\n",
      "    Equation of motion for consumption (per person/ effective person).\n",
      "\n",
      "    Arguments:\n",
      "\n",
      "        t:      (array-like) Time.\n",
      "        vec:    (array-like) Vector of endogenous variables [k, c] where k is \n",
      "                capital (per person/effective person) and c is consumption \n",
      "                (per person/effective person).\n",
      "        params: (dict) Dictionary of parameter values.\n",
      "       \n",
      "    Returns:\n",
      "\n",
      "        c_dot: (array-like) Rate of change in consumption (per person/effective \n",
      "               person).\n",
      "\n",
      "    \"\"\"\n",
      "    # extract params\n",
      "    g     = params['g']\n",
      "    delta = params['delta']\n",
      "    rho   = params['rho']\n",
      "    theta = params['theta']\n",
      "    \n",
      "    # unpack the vector of endogenous variables\n",
      "    k, c = vec\n",
      "    \n",
      "    # marginal product of capital\n",
      "    mpk = # INSERT CODE HERE!!\n",
      "\n",
      "    # formula for the equation of motion for consumption\n",
      "    c_dot = # INSERT CODE HERE!!\n",
      "    \n",
      "    return c_dot"
     ],
     "language": "python",
     "metadata": {},
     "outputs": []
    },
    {
     "cell_type": "code",
     "collapsed": false,
     "input": [
      "# my solutions!\n",
      "def equation_motion_capital(t, vec, params):\n",
      "    \"\"\"\n",
      "    Equation of motion for capital (per person/ effective person).\n",
      "\n",
      "    Arguments:\n",
      "\n",
      "        t:      (array-like) Time.\n",
      "        vec:    (array-like) Vector of endogenous variables [k, c] where k is \n",
      "                capital (per person/effective person) and c is consumption \n",
      "                (per person/effective person).\n",
      "        params: (dict) Dictionary of parameter values.\n",
      "       \n",
      "    Returns:\n",
      "\n",
      "        k_dot: (array-like) Rate of change in the stock of captial \n",
      "               (per person/effective person).\n",
      "\n",
      "    \"\"\"\n",
      "    # extract params\n",
      "    n     = params['n']\n",
      "    g     = params['g']\n",
      "    delta = params['delta']\n",
      "    \n",
      "    # unpack the vector of endogenous variables\n",
      "    k, c = vec\n",
      "    \n",
      "    # formula for the equation of motion for capital \n",
      "    k_dot = ces_output(t, k, params) - (n + g + delta) * k - c\n",
      "    \n",
      "    return k_dot\n",
      "\n",
      "def consumption_euler_equation(t, vec, params):\n",
      "    \"\"\"\n",
      "    Equation of motion for consumption (per person/ effective person).\n",
      "\n",
      "    Arguments:\n",
      "\n",
      "        t:      (array-like) Time.\n",
      "        vec:    (array-like) Vector of endogenous variables [k, c] where k is \n",
      "                capital (per person/effective person) and c is consumption \n",
      "                (per person/effective person).\n",
      "        params: (dict) Dictionary of parameter values.\n",
      "       \n",
      "    Returns:\n",
      "\n",
      "        c_dot: (array-like) Rate of change in consumption (per person/effective \n",
      "               person).\n",
      "\n",
      "    \"\"\"\n",
      "    # extract params\n",
      "    g     = params['g']\n",
      "    delta = params['delta']\n",
      "    rho   = params['rho']\n",
      "    theta = params['theta']\n",
      "    \n",
      "    # unpack the vector of endogenous variables\n",
      "    k, c = vec\n",
      "    \n",
      "    # marginal product of capital\n",
      "    mpk = marginal_product_capital(t, k, params)\n",
      "\n",
      "    # formula for the equation of motion for consumption\n",
      "    c_dot = ((mpk - delta - rho - theta * g) / theta) * c\n",
      "    \n",
      "    return c_dot"
     ],
     "language": "python",
     "metadata": {},
     "outputs": [],
     "prompt_number": 5
    },
    {
     "cell_type": "markdown",
     "metadata": {},
     "source": [
      "## Coding the instantaneous utility function, $u(c)$:\n",
      "\n",
      "Recall that the consumption Euler equation as defined above assumes that the representative household hold has constant relative risk aversion (CRRA) utility.\n",
      "\n",
      "$$u(c) = \\frac{c^{1 - \\theta} - 1}{1 - \\theta} \\tag{1.5a}$$\n",
      "\n",
      "where utility is a function of consumption per effective person, $c$. The parameter,  $0 \\lt \\theta$, plays a dual role:\n",
      "\n",
      "* $\\theta$ is the agent's coefficient of relative risk aversion\n",
      "* $\\frac{1}{\\theta}$ is the agent's elasticity of inter-temporal substitution\n",
      "\n",
      "Things to remember about this utility function:\n",
      "\n",
      "When $0 \\lt \\theta$ but \"close\" to zero, consumer has almost linear (i.e., risk neutral) utility. As $\\theta$ increases, households becomes more risk averse (i.e., the curvature of the utility function increases!). Note that this increase in curvature becomes most apparent in the behavior of the utility function for levels of consumption less than 1. As $\\theta$ increase the \"penalty\" for consuming less than 1 unit becomes increasingly severe!\n",
      "\n",
      "Why is there a '-1' in the numerator come from? It has the effect of making total utility positive or negative depending on whether $c$ is greater than or less than one. Also \n",
      "\n",
      "$$\\lim_{\\theta \\rightarrow 1}\\ \\frac{c^{1 - \\theta} - 1}{1 - \\theta}\\ =\\ \\ln\\ c. \\tag{1.5b}$$\n",
      "\n",
      "It is also **not** necessary! Leaving off the '-1' will still yield CRRA preferences."
     ]
    },
    {
     "cell_type": "code",
     "collapsed": false,
     "input": [
      "def crra_utility(c, params):\n",
      "    \"\"\"\n",
      "    The optimal growth model assumes that the representative individual has CRRA utility.      \n",
      "    utility. Individual utility is a function of consumption per effective person, c. The \n",
      "    parameter, 0 < theta, plays a dual role: \n",
      "        \n",
      "        1) theta is the agent's coefficient of relative risk aversion\n",
      "        2) 1 / theta is the agent's elasticity of inter-temporal substitution\n",
      "    \n",
      "    N.B.: If theta = 1, then CRRA utility is equivalent to log utility! \n",
      "    \n",
      "    Arguments:\n",
      "    \n",
      "        c:      (array) Consumption per effective person\n",
      "        \n",
      "        params: (dict) Dictionary of model parameters.\n",
      "        \n",
      "    Returns: \n",
      "    \n",
      "        utility: (array) An array of values respresenting utility from consumption per \n",
      "                 effective worker.\n",
      "        \n",
      "    \"\"\"\n",
      "    # extract the params\n",
      "    theta = params['theta']\n",
      "    \n",
      "    if theta == 1:\n",
      "        utility = np.log(c)\n",
      "    else:\n",
      "        utility = (c**(1 - theta) - 1) / (1 - theta)\n",
      "    \n",
      "    return utility"
     ],
     "language": "python",
     "metadata": {},
     "outputs": [],
     "prompt_number": 6
    },
    {
     "cell_type": "markdown",
     "metadata": {},
     "source": [
      "Let's plot this utility function for different values of the elasticity of intertemporal substitution..."
     ]
    },
    {
     "cell_type": "code",
     "collapsed": false,
     "input": [
      "# Create a grid of points for plotting\n",
      "gridmax, gridsize = 6, 1000\n",
      "grid = np.linspace(0, gridmax, gridsize)\n",
      "\n",
      "# Create a new figure\n",
      "plt.figure(figsize=(8,6))\n",
      "\n",
      "# create an array of some values for theta\n",
      "theta_values = np.logspace(-2, 2, 5)\n",
      "\n",
      "# Plot utility for varying values of theta\n",
      "for theta in theta_values:\n",
      "    params = {'theta':theta}\n",
      "    plt.plot(grid, crra_utility(grid, params), '-', label=r'$\\theta=%.2f$' %theta)\n",
      "\n",
      "# Don't forget to label your axes!\n",
      "plt.xlabel('$c$', fontsize=15, family='serif')\n",
      "plt.ylabel('$u(c)$', rotation='horizontal', fontsize=15, family='serif')\n",
      "plt.axis([0, 6, -10, 5])\n",
      "\n",
      "# Add a title to the plot\n",
      "plt.title(r'CRRA Utility for different values of $\\theta$', fontsize=20, family='serif')\n",
      "\n",
      "# Add a legend\n",
      "plt.legend(loc=2, frameon=False)\n",
      "\n",
      "# Turn on grid lines\n",
      "plt.grid()\n",
      "\n",
      "# save and display figure!\n",
      "plt.savefig('graphics/CRRA-utility.png')\n",
      "plt.show()"
     ],
     "language": "python",
     "metadata": {},
     "outputs": [
      {
       "metadata": {},
       "output_type": "display_data",
       "png": "[encoded data removed]",
       "text": [
        "<matplotlib.figure.Figure at 0xa5e8230>"
       ]
      }
     ],
     "prompt_number": 7
    },
    {
     "cell_type": "markdown",
     "metadata": {},
     "source": [
      "### Coding the Jacobian matrix:\n",
      "The next piece of the model that we need to construct is the [Jacobian](http://en.wikipedia.org/wiki/Jacobian_matrix_and_determinant) matrix of partial derivatives. \n",
      "\n",
      "$$ \n",
      "\\mathcal{J} =\n",
      "\\begin{bmatrix}\n",
      "\\frac{\\partial \\dot{k}}{\\partial k} & \\frac{\\partial \\dot{k}}{\\partial c}\\\\\n",
      "\\frac{\\partial \\dot{c}}{\\partial k} & \\frac{\\partial \\dot{c}}{\\partial c}\n",
      "\\end{bmatrix} =\n",
      "\\begin{bmatrix}\n",
      "f'(k) - (n + g + \\delta) & -1\\\\\n",
      "\\frac{1}{\\theta}f''(k) & \\frac{f'(k) - \\delta - \\rho - \\theta g}{\\theta}\n",
      "\\end{bmatrix} \n",
      "\\tag{1.5}\n",
      "$$\n",
      "\n",
      "The Jacobian matrix plays several important roles in the optimal growth model (and many other economic models!):\n",
      "\n",
      "1. We can use $\\mathcal{J}$ to construct a linear approximation of the full non-linear model via a first-order Taylor expansion around the model's long-run steady-state.\n",
      "2. We can use the [eigenvalues and eigenvectors](http://en.wikipedia.org/wiki/Eigenvalues_and_eigenvectors) of $\\mathcal{J}$ to assess the model's stability properties.\n",
      "3. $\\mathcal{J}$ is also an important input into finite-difference methods for solving boundary value problems (BVPs).  \n",
      "\n",
      "Although the above matrix of partial derivatives looks fairly straightforward to compute by hand, you may recall from your homework that deriving an analytic expression for $f''$ with CES production is tedious and error prone. In general, a much better strategy is to get the computer to take complicated and error-prone derivatives for you! There are three general approaches that one can use in order to get a computer to take derivatives: [numeric differentiation](http://en.wikipedia.org/wiki/Numerical_differentiation), [symbolic differentiation](http://en.wikipedia.org/wiki/Symbolic_differentiation), or [automatic differentiation](http://en.wikipedia.org/wiki/Automatic_differentiation).  \n",
      "\n",
      "While numerical differentiation is often very fast, routines that are simple to implement may fail to achieve a high level of accuracy.  Automatic differentiation is the gold-standard but open-source libraries implmenting the techniques are rare (although there are several such libraries currently under development in Python). We will take a middle of the road approach and use symbolic differentiation via [SymPy](http://sympy.org/en/index.html) to compute the model's Jacobian."
     ]
    },
    {
     "cell_type": "code",
     "collapsed": false,
     "input": [
      "def ramsey_jacobian(t, vec, params):\n",
      "    \"\"\"\n",
      "    The Jacobian for the optimal growth model is computed using symbolic \n",
      "    differentiation and then evaluated numerically.\n",
      "\n",
      "    Arguments:\n",
      "\n",
      "        t:      (array-like) Time.\n",
      "        vec:    (array-like) Vector of endogenous variables [k, c] where k is \n",
      "                capital (per person/effective person) and c is consumption \n",
      "                (per person/effective person).\n",
      "        params: (dict) Dictionary of parameter values.\n",
      "       \n",
      "    Returns:\n",
      "\n",
      "       jac: (array-like) Jacobian matrix of partial derivatives.\n",
      "\n",
      "    \"\"\"\n",
      "    # declare two symbolic variables\n",
      "    k, c = sp.symbols('k,c')\n",
      "    \n",
      "    # represent the system of equations as a SymPy matrix\n",
      "    k_dot = lambda k, c: equation_motion_capital(t, [k, c], params)\n",
      "    c_dot = lambda k, c: consumption_euler_equation(t, [k, c], params)\n",
      "    F     = sp.Matrix([k_dot(k, c), c_dot(k, c)])\n",
      "\n",
      "    # now computing the Jacobian is trivial!\n",
      "    symbolic_jacobian  = F.jacobian([k, c])\n",
      "        \n",
      "    # lambdify the function in order to evaluate it numerically\n",
      "    numeric_jacobian   = sp.lambdify(args=[k, c], expr=symbolic_jacobian, modules='numpy') \n",
      "    \n",
      "    # output num_jac evaluated at vec\n",
      "    evaluated_jacobian = np.array(numeric_jacobian(vec[0], vec[1]))\n",
      "    \n",
      "    return evaluated_jacobian"
     ],
     "language": "python",
     "metadata": {},
     "outputs": [],
     "prompt_number": 8
    },
    {
     "cell_type": "markdown",
     "metadata": {},
     "source": [
      "### Coding the steady state values of $k$ and $c$\n",
      "Because the Ramsey Model is still relatively simply, we can write down an analytic expressions for the steady state value of capital per effective person and consumption per effective person in terms of the structural parameters of the model. \n",
      "\n",
      "In general, the steady state value for capital per effective person is the value of $k$ that solves\n",
      "\n",
      "$$ f'(k) = \\delta + \\rho + \\theta g. \\tag{1.6}$$\n",
      "\n",
      "For the CES case you should be able to show that \n",
      "\n",
      "$$k^* = (1 - \\alpha)^{\\frac{1}{\\gamma}}\\Bigg[\\left(\\frac{\\alpha}{\\delta + \\rho + \\theta g}\\right)^{\\frac{\\gamma}{\\gamma - 1}} - \\left(\\frac{\\alpha}{1 - \\alpha}\\right)\\Bigg]^{-\\frac{1}{\\gamma}} \\tag{1.7a}$$\n",
      "\n",
      "when $\\sigma \\ne 1$, and\n",
      "\n",
      "$$ k^* = \\left(\\frac{\\alpha}{\\delta+\\rho+\\theta g}\\right)^{\\frac{1}{1-\\alpha}} \\tag{1.7b}$$\n",
      "\n",
      "when $\\sigma = 1$. Once the steady state value for capital per effective person is known the steady state value of consumption per effective person can be computed using the equation of motion for capital per effective person.\n",
      "\n",
      "$$ c^* = f(k^*) - (n + g + \\delta)k^* \\tag{1.8}$$\n",
      "\n",
      "Now we need to code these expressions as Python functions..."
     ]
    },
    {
     "cell_type": "code",
     "collapsed": false,
     "input": [
      "def analytic_k_star(params): \n",
      "    \"\"\"Steady-state level of capital (per person/effective person).\"\"\"\n",
      "    # extract params\n",
      "    n     = params['n']\n",
      "    g     = params['g']\n",
      "    alpha = params['alpha']\n",
      "    delta = params['delta']\n",
      "    rho   = params['rho']\n",
      "    theta = params['theta']\n",
      "    sigma = params['sigma']\n",
      "    gamma = (sigma - 1) / sigma\n",
      "    \n",
      "    # nest Cobb-Douglas as special case\n",
      "    if gamma == 0:\n",
      "        k_star = (alpha / (delta + rho + theta * g))**(1 / (1 - alpha))\n",
      "    else:\n",
      "        k_star = (1 - alpha)**(1 / gamma) * ((alpha / (delta + rho + theta * g))**(gamma / (gamma - 1)) - alpha)**(-1 / gamma)\n",
      "    \n",
      "    return k_star\n",
      "\n",
      "def analytic_c_star(params): \n",
      "    \"\"\"Steady-state level of consumption (per person/effective person).\"\"\"\n",
      "    # extract params\n",
      "    n     = params['n']\n",
      "    g     = params['g']\n",
      "    delta = params['delta']\n",
      "    \n",
      "    # compute k_star\n",
      "    k_star = analytic_k_star(params)\n",
      "    \n",
      "    # compute c_star\n",
      "    c_star = ces_output(0, k_star, params) - (n + g + delta) * k_star\n",
      "    \n",
      "    return c_star"
     ],
     "language": "python",
     "metadata": {},
     "outputs": [],
     "prompt_number": 9
    },
    {
     "cell_type": "markdown",
     "metadata": {},
     "source": [
      "### Choosing baseline parameters:\n",
      "Finally, to complete the description of the model, we need to provide some \"reasonable\" values for the model parameters in the form of a [Python dictionary](http://www.greenteapress.com/thinkpython/html/thinkpython012.html)."
     ]
    },
    {
     "cell_type": "code",
     "collapsed": false,
     "input": [
      "# start by defining a dictionary of parameter values\n",
      "baseline_params = {'alpha':0.33, 'n':0.025, 'g':0.025, 'rho':0.04, 'theta':2.5, \n",
      "                   'delta':0.1, 'sigma':1.0, 'A0':1.0, 'L0':1.0}"
     ],
     "language": "python",
     "metadata": {},
     "outputs": [],
     "prompt_number": 10
    },
    {
     "cell_type": "markdown",
     "metadata": {},
     "source": [
      "### Creating an instance of the `ramsey.Model` class:\n",
      "Now we are ready to create an instance of the `ramsey.Model` class representing the optimal growth model..."
     ]
    },
    {
     "cell_type": "code",
     "collapsed": false,
     "input": [
      "# we create an instance of the optimgal growth model as follows...\n",
      "model = ramsey.Model(output=ces_output,                \n",
      "                     mpk=marginal_product_capital, \n",
      "                     k_dot=equation_motion_capital, \n",
      "                     c_dot=consumption_euler_equation,\n",
      "                     utility=crra_utility,\n",
      "                     jacobian=ramsey_jacobian, \n",
      "                     params=baseline_params)"
     ],
     "language": "python",
     "metadata": {},
     "outputs": [],
     "prompt_number": 58
    },
    {
     "cell_type": "markdown",
     "metadata": {},
     "source": [
      "### Adding the steady state expressions to the model:\n",
      "\n",
      "Now we add the steady state functions to the model using by passing a dictionary containing the steady state expressions to the `set_functions` method of the model's `steady_state` attribute."
     ]
    },
    {
     "cell_type": "code",
     "collapsed": false,
     "input": [
      "# create a dictionary containing the steady state expressions\n",
      "steady_state_funcs = {'k_star':analytic_k_star, 'c_star':analytic_c_star}\n",
      "\n",
      "# pass it as an arg to the set_functions method\n",
      "model.steady_state.set_functions(func_dict=steady_state_funcs)\n",
      "\n",
      "# compute the steady state values!\n",
      "model.steady_state.set_values()"
     ],
     "language": "python",
     "metadata": {},
     "outputs": [],
     "prompt_number": 59
    },
    {
     "cell_type": "code",
     "collapsed": false,
     "input": [
      "# display the values as follows\n",
      "model.steady_state.values"
     ],
     "language": "python",
     "metadata": {},
     "outputs": [
      {
       "metadata": {},
       "output_type": "pyout",
       "prompt_number": 60,
       "text": [
        "{'c_star': 0.9610104414884609, 'k_star': 2.072767618896681}"
       ]
      }
     ],
     "prompt_number": 60
    },
    {
     "cell_type": "markdown",
     "metadata": {},
     "source": [
      "# Task 2: Calibrating the model"
     ]
    },
    {
     "cell_type": "code",
     "collapsed": false,
     "input": [
      "ramsey.calibrate_cobb_douglas(model, iso3_code='USA', init_guess=2.5, rho=0.04)"
     ],
     "language": "python",
     "metadata": {},
     "outputs": [],
     "prompt_number": 61
    },
    {
     "cell_type": "code",
     "collapsed": false,
     "input": [
      "model.params"
     ],
     "language": "python",
     "metadata": {},
     "outputs": [
      {
       "metadata": {},
       "output_type": "pyout",
       "prompt_number": 62,
       "text": [
        "{'A0': 1.327622959069138,\n",
        " 'L0': 61.971196530271804,\n",
        " 'alpha': 0.35095435,\n",
        " 'delta': 0.03761163,\n",
        " 'g': 0.017392729096206015,\n",
        " 'n': 0.015525562239498985,\n",
        " 'rho': 0.04,\n",
        " 'sigma': 1.0,\n",
        " 'theta': 1.8417646412304838}"
       ]
      }
     ],
     "prompt_number": 62
    },
    {
     "cell_type": "code",
     "collapsed": false,
     "input": [
      "model.steady_state.values"
     ],
     "language": "python",
     "metadata": {},
     "outputs": [
      {
       "metadata": {},
       "output_type": "pyout",
       "prompt_number": 417,
       "text": [
        "{'c_star': 1.4523996116430409, 'k_star': 6.0043938676598918}"
       ]
      }
     ],
     "prompt_number": 417
    },
    {
     "cell_type": "code",
     "collapsed": false,
     "input": [
      "model.data.labsh"
     ],
     "language": "python",
     "metadata": {},
     "outputs": []
    },
    {
     "cell_type": "markdown",
     "metadata": {},
     "source": [
      "# Task 3: Analyzing the phase diagram\n",
      "\n",
      "From the lectures you should recall that when the current level of capital per effectiver worker is less than its long-run steady state value, then \n",
      "\n",
      "$$f'(k) > \\delta + \\rho + \\theta g$$\n",
      "\n",
      "and consumption per effective worker is rising. Similarly, when the current level of capital per effectiver worker is greater than its long-run steady state value, then\n",
      "\n",
      "$$f'(k) < \\delta + \\rho + \\theta g$$\n",
      "\n",
      "and consumption per effective worker is falling. The locus of points for which consumption per effective worker is constant (i.e., the set of points for which $\\dot{c}=0$) is called the $\\dot{c}=0$ locus.\n",
      "\n",
      "\n",
      " that the phase diagram for the optimal growth model combines the locus of points for which consumption per effective worker is constant (i.e., the set of points for which $\\dot{c}=0$) with the locus of points for which capital per effective worker is constant (i.e., the set of points for which $\\dot{k}=0$).\n",
      "\n",
      "\n",
      "\n",
      "The syntax for plotting a basic phase diagram uses the `plot_phase_diagram` method of the `Model` class as follows:\n",
      "\n",
      "    model.plot_phase_diagram(gridmax=20, N=1000, arrows = True)\n",
      "    \n",
      "the `gridmax` argument specifies the maximum value of the grid of values for capital per effective worker to include in the plot, `N` is the number of grid points to include in the plot, `arrows` specifies whether you wish to include directional arrows in the plot.  All of this information (and much more!) is contained in the docstring for the `plot_phase_diagram` method."
     ]
    },
    {
     "cell_type": "code",
     "collapsed": false,
     "input": [
      "# always check the docstring of a function before using it!\n",
      "model.plot_phase_diagram?"
     ],
     "language": "python",
     "metadata": {},
     "outputs": [],
     "prompt_number": 338
    },
    {
     "cell_type": "code",
     "collapsed": false,
     "input": [
      "# generate a simple phase diagram plot\n",
      "plt.figure(figsize=(8,6))\n",
      "model.plot_phase_diagram(gridmax=20, N=1000, arrows=True)\n",
      "plt.show()"
     ],
     "language": "python",
     "metadata": {},
     "outputs": [
      {
       "metadata": {},
       "output_type": "display_data",
       "png": "[encoded data removed]",
       "text": [
        "<matplotlib.figure.Figure at 0xc3a5c50>"
       ]
      }
     ],
     "prompt_number": 339
    },
    {
     "cell_type": "markdown",
     "metadata": {},
     "source": [
      "## Exploring parameter shocks\n",
      "\n",
      "The syntax for plotting the response of the phase diagram to shocks to the various exogenous parameters of the model is as follows:\n",
      "\n",
      "    model.plot_phase_diagram(gridmax=20, N=1000, arrows = True, param='delta', shock=0.9, reset=True)\n",
      "    \n",
      "The `gridmax`, `N`, and `arrows` arguments are the as above. The `param` argument is the model parameter that you wish to shock, `shock` specifies the magnitude of the *multiplicative* shock that you wish to apply to the parameter, and `reset` specifies whether you wish to reset the model parameters to their pre-shock values.\n",
      "\n",
      "Thw next cell contains demonstrates how to plot the result of a 50% decrease in the growth rate of technology, $g$."
     ]
    },
    {
     "cell_type": "code",
     "collapsed": false,
     "input": [
      "# suppose there is a 50% negative shock to g\n",
      "plt.figure(figsize=(8,6))\n",
      "model.plot_phase_diagram(gridmax=20, N=1000, arrows=True, param='g', shock=0.5, reset=True)\n",
      "plt.show()"
     ],
     "language": "python",
     "metadata": {},
     "outputs": [
      {
       "metadata": {},
       "output_type": "display_data",
       "png": "[encoded data removed]",
       "text": [
        "<matplotlib.figure.Figure at 0xc32caf0>"
       ]
      }
     ],
     "prompt_number": 343
    },
    {
     "cell_type": "markdown",
     "metadata": {},
     "source": [
      "Recall that the location of the $\\dot{c}=0$ locus is determined by the steady state value of $k$ which solves\n",
      "\n",
      "$$f'(k^*) = \\delta + \\rho + \\theta g.$$\n",
      "\n",
      "Differentiating the above expression with respect to $g$ yields\n",
      "\n",
      "$$f''(k^*)\\frac{\\partial k^*}{\\partial g} = \\theta \\implies \\frac{\\partial k^*}{\\partial g} = \\frac{\\theta}{f''(k^*)} < 0$$\n",
      "\n",
      "is negative because $f''(k) < 0$ for all $k$. Therefore a fall in $g$ actually increase $k^*$ and thus shifts the $\\dot{c}=0$ locus to the right. To see why the $\\dot{k}=0$ locus shifts recall that the $\\dot{k}=0$ locus is the set of values for $c$ which lead to actual investment equaling break even investment.\n",
      "\n",
      "$$ 0 = f(k) - c - (n+g+\\delta)k \\implies f(k) - c = (n + g + \\delta)k$$\n",
      "\n",
      "A fall in $g$ clearly reduces break even invesment. In order for actual investment to fall, consumption per effective worker must rise. Thus a fall in $g$ raises the $\\dot{k}=0$ locus upwards for every level of $k$."
     ]
    },
    {
     "cell_type": "markdown",
     "metadata": {},
     "source": [
      "### Exercise 4: \n",
      "Describe how each of the following shocks affects both the $\\dot{c}=0$ locus and the $\\dot{k}=0$ locus. What happens the the balanced growth path values of $c$ and $k$?"
     ]
    },
    {
     "cell_type": "markdown",
     "metadata": {},
     "source": [
      "#### part a) \n",
      "A rise in the elasticity of substitution between consumption today and consumption tomorrow.  "
     ]
    },
    {
     "cell_type": "code",
     "collapsed": false,
     "input": [
      "# INSERT CODE HERE!"
     ],
     "language": "python",
     "metadata": {},
     "outputs": []
    },
    {
     "cell_type": "markdown",
     "metadata": {},
     "source": [
      "The code in the cell below uses the [IPython magic command](http://ipython.org/ipython-doc/dev/interactive/tutorial.html) `%run` with the `-i` flag to Python script `exercise_4a.py` in IPython's namespace instead of an empty one. This is useful really useful if you are experimenting with code written in a text editor which depends on variables defined interactively. For more information about the `%run` magic command...read the docstring!"
     ]
    },
    {
     "cell_type": "code",
     "collapsed": false,
     "input": [
      "# check the docstring!\n",
      "%run?"
     ],
     "language": "python",
     "metadata": {},
     "outputs": [],
     "prompt_number": 356
    },
    {
     "cell_type": "code",
     "collapsed": false,
     "input": [
      "# my solution\n",
      "%run -i exercise_4a.py"
     ],
     "language": "python",
     "metadata": {},
     "outputs": [
      {
       "metadata": {},
       "output_type": "display_data",
       "png": "[encoded data removed]",
       "text": [
        "<matplotlib.figure.Figure at 0xa7b1870>"
       ]
      }
     ],
     "prompt_number": 355
    },
    {
     "cell_type": "markdown",
     "metadata": {},
     "source": [
      "#### part b)\n",
      "A fall in the elasticity of substitution between capital and effective labor. "
     ]
    },
    {
     "cell_type": "code",
     "collapsed": false,
     "input": [
      "# INSERT CODE HERE!"
     ],
     "language": "python",
     "metadata": {},
     "outputs": []
    },
    {
     "cell_type": "code",
     "collapsed": false,
     "input": [
      "# my solution\n",
      "%run -i exercise_4b.py"
     ],
     "language": "python",
     "metadata": {},
     "outputs": [
      {
       "metadata": {},
       "output_type": "display_data",
       "png": "[encoded data removed]",
       "text": [
        "<matplotlib.figure.Figure at 0xc1be590>"
       ]
      }
     ],
     "prompt_number": 357
    },
    {
     "cell_type": "markdown",
     "metadata": {},
     "source": [
      "#### part c)\n",
      "An increase in the depreciation rate of physical capital."
     ]
    },
    {
     "cell_type": "code",
     "collapsed": false,
     "input": [
      "# INSERT CODE HERE!"
     ],
     "language": "python",
     "metadata": {},
     "outputs": []
    },
    {
     "cell_type": "code",
     "collapsed": false,
     "input": [
      "# my solution\n",
      "%run -i exercise_4c.py"
     ],
     "language": "python",
     "metadata": {},
     "outputs": [
      {
       "metadata": {},
       "output_type": "display_data",
       "png": "[encoded data removed]",
       "text": [
        "<matplotlib.figure.Figure at 0xae891b0>"
       ]
      }
     ],
     "prompt_number": 358
    },
    {
     "cell_type": "markdown",
     "metadata": {},
     "source": [
      "# Task ??: Stability analysis"
     ]
    },
    {
     "cell_type": "code",
     "collapsed": false,
     "input": [],
     "language": "python",
     "metadata": {},
     "outputs": [
      {
       "metadata": {},
       "output_type": "pyout",
       "prompt_number": 399,
       "text": [
        "[6.0043938676598918, 1.4523996116430409]"
       ]
      }
     ],
     "prompt_number": 399
    },
    {
     "cell_type": "code",
     "collapsed": false,
     "input": [
      "vec = model.steady_state.values.values()\n",
      "eval_jac = model.jac(0, vec, model.params)"
     ],
     "language": "python",
     "metadata": {},
     "outputs": [],
     "prompt_number": 418
    },
    {
     "cell_type": "code",
     "collapsed": false,
     "input": [
      "model.steady_state.check_stability(eval_jac)\n",
      "model.steady_state.eigenvalues"
     ],
     "language": "python",
     "metadata": {},
     "outputs": [
      {
       "metadata": {},
       "output_type": "pyout",
       "prompt_number": 427,
       "text": [
        "array([ 0.11819293+0.j, -0.07907791+0.j])"
       ]
      }
     ],
     "prompt_number": 427
    },
    {
     "cell_type": "code",
     "collapsed": false,
     "input": [
      "model.steady_state.eigenvectors"
     ],
     "language": "python",
     "metadata": {},
     "outputs": [
      {
       "metadata": {},
       "output_type": "pyout",
       "prompt_number": 428,
       "text": [
        "array([[ 0.99688793,  0.99308755],\n",
        "       [-0.07883181,  0.11737593]])"
       ]
      }
     ],
     "prompt_number": 428
    },
    {
     "cell_type": "markdown",
     "metadata": {},
     "source": [
      "# Task ??: Simulating and solving the model  "
     ]
    },
    {
     "cell_type": "markdown",
     "metadata": {},
     "source": [
      "## Simulating the optimal growth model\n",
      "Before discussing methods for solving the optimal growth model it is necessary to first learn to simulate trajectories (or time-paths) of the model. Just as we did in the previous lab on the Solow model, we will simulate trajectories for the optimal growth model using the `integrate` method.  The following is a basic example of the syntax used to simulate a time path for the economy given some initial condition. \n",
      "\n",
      "    model.integrate(t0=0, y0=[k0, c0], h=1.0, T=10, integrator='dopri5')\n",
      "    \n",
      "The arguments are defined as follows: `t0` is the initial condition for the independent variable (which without loss of generality we can always set to zero for the optimal growth model); `y0` is an array of initial conditions for the endogenous variables of the model; `h` is the step-size used by the numerical solver when approximating the time-path of the economy, `T` is the desired length of the time-path, `integrator` is a valid finite-difference method for solving the system of differential equations which define the optimal growth model."
     ]
    },
    {
     "cell_type": "code",
     "collapsed": false,
     "input": [
      "# always check the docstring!\n",
      "model.integrate?"
     ],
     "language": "python",
     "metadata": {},
     "outputs": []
    },
    {
     "cell_type": "code",
     "collapsed": false,
     "input": [
      "# initial conditions for c and k\n",
      "c0 = model.steady_state.values['c_star'] / 4\n",
      "k0 = model.steady_state.values['k_star'] / 4\n",
      "\n",
      "# combine into a vector (ordering is important!)\n",
      "init_vec = np.array([k0, c0])\n",
      "\n",
      "# simulate a time path of the economy (column ordering is [t, k, c]!)\n",
      "model.integrate(t0=0, y0=init_vec, h=1.0, T=10, integrator='dopri5')"
     ],
     "language": "python",
     "metadata": {},
     "outputs": [
      {
       "metadata": {},
       "output_type": "pyout",
       "prompt_number": 63,
       "text": [
        "array([[  0.        ,   1.50109847,   0.3630999 ],\n",
        "       [  1.        ,   2.23446279,   0.38894033],\n",
        "       [  2.        ,   3.0546667 ,   0.40580182],\n",
        "       [  3.        ,   3.94718251,   0.41619687],\n",
        "       [  4.        ,   4.89997342,   0.42175157],\n",
        "       [  5.        ,   5.90278887,   0.42359474],\n",
        "       [  6.        ,   6.94674994,   0.42254851],\n",
        "       [  7.        ,   8.02408153,   0.41923263],\n",
        "       [  8.        ,   9.12792646,   0.4141264 ],\n",
        "       [  9.        ,  10.25220908,   0.40760773],\n",
        "       [ 10.        ,  11.39153065,   0.3999791 ]])"
       ]
      }
     ],
     "prompt_number": 63
    },
    {
     "cell_type": "markdown",
     "metadata": {},
     "source": [
      "We can plot a trajectory of the economy in phase space as follows..."
     ]
    },
    {
     "cell_type": "code",
     "collapsed": false,
     "input": [
      "plt.figure(figsize=(8,6))\n",
      "\n",
      "# plot the phase diagram\n",
      "model.plot_phase_diagram(gridmax=75, N=1000, arrows=True)\n",
      "\n",
      "# simulate the model\n",
      "traj = model.integrate(t0=0, y0=init_vec, h=1.0, T=50, integrator='dopri5')\n",
      "\n",
      "# plot the trajectory \n",
      "model.plot_trajectory(traj, color='r')\n",
      "\n",
      "# demarcate the initial condition\n",
      "plt.vlines(k0, 0, c0, linestyle='dashed', color='k')\n",
      "plt.xticks([k0], ['$k_0$'])\n",
      "plt.hlines(c0, 0, k0, linestyle='dashed', color='k')\n",
      "plt.yticks([c0], ['$c_0$'])\n",
      "\n",
      "# change the plot title\n",
      "plt.title('A time path of the economy in phase space...', fontsize=20, family='serif')\n",
      "plt.show()"
     ],
     "language": "python",
     "metadata": {},
     "outputs": [
      {
       "metadata": {},
       "output_type": "display_data",
       "png": "[encoded data removed]",
       "text": [
        "<matplotlib.figure.Figure at 0xb954af0>"
       ]
      }
     ],
     "prompt_number": 65
    },
    {
     "cell_type": "markdown",
     "metadata": {},
     "source": [
      "This is a case of very low initial consumption. Here both $\\dot{c}$ and $\\dot{k}$ are initially positive, but small. From the consumption Euler equation, $\\dot{c}$ is directly proportional to $c$: when $c$ is small, $\\dot{c}$ is also small. Therefore $c$ remains low and the economy evenually crosses the $\\dot{c}=0$ locus. After crossing the $\\dot{c}=0$ locus, $\\dot{c}$ becomes negative while $\\dot{k}$ remains positive. The economy moves down and to the right.\n",
      "\n",
      "The code in the cell below fixes the initial condition for capital per effective worker and then plots trajectories for various initial conditions for consumption per effective worker..."
     ]
    },
    {
     "cell_type": "code",
     "collapsed": false,
     "input": [
      "plt.figure(figsize=(8,6))\n",
      "\n",
      "# plot the phase diagram\n",
      "model.plot_phase_diagram(gridmax=75, N=1000, arrows=False)\n",
      "\n",
      "# new initial condition for k\n",
      "k0 = model.steady_state.values['k_star'] / 2\n",
      "\n",
      "# set of initial conditions for c\n",
      "N = 10\n",
      "c_lower   = model.steady_state.values['c_star'] / 4\n",
      "c_upper   = 2 * model.steady_state.values['c_star']\n",
      "init_vals = np.linspace(c_lower, c_upper, N)\n",
      "\n",
      "# color scheme\n",
      "color_map = mpl.cm.hot(np.linspace(0, 1, N))\n",
      "\n",
      "for i, c0 in enumerate(init_vals):\n",
      "    \n",
      "    # simulate the model\n",
      "    traj = model.integrate(t0=0, y0=[k0, c0], h=0.1, T=20, integrator='dopri5')\n",
      "\n",
      "    # plot the trajectory \n",
      "    model.plot_trajectory(traj, color=color_map[i])\n",
      "\n",
      "# demarcate the initial condition\n",
      "plt.axvline(k0, linestyle='dashed', color='k')\n",
      "plt.xticks([k0], ['$k_0$'])\n",
      "\n",
      "# change the plot title\n",
      "plt.title('Time paths of the economy in phase space...', fontsize=20, family='serif')\n",
      "plt.show()"
     ],
     "language": "python",
     "metadata": {},
     "outputs": [
      {
       "metadata": {},
       "output_type": "display_data",
       "png": "[encoded data removed]",
       "text": [
        "<matplotlib.figure.Figure at 0xaa59550>"
       ]
      }
     ],
     "prompt_number": 103
    },
    {
     "cell_type": "markdown",
     "metadata": {},
     "source": [
      "We can easily repeat the above experiement for an initial condition for capital per effective worker which is greater than its steady state value..."
     ]
    },
    {
     "cell_type": "code",
     "collapsed": false,
     "input": [
      "plt.figure(figsize=(8,6))\n",
      "\n",
      "# plot the phase diagram\n",
      "model.plot_phase_diagram(gridmax=60, N=1000, arrows=False)\n",
      "\n",
      "# new initial condition for k\n",
      "k0 = 2 * model.steady_state.values['k_star']\n",
      "\n",
      "# set of initial conditions for c\n",
      "N = 10\n",
      "c_lower   = model.steady_state.values['c_star'] / 4\n",
      "c_upper   = 2 * model.steady_state.values['c_star']\n",
      "init_vals = np.linspace(c_lower, c_upper, N)\n",
      "\n",
      "# color scheme\n",
      "color_map = mpl.cm.hot(np.linspace(0, 1, N))\n",
      "\n",
      "for i, c0 in enumerate(init_vals):\n",
      "    \n",
      "    # simulate the model\n",
      "    traj = model.integrate(t0=0, y0=[k0, c0], h=0.1, T=20, integrator='dopri5')\n",
      "\n",
      "    # plot the trajectory \n",
      "    model.plot_trajectory(traj, color=color_map[i])\n",
      "\n",
      "# demarcate the initial condition\n",
      "plt.axvline(k0, linestyle='dashed', color='k')\n",
      "plt.xticks([k0], ['$k_0$'])\n",
      "\n",
      "# change the plot title\n",
      "plt.title('Time paths of the economy in phase space...', fontsize=20, family='serif')\n",
      "plt.show()"
     ],
     "language": "python",
     "metadata": {},
     "outputs": [
      {
       "metadata": {},
       "output_type": "display_data",
       "png": "[encoded data removed]",
       "text": [
        "<matplotlib.figure.Figure at 0xa7c1b30>"
       ]
      }
     ],
     "prompt_number": 104
    },
    {
     "cell_type": "markdown",
     "metadata": {},
     "source": [
      "### Exercise:\n",
      "\n",
      "Play around with initial condition for consumption per effective worker, $c_0$, and see if you can find the a value for $c_0$ consistent with a trajectory that \"hits\" the steady at $T=50$. If you are successful, try increasing the length of the trajectory. Can you \"hit\" the steady state at $T=100$?"
     ]
    },
    {
     "cell_type": "code",
     "collapsed": false,
     "input": [
      "plt.figure(figsize=(8,6))\n",
      "\n",
      "# plot the phase diagram\n",
      "model.plot_phase_diagram(gridmax=75, N=1000, arrows=False)\n",
      "\n",
      "# you need to modify c0 and T to try and \"hit\" the steady state!\n",
      "k0 = 4 * model.steady_state.values['k_star']\n",
      "c0 = # INSERT YOUR CODE HERE!\n",
      "T  = # INSERT YOUR CODE HERE!\n",
      "traj = model.integrate(t0=0, y0=[k0, c0], h=0.1, T=T, integrator='dopri5')\n",
      "\n",
      "# plot the trajectory \n",
      "model.plot_trajectory(traj, color='r')\n",
      "\n",
      "# demarcate the initial condition\n",
      "plt.vlines(k0, 0, c0, linestyle='dashed', color='k')\n",
      "plt.xticks([k0], ['$k_0$'])\n",
      "plt.hlines(c0, 0, k0, linestyle='dashed', color='k')\n",
      "plt.yticks([c0], ['$c_0$'])\n",
      "\n",
      "# change the plot title\n",
      "plt.title('Can you hit the steady state?', fontsize=20, family='serif')\n",
      "plt.show()"
     ],
     "language": "python",
     "metadata": {},
     "outputs": [
      {
       "metadata": {},
       "output_type": "display_data",
       "png": "[encoded data removed]",
       "text": [
        "<matplotlib.figure.Figure at 0xb9527b0>"
       ]
      }
     ],
     "prompt_number": 102
    },
    {
     "cell_type": "markdown",
     "metadata": {},
     "source": [
      "## Solving the model via linearization\n",
      "Because the optimal growth model is saddle point stable there exist two invariant manifolds: a stable manifold, $M_S$ and an unstable manifold, $M_U$.  These manifolds are called invariant because any path that begins on $M_S (M_U)$ will remain on $M_S (M_U)$. $M_S$ is called the stable manifold because any path that begins on the stable manifold will eventually converge to the steady state; $M_U$ is called the unstable manifold because any path the begins on $M_U$ will diverge away from the steady state. \n",
      "\n",
      "<div align='center'> \n",
      "  <img src=\"https://raw.github.com/davidrpugh/numerical-methods/master/lab-2/graphics/ramsey-phase-diagram-with-manifolds.png\" />\n",
      "</div>\n",
      "\n",
      "As you might have guessed, in order to solve the optimal growth model we need to compute its stable manifold, $M_S$. \n"
     ]
    },
    {
     "cell_type": "markdown",
     "metadata": {},
     "source": [
      "## Solving the model via forward-shooting\n",
      "In the previous section, you found a linear approximation to the stable manifold that was only valid in a neighborhood of the steady state.  In this task, we will see how to solve for the full non-linear stable manifold using a \"forward shooting\" approach. Rough idea behind the 'forward shooting' algorithm goes as follows. \n",
      "\n",
      "1. Given an initial condition for capital per effective worker, guess at the correct value for consumption per effective worker. In order that our initial guess must be feasible, our guess must satisfy $0 \\lt c_{0} \\lt (1 - \\delta)k_0 + f(k_{0})$.\n",
      "2. Iterate the economy forward through time and see if we arrive at the steady-state. If the level of capital per effective worker ever begins to fall, then our initial choice of consumption was too high and we need to revise our guess downward. Similarly, if the level of consumption per effective worker ever begins to fall, then our initial choice of consumption must have been too low and we need to revise our guess upward. \n",
      "3. Repeat this 'guess and check' procedure many times until will converge on a choice of consumption per effective worker than will get us 'close enough' (i.e., within our choice of error tolerance) to the steady state.\n",
      "\n",
      "The pseudo-code below gives basically translates the above logic into something closer to an algorithm that we could implement in order to solve for an approximation of the stable manifold.\n",
      "\n",
      "    # Bracket the true c(0) by setting cL=0 and cH = y + (1 - delta)k. \n",
      "    cL = 0\n",
      "    cH = f(k0) + (1 - delta) * k0\n",
      "    \n",
      "    # Guess that c0 = 0.5(cH + cL) and specify a stopping tolerance, tol > 0.\n",
      "    c0 = 0.5 * (cH + cL)\n",
      "    \n",
      "    while True:\n",
      "        Solve the model as an IVP with k(0)=k0 and c(0)=c0\n",
      "        if c is falling:\n",
      "            # check for convergence\n",
      "            if |c(T) - c^*| < tol:\n",
      "                break\n",
      "            # current guess too low!\n",
      "            else:\n",
      "                cL = c0 \n",
      "                c0 = 0.5 * (c_H + c_L)\n",
      "\t\n",
      "        elif k is falling:\n",
      "            # check for convergence\n",
      "            if |c(T) - c^*| < tol:\n",
      "                break   \n",
      "            # current guess too high!\n",
      "            else: \n",
      "                cH = c0\n",
      "                c0 = 0.5 * (cH + cL)\n",
      "\n",
      "The figure below gives a sense of how the \"forward shooting\" algorithm converges to an initial condition, $c_0^*$, that yields a good approximation of the stable manifold, $M_S$.  \n",
      "\n",
      "<div align='center'> \n",
      "  <img src=\"https://raw.github.com/davidrpugh/computational-econ-labs/master/graduate/Lab-2/graphics/ramsey-phase-diagram-with-trajs.png\" alt=\"Forward shooting\"/>\n",
      "</div>\n",
      "\n",
      "To solve the model using forward shooting we use the `solve_forward_shooting` method of the `Model` class. The basic syntax looks as follows:\n",
      "\n",
      "    model.solve_forward_shooting(k0, h=1.0, tol=1e-6, mesg=True, integrator='dopri5', **kwargs)\n",
      "    \n",
      "where the arguments are an initial condition for capital per effective worker, `k0`; a step size, `h`, to use when solving the IVP for given initial conditions using some finite-difference method defined by `integrator`; a convergence tolerance, `tol`, defining how close to the steady state is close enough; a boolean flag, `mesg`, specifying whether or not you wish to print progress messages; and, `**kwargs` a dictionary of optional keyword arguments for the IVP solver.    "
     ]
    },
    {
     "cell_type": "code",
     "collapsed": false,
     "input": [
      "# check the docstring\n",
      "model.solve_forward_shooting?"
     ],
     "language": "python",
     "metadata": {},
     "outputs": [],
     "prompt_number": 142
    },
    {
     "cell_type": "code",
     "collapsed": false,
     "input": [
      "# set initial condition for capital per effective worker\n",
      "k0 = model.steady_state.values['k_star'] / 2\n",
      "\n",
      "# compute the lower branch of the stable manifold using forward shooting\n",
      "ms_lower = model.solve_forward_shooting(k0, h=1.0, tol=1e-6, mesg=True, integrator='dopri5')"
     ],
     "language": "python",
     "metadata": {},
     "outputs": [
      {
       "output_type": "stream",
       "stream": "stdout",
       "text": [
        "Old c0 too low, new c0 = 0.944306036383\n",
        "Old c0 too low, new c0 = 1.10169037578\n",
        "Old c0 too high, new c0 = 1.02299820608\n",
        "Old c0 too low, new c0 = 1.06234429093\n",
        "Old c0 too high, new c0 = 1.04267124851\n",
        "Old c0 too high, new c0 ="
       ]
      },
      {
       "output_type": "stream",
       "stream": "stdout",
       "text": [
        " 1.03283472729\n",
        "Old c0 too low, new c0 = 1.0377529879\n",
        "Old c0 too low, new c0 = 1.0402121182\n",
        "Old c0 too low, new c0 = 1.04144168335\n",
        "Old c0 too low, new c0 ="
       ]
      },
      {
       "output_type": "stream",
       "stream": "stdout",
       "text": [
        " 1.04205646593\n",
        "Old c0 too low, new c0 = 1.04236385722\n",
        "Old c0 too low, new c0 ="
       ]
      },
      {
       "output_type": "stream",
       "stream": "stdout",
       "text": [
        " 1.04251755286\n",
        "Old c0 too high, new c0 = 1.04244070504\n",
        "Old c0 too high, new c0 ="
       ]
      },
      {
       "output_type": "stream",
       "stream": "stdout",
       "text": [
        " 1.04240228113\n",
        "Old c0 too low, new c0 = 1.04242149308\n",
        "Old c0 too low, new c0 ="
       ]
      },
      {
       "output_type": "stream",
       "stream": "stdout",
       "text": [
        " 1.04243109906\n",
        "Old c0 too high, new c0 = 1.04242629607\n",
        "Old c0 too high, new c0 ="
       ]
      },
      {
       "output_type": "stream",
       "stream": "stdout",
       "text": [
        " 1.04242389458\n",
        "Old c0 too low, new c0 ="
       ]
      },
      {
       "output_type": "stream",
       "stream": "stdout",
       "text": [
        " 1.04242509533\n",
        "Old c0 too high, new c0 ="
       ]
      },
      {
       "output_type": "stream",
       "stream": "stdout",
       "text": [
        " 1.04242449495\n",
        "Old c0 too high, new c0 ="
       ]
      },
      {
       "output_type": "stream",
       "stream": "stdout",
       "text": [
        " 1.04242419477\n",
        "Old c0 too high, new c0 ="
       ]
      },
      {
       "output_type": "stream",
       "stream": "stdout",
       "text": [
        " 1.04242404467\n",
        "Old c0 too high, new c0 ="
       ]
      },
      {
       "output_type": "stream",
       "stream": "stdout",
       "text": [
        " 1.04242396963\n",
        "Old c0 too low, new c0 ="
       ]
      },
      {
       "output_type": "stream",
       "stream": "stdout",
       "text": [
        " 1.04242400715\n",
        "Old c0 too low, new c0 ="
       ]
      },
      {
       "output_type": "stream",
       "stream": "stdout",
       "text": [
        " 1.04242402591\n",
        "Old c0 too low, new c0 ="
       ]
      },
      {
       "output_type": "stream",
       "stream": "stdout",
       "text": [
        " 1.04242403529\n",
        "Old c0 too low, new c0 ="
       ]
      },
      {
       "output_type": "stream",
       "stream": "stdout",
       "text": [
        " 1.04242403998\n",
        "Old c0 too high, new c0 ="
       ]
      },
      {
       "output_type": "stream",
       "stream": "stdout",
       "text": [
        " 1.04242403764\n",
        "Old c0 too low, new c0 ="
       ]
      },
      {
       "output_type": "stream",
       "stream": "stdout",
       "text": [
        " 1.04242403881\n",
        "Old c0 too low, new c0 ="
       ]
      },
      {
       "output_type": "stream",
       "stream": "stdout",
       "text": [
        " 1.0424240394\n",
        "Old c0 too low, new c0 ="
       ]
      },
      {
       "output_type": "stream",
       "stream": "stdout",
       "text": [
        " 1.04242403969\n",
        "Old c0 too low, new c0 ="
       ]
      },
      {
       "output_type": "stream",
       "stream": "stdout",
       "text": [
        " 1.04242403984\n",
        "Old c0 too low, new c0 ="
       ]
      },
      {
       "output_type": "stream",
       "stream": "stdout",
       "text": [
        " 1.04242403991\n",
        "Old c0 too high, new c0 ="
       ]
      },
      {
       "output_type": "stream",
       "stream": "stdout",
       "text": [
        " 1.04242403987\n",
        "Old c0 too low, new c0 ="
       ]
      },
      {
       "output_type": "stream",
       "stream": "stdout",
       "text": [
        " 1.04242403989\n",
        "Old c0 too low, new c0 ="
       ]
      },
      {
       "output_type": "stream",
       "stream": "stdout",
       "text": [
        " 1.0424240399\n",
        "Old c0 too high, new c0 ="
       ]
      },
      {
       "output_type": "stream",
       "stream": "stdout",
       "text": [
        " 1.04242403989\n",
        "Old c0 too high, new c0 ="
       ]
      },
      {
       "output_type": "stream",
       "stream": "stdout",
       "text": [
        " 1.04242403989\n",
        "Old c0 too high, new c0 ="
       ]
      },
      {
       "output_type": "stream",
       "stream": "stdout",
       "text": [
        " 1.04242403989\n",
        "Old c0 too low, new c0 ="
       ]
      },
      {
       "output_type": "stream",
       "stream": "stdout",
       "text": [
        " 1.04242403989\n",
        "Old c0 too high, new c0 ="
       ]
      },
      {
       "output_type": "stream",
       "stream": "stdout",
       "text": [
        " 1.04242403989\n",
        "Old c0 too high, new c0 ="
       ]
      },
      {
       "output_type": "stream",
       "stream": "stdout",
       "text": [
        " 1.04242403989\n",
        "Old c0 too high, new c0 ="
       ]
      },
      {
       "output_type": "stream",
       "stream": "stdout",
       "text": [
        " 1.04242403989\n",
        "Old c0 too high, new c0 ="
       ]
      },
      {
       "output_type": "stream",
       "stream": "stdout",
       "text": [
        " 1.04242403989\n"
       ]
      }
     ],
     "prompt_number": 143
    },
    {
     "cell_type": "markdown",
     "metadata": {},
     "source": [
      "We can plot the approximation of the stable manifold in phase space as follows..."
     ]
    },
    {
     "cell_type": "code",
     "collapsed": false,
     "input": [
      "plt.figure(figsize=(8,6))\n",
      "\n",
      "# plot the phase diagram\n",
      "model.plot_phase_diagram(gridmax=50, N=1000, arrows=False)\n",
      "\n",
      "# plot the trajectory \n",
      "model.plot_trajectory(ms_lower, color='r')\n",
      "\n",
      "# demarcate the initial condition\n",
      "c0 = ms_lower[0,2]\n",
      "plt.vlines(k0, 0, c0, linestyle='dashed', color='k')\n",
      "plt.xticks([k0], ['$k_0$'])\n",
      "plt.hlines(c0, 0, k0, linestyle='dashed', color='k')\n",
      "plt.yticks([c0], ['$c_0$'])\n",
      "\n",
      "# change the plot title\n",
      "plt.title('Congrats! You have computed half of $M_S$!', fontsize=20, family='serif')\n",
      "plt.show()"
     ],
     "language": "python",
     "metadata": {},
     "outputs": [
      {
       "metadata": {},
       "output_type": "display_data",
       "png": "[encoded data removed]",
       "text": [
        "<matplotlib.figure.Figure at 0xbab8390>"
       ]
      }
     ],
     "prompt_number": 150
    },
    {
     "cell_type": "markdown",
     "metadata": {},
     "source": [
      "### Exercise:\n",
      "\n",
      "Compute and plot the upper half of the $M_S$ starting from an initial condition for capital per effective worker that is 4 times larger than the steady state value."
     ]
    },
    {
     "cell_type": "code",
     "collapsed": false,
     "input": [
      "# set initial condition for capital per effective worker\n",
      "# INSERT YOUR CODE HERE!\n",
      "\n",
      "# compute the upper branch of the stable manifold using forward shooting\n",
      "# INSERT YOUR CODE HERE!"
     ],
     "language": "python",
     "metadata": {},
     "outputs": [],
     "prompt_number": 152
    },
    {
     "cell_type": "code",
     "collapsed": false,
     "input": [
      "plt.figure(figsize=(8,6))\n",
      "\n",
      "# plot the phase diagram\n",
      "# INSERT YOUR CODE HERE!\n",
      "\n",
      "# plot the lower branch of the stable manifold\n",
      "# INSERT YOUR CODE HERE!\n",
      "\n",
      "# plot the lower branch of the stable manifold\n",
      "model.plot_trajectory(ms_upper, color='r')\n",
      "\n",
      "# change the plot title\n",
      "plt.title('You have computed your first stable manifold!', fontsize=20, family='serif')\n",
      "plt.show()"
     ],
     "language": "python",
     "metadata": {},
     "outputs": [
      {
       "metadata": {},
       "output_type": "display_data",
       "png": "[encoded data removed]",
       "text": [
        "<matplotlib.figure.Figure at 0xa8f3490>"
       ]
      }
     ],
     "prompt_number": 156
    },
    {
     "cell_type": "markdown",
     "metadata": {},
     "source": [
      "## Solving the model via reverse-shooting"
     ]
    },
    {
     "cell_type": "markdown",
     "metadata": {},
     "source": [
      "## Comparison: Speed vs. Accuracy"
     ]
    },
    {
     "cell_type": "markdown",
     "metadata": {},
     "source": [
      "### Analytic solutions\n",
      "The optimal growth model with Cobb-Douglas production happens to have a closed form solution for the special (and unfortunately unrealistic!) case where $\\theta=\\alpha$ (see handout for the mathematics if interested in how this result is derived).\n",
      "\n",
      "\\begin{align}\n",
      "\tk(t)=& \\left[k_0^{1-\\alpha}e^{-(1-\\alpha)\\left(\\frac{\\delta + \\rho + \\alpha g}{\\alpha}\\right) t} +  \\left(\\frac{\\alpha}{\\delta + \\rho + \\alpha g}\\right)\\left(1 - e^{-(1-\\alpha)\\left(\\frac{\\delta + \\rho + \\alpha g}{\\alpha}\\right) t}\\right)\\right]^{\\frac{1}{1-\\alpha}} \\tag{6.1}\\\\\n",
      "\tc(t) =& \\left(\\frac{(1 - \\alpha) \\delta + \\rho - \\alpha n}{\\alpha}\\right)k(t) \\tag{6.2}\n",
      "\\end{align}\n",
      "\n",
      "Here are some Python functions encoding this analytic solution..."
     ]
    },
    {
     "cell_type": "code",
     "collapsed": false,
     "input": [
      "def ramsey_analytic_capital(k0, t, params):\n",
      "    \"\"\"\n",
      "    Computes the analytic solution for the time path of capital (per person/\n",
      "    effective person) in a Ramsey model with Cobb-Douglas production technology \n",
      "    where the coefficient of relative risk aversion, theta, equals capital's \n",
      "    share, alpha.\n",
      "    \n",
      "    Arguments:\n",
      "        \n",
      "        k0:     (float) Initial value for capital (per person/effective person)     \n",
      "        t:      (array-like) (T,) array of points at which the solution is \n",
      "                desired.\n",
      "        params: (dict) Dictionary of model parameters.\n",
      "            \n",
      "    Returns:\n",
      "            \n",
      "        analytic_k: (array-like) (T,) array representing the time path of \n",
      "                    capital (per person/effective person).\n",
      "\n",
      "    \"\"\"\n",
      "    # extract parameter values\n",
      "    g     = params['g']\n",
      "    n     = params['n']\n",
      "    alpha = params['alpha']\n",
      "    delta = params['delta']\n",
      "    rho   = params['rho']\n",
      "        \n",
      "    # lambda governs the speed of convergence\n",
      "    lmbda = ((delta + rho + alpha * g) / alpha) * (1 - alpha)\n",
      "        \n",
      "    # analytic solution for k at time t\n",
      "    k_t   = (((alpha / (delta + rho + alpha * g)) * (1 - np.exp(-lmbda * t)) + \n",
      "              k0**(1 - alpha) * np.exp(-lmbda * t))**(1 / (1 - alpha)))\n",
      "            \n",
      "    return k_t\n",
      "\n",
      "def ramsey_analytic_consumption(k0, t, params):\n",
      "    \"\"\"\n",
      "    Computes the analytic solution for the time path of consumption (per person/\n",
      "    effective person) in a Ramsey model with Cobb-Douglas production technology \n",
      "    where the coefficient of relative risk aversion, theta, equals capital's \n",
      "    share, alpha.\n",
      "    \n",
      "    Arguments:\n",
      "        \n",
      "        k0:     (float) Initial value for capital (per person/effective person)     \n",
      "        t:      (array-like) (T,) array of points at which the solution is \n",
      "                desired.\n",
      "        params: (dict) Dictionary of model parameter values.\n",
      "            \n",
      "    Returns:\n",
      "            \n",
      "        analytic_c: (array-like) (T,) array representing the time path of \n",
      "                    consumption (per person/effective person).\n",
      "\n",
      "    \"\"\"\n",
      "    # extract parameter values\n",
      "    g     = params['g']\n",
      "    n     = params['n']\n",
      "    alpha = params['alpha']\n",
      "    delta = params['delta']\n",
      "    rho   = params['rho']\n",
      "        \n",
      "    # analytic solution consumption at time t\n",
      "    c_t = ((((1 - alpha) * delta + rho - alpha * n) / alpha) * \n",
      "           ramsey_analytic_capital(k0, t, params))\n",
      "            \n",
      "    return c_t\n",
      "\n",
      "def ramsey_analytic_solution(k0, t, params):\n",
      "    \"\"\"\n",
      "    Computes the analytic solution for the Ramsey model with Cobb-Douglas\n",
      "    production technology where the coefficient of relative risk aversion, \n",
      "    theta, equals capital's share, alpha.\n",
      "    \n",
      "    Arguments:\n",
      "        \n",
      "        k0:     (float) Initial value for capital (per person/effective person)     \n",
      "        t:      (array-like) (T,) array of points at which the solution is \n",
      "                desired.\n",
      "        params: (dict) Dictionary of model parameters.\n",
      "            \n",
      "    Returns:\n",
      "            \n",
      "        analytic_traj: (array-like) (T,2) array representing the analytic \n",
      "                       solution trajectory.\n",
      "\n",
      "    \"\"\"\n",
      "    # analytic solution for capital at time t\n",
      "    k_t = ramsey_analytic_capital(k0, t, params) \n",
      "        \n",
      "    # analytic solution for consumption at time t\n",
      "    c_t = ramsey_analytic_consumption(k0, t, params)\n",
      "\n",
      "    # combine into a (T, 2) array\n",
      "    tup = (t[:,np.newaxis], k_t[:,np.newaxis], c_t[:,np.newaxis])\n",
      "    analytic_traj = np.hstack(tup)\n",
      "    \n",
      "    return analytic_traj"
     ],
     "language": "python",
     "metadata": {},
     "outputs": [],
     "prompt_number": 361
    },
    {
     "cell_type": "code",
     "collapsed": false,
     "input": [
      "def ramsey_analytic_consumption_policy(k, params):\n",
      "    \"\"\"\n",
      "    Computes the analytic solution for the consumption (per person/\n",
      "    effective person) policy function in a Ramsey model with Cobb-Douglas \n",
      "    production technology where the coefficient of relative risk aversion, \n",
      "    theta, equals capital's share, alpha.\n",
      "    \n",
      "    Arguments:\n",
      "        \n",
      "        k:      (array-like) Array of values for capital (per person/\n",
      "                effective person)     \n",
      "        params: (dict) Dictionary of model parameter values.\n",
      "            \n",
      "    Returns:\n",
      "            \n",
      "        c_policy: (array-like) (T,) array representing the consumption \n",
      "                  (per person/effective person) policy function.\n",
      "\n",
      "    \"\"\"\n",
      "    # extract parameter values\n",
      "    g     = params['g']\n",
      "    n     = params['n']\n",
      "    alpha = params['alpha']\n",
      "    delta = params['delta']\n",
      "    rho   = params['rho']\n",
      "        \n",
      "    # analytic solution consumption at time t\n",
      "    c_policy = (((1 - alpha) * delta + rho - alpha * n) / alpha) * k\n",
      "            \n",
      "    return c_policy"
     ],
     "language": "python",
     "metadata": {},
     "outputs": [
      {
       "metadata": {},
       "output_type": "pyout",
       "prompt_number": 423,
       "text": [
        "array([[  0.        ,   1.50109847,   0.3630999 ],\n",
        "       [  1.        ,   2.23446279,   0.38894033],\n",
        "       [  2.        ,   3.0546667 ,   0.40580182],\n",
        "       [  3.        ,   3.94718251,   0.41619687],\n",
        "       [  4.        ,   4.89997342,   0.42175157],\n",
        "       [  5.        ,   5.90278887,   0.42359474],\n",
        "       [  6.        ,   6.94674994,   0.42254851],\n",
        "       [  7.        ,   8.02408153,   0.41923263],\n",
        "       [  8.        ,   9.12792646,   0.4141264 ],\n",
        "       [  9.        ,  10.25220908,   0.40760773],\n",
        "       [ 10.        ,  11.39153065,   0.3999791 ]])"
       ]
      }
     ],
     "prompt_number": 423
    },
    {
     "cell_type": "markdown",
     "metadata": {},
     "source": [
      "\n",
      "It is worth noting that the \"forward-shooting\" solution method can be used to solve almost any continuous (or discrete!) time, deterministic/perfect foresight model. For example, the full \"Credit Cycles\" model of [Kiyotaki and Moore (1997)](http://www.jstor.org/stable/10.1086/262072) was solved using forward shooting.\n",
      "\n",
      "Why do we need to find the global solution? Why is the linear solution unsatisfactory? Linear approximation of decision rules on valid within some 'neighborhood' of the steady-state.  Just how large is this neighborhood? \n",
      "\n",
      "We can see that using the linear approximation initial value for consumption is not exactly the value that works with the full, non-linear model (the approximation will be increasingly accurate as $k_{0} \\rightarrow k^{*}$ though).  How bad is the linear approximation?  No way to know unless one can find a method to solve for the full non-linear solution!The **forward shooting** method for finding $M_S$ proceeds by guessing a feasible value for $c_0$ and then using some IVP scheme to generate the implied solution trajectories for the variables $k(t)$ and $c(t)$. If the initial choice of $c_0$ is too small, then the solution trajectory eventually crosses the $\\dot{c}=0$ locus and $c(t)$ begins to fall.  Similarly, if the choice of $c_0$ is too large, then our path eventually crosses the $\\dot{k}=0$ curve at which point $k(t)$ will start to fall. These observations motivate the forward shooting scheme described in pseudo-code below for an initial condition $k(0)=k_0 < k^*$. \n"
     ]
    },
    {
     "cell_type": "markdown",
     "metadata": {},
     "source": [
      "# Task ??: Solow vs. Ramsey policies\n",
      "\n",
      "Can compare the rule of thumb Solow policy to the welfare from the optimal ramsey policy."
     ]
    },
    {
     "cell_type": "code",
     "collapsed": false,
     "input": [],
     "language": "python",
     "metadata": {},
     "outputs": []
    }
   ],
   "metadata": {}
  }
 ]
}