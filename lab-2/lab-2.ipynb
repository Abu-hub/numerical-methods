{
 "metadata": {
  "name": ""
 },
 "nbformat": 3,
 "nbformat_minor": 0,
 "worksheets": [
  {
   "cells": [
    {
     "cell_type": "code",
     "collapsed": false,
     "input": [],
     "language": "python",
     "metadata": {},
     "outputs": []
    },
    {
     "cell_type": "markdown",
     "metadata": {},
     "source": [
      "The Ramsey Model:\n",
      "=================\n",
      "\n",
      "In the previous lab, we learned how to simulate a deterministic, continuous-time version of the Solow growth model where the savings rate of the economy was taken to be exogenous.  In this lab, we will learn how to solve and simulate a deteministic, continuous time version of the Ramsey model where the savings rate is endogenously chosen optimally by the representative household.  Although the Ramsey model is being presented after the Solow model (primarily because it involves optimizing on the parts of houeholds which makes the model technically more \"sophisticated\"), the optimization bits of the Ramsey model intellectually predate the Solow model by almost 30 years! Also, unlike the Solow model which was designed to be a decriptive model of economic growth, the Ramsey model was originally designed to be a normative, mathematical solution to the problem of how a social planner might optimally choose the savings rate for a society.  \n",
      "\n",
      "I highly recommend that you take a glance through [Frank Ramsey's](http://en.wikipedia.org/wiki/Frank_P._Ramsey) original paper, entitled [A Mathematical Theory of Saving](http://folk.uio.no/gasheim/zRam1928.pdf).  In particular the introduction where Ramsey states that the common practice amongst economists and decision theorists of discounting the future was \"ethicially indefensible and arises mearly from the weakness of the imagination.\"  Ramsey leaves little doubt that his paper was normative and not positive in character.  Finally, there is not a single citation at the end of Ramsey's paper: he simply signed his name!  Apparently, for this model at least, Ramsey owed no intellectual debts. "
     ]
    },
    {
     "cell_type": "code",
     "collapsed": false,
     "input": [
      "%load_ext autoreload\n",
      "%autoreload 2"
     ],
     "language": "python",
     "metadata": {},
     "outputs": [],
     "prompt_number": 1
    },
    {
     "cell_type": "code",
     "collapsed": false,
     "input": [
      "# These libaries will be doing the bulk of the heavy lifting!\n",
      "import numpy as np\n",
      "import pandas as pd\n",
      "import sympy as sp\n",
      "\n",
      "# these models contain all of the code\n",
      "import ramsey\n",
      "import pwt\n",
      "\n",
      "# matplotlib is for graphics\n",
      "import matplotlib as mpl\n",
      "import matplotlib.pyplot as plt\n",
      "from mpl_toolkits.mplot3d import Axes3D"
     ],
     "language": "python",
     "metadata": {},
     "outputs": [],
     "prompt_number": 2
    },
    {
     "cell_type": "markdown",
     "metadata": {},
     "source": [
      "# Task 1: Coding the optimal growth model in Python\n",
      "\n",
      "In this task you will learn how to program a continuous time version of the optimal growth model in Python. Before we starting writing code, we should stop and think about the \"primitives\" (i.e., basic bulding blocks) of an optimal growth model. \n",
      "\n",
      "## Coding $f(k)$ and $f'(k)$:\n",
      "In the previous lab we began coding up the Solow model by writing a Python function representing the intensive form of a [Cobb-Douglas](http://en.wikipedia.org/wiki/Cobb%E2%80%93Douglas_production_function) production function. In this lab we will assume that $f$ has the more general constant elasticity of substitution (CES) form\n",
      "\n",
      "$$f(k(t)) = \\bigg[\\alpha k(t)^\\gamma + (1 - \\alpha)\\bigg]^{\\frac{1}{\\gamma}} \\tag{1.1a}$$\n",
      "\n",
      "where $0 < \\alpha < 1$ and $-\\infty < \\gamma < 1$. The parameter $\\gamma = \\frac{\\sigma - 1}{\\sigma}$ where $\\sigma$ is the elasticity of substitution between capital and effective labor. Recall that the CES production technology nests the Cobb-Douglas function\n",
      "\n",
      "$$ f(k(t)) = k(t)^{\\alpha} \\tag{1.1b}$$\n",
      "\n",
      "as a special case when $\\sigma=1$. "
     ]
    },
    {
     "cell_type": "markdown",
     "metadata": {},
     "source": [
      "### Exercise 1:\n",
      "\n",
      "Use the information above to complete the [Python function](http://www.greenteapress.com/thinkpython/html/thinkpython004.html) `ces_output` defined below. "
     ]
    },
    {
     "cell_type": "code",
     "collapsed": false,
     "input": [
      "def ces_output(t, k, params):\n",
      "    \"\"\"\n",
      "    Constant elasticity of substitution (CES) production function.\n",
      "\n",
      "    Arguments:\n",
      "\n",
      "        t:      (array) Time.\n",
      "        k:      (array) Capital (per person/effective person).\n",
      "        params: (dict) Dictionary of parameter values.\n",
      "       \n",
      "    Returns:\n",
      "\n",
      "        y: (array-like) Output (per person/ effective person)\n",
      "\n",
      "    \"\"\"\n",
      "    # extract params\n",
      "    alpha = params['alpha']\n",
      "    sigma = params['sigma']\n",
      "    gamma = (sigma - 1) / sigma\n",
      "    \n",
      "    # nest Cobb-Douglas as special case\n",
      "    if gamma == 0:\n",
      "        y = # INSERT CODE HERE!!\n",
      "    else:\n",
      "        y = # INSERT CODE HERE!!\n",
      "    \n",
      "    return y"
     ],
     "language": "python",
     "metadata": {},
     "outputs": []
    },
    {
     "cell_type": "code",
     "collapsed": false,
     "input": [
      "# my solution is as follows!\n",
      "def ces_output(t, k, params):\n",
      "    \"\"\"\n",
      "    Constant elasticity of substitution (CES) production function.\n",
      "\n",
      "    Arguments:\n",
      "\n",
      "        t:      (array) Time.\n",
      "        k:      (array) Capital (per person/effective person).\n",
      "        params: (dict) Dictionary of parameter values.\n",
      "       \n",
      "    Returns:\n",
      "\n",
      "        y: (array-like) Output (per person/ effective person)\n",
      "\n",
      "    \"\"\"\n",
      "    # extract params\n",
      "    alpha = params['alpha']\n",
      "    sigma = params['sigma']\n",
      "    gamma = (sigma - 1) / sigma\n",
      "    \n",
      "    # nest Cobb-Douglas as special case\n",
      "    if gamma == 0:\n",
      "        y = k**alpha\n",
      "    else:\n",
      "        y = (alpha * k**gamma + (1 - alpha))**(1 / gamma)\n",
      "    \n",
      "    return y"
     ],
     "language": "python",
     "metadata": {},
     "outputs": []
    },
    {
     "cell_type": "markdown",
     "metadata": {},
     "source": [
      "We will also need to code a function defining the marginal product of capital per effective person.  From your homework assignment, you should recall that \n",
      "\n",
      "$$ f'(k) = \\alpha k(t)^{\\gamma-1}\\bigg[\\alpha k(t)^{\\gamma} + (1-\\alpha)\\bigg]^{\\frac{1}{\\gamma} - 1} \\tag{1.2a}$$\n",
      "\n",
      "for $\\sigma \\neq 1$ and \n",
      "\n",
      "$$f'(k) = \\alpha k(t)^{\\alpha-1} \\tag{1.2b}$$\n",
      "\n",
      "for the Cobb-Douglas special case when $\\sigma = 1$. "
     ]
    },
    {
     "cell_type": "markdown",
     "metadata": {},
     "source": [
      "### Exercise 2:\n",
      "\n",
      "Use the information above to complete the [Python function](http://www.greenteapress.com/thinkpython/html/thinkpython004.html) `marginal_product_capital` defined below. "
     ]
    },
    {
     "cell_type": "code",
     "collapsed": false,
     "input": [
      "def marginal_product_capital(t, k, params):\n",
      "    \"\"\"\n",
      "    Marginal product of capital for CES production function.\n",
      "\n",
      "    Arguments:\n",
      "\n",
      "        t:      (array-like) Time.\n",
      "        k:      (array-like) Capital (per person/effective person).\n",
      "        params: (dict) Dictionary of parameter values.\n",
      "       \n",
      "    Returns:\n",
      "\n",
      "        mpk: (array-like) Derivative of output with respect to capital, k.\n",
      "\n",
      "    \"\"\"\n",
      "    # extract params\n",
      "    alpha = params['alpha']\n",
      "    sigma = params['sigma']\n",
      "    gamma = (sigma - 1) / sigma\n",
      "    \n",
      "    # nest Cobb-Douglas as special case\n",
      "    if gamma == 0:\n",
      "        mpk = # INSERT CODE HERE!!\n",
      "    else:\n",
      "        mpk = # INSERT CODE HERE!!\n",
      "    \n",
      "    return mpk\n"
     ],
     "language": "python",
     "metadata": {},
     "outputs": []
    },
    {
     "cell_type": "code",
     "collapsed": false,
     "input": [
      "# my solution!\n",
      "def marginal_product_capital(t, k, params):\n",
      "    \"\"\"\n",
      "    Marginal product of capital for CES production function.\n",
      "\n",
      "    Arguments:\n",
      "\n",
      "        t:      (array-like) Time.\n",
      "        k:      (array-like) Capital (per person/effective person).\n",
      "        params: (dict) Dictionary of parameter values.\n",
      "       \n",
      "    Returns:\n",
      "\n",
      "        mpk: (array-like) Derivative of output with respect to capital, k.\n",
      "\n",
      "    \"\"\"\n",
      "    # extract params\n",
      "    alpha = params['alpha']\n",
      "    sigma = params['sigma']\n",
      "    gamma = (sigma - 1) / sigma\n",
      "    \n",
      "    # nest Cobb-Douglas as special case\n",
      "    if gamma == 0:\n",
      "        mpk = alpha * k**(alpha - 1)\n",
      "    else:\n",
      "        mpk = alpha * k**(gamma - 1) * (alpha * k**gamma + (1 - alpha))**((1 / gamma) - 1)\n",
      "    \n",
      "    return mpk"
     ],
     "language": "python",
     "metadata": {},
     "outputs": []
    },
    {
     "cell_type": "markdown",
     "metadata": {},
     "source": [
      "## Coding the equilibrium system of ODEs:\n",
      "\n",
      "From the lecture you should recall that the equilibrium of the continuous-time, optimal growth model is described by the following two-dimensional system of ordinary differential equations (ODEs).\n",
      "\n",
      "\\begin{align}\n",
      " \t\\dot{k} =& f(k(t)) - (n+g+\\delta)k(t) - c(t),\\ k(0) = k_0 \\tag{1.3}\\\\\n",
      "\t\\dot{c} =& \\left[\\frac{f'(k(t)) - \\delta - \\rho - \\theta g}{\\theta}\\right]c(t),\\ 0 < \\lim_{t\\rightarrow\\infty} |c(t)| < \\infty \\tag{1.4}\n",
      "\\end{align}\n",
      "\n",
      "Equation 1.3 is the equation of motion for capital per effective person and equation 1.4 is the consumption Euler equation. "
     ]
    },
    {
     "cell_type": "markdown",
     "metadata": {},
     "source": [
      "### Exercise 3:\n",
      "\n",
      "Use the information above to complete the [Python functions](http://www.greenteapress.com/thinkpython/html/thinkpython004.html) `equation_motion_capital` and `consumption_euler_equation` defined below. "
     ]
    },
    {
     "cell_type": "code",
     "collapsed": false,
     "input": [
      "def equation_motion_capital(t, vec, params):\n",
      "    \"\"\"\n",
      "    Equation of motion for capital (per person/ effective person).\n",
      "\n",
      "    Arguments:\n",
      "\n",
      "        t:      (array-like) Time.\n",
      "        vec:    (array-like) Vector of endogenous variables [k, c] where k is \n",
      "                capital (per person/effective person) and c is consumption \n",
      "                (per person/effective person).\n",
      "        params: (dict) Dictionary of parameter values.\n",
      "       \n",
      "    Returns:\n",
      "\n",
      "        k_dot: (array-like) Rate of change in the stock of captial \n",
      "               (per person/effective person).\n",
      "\n",
      "    \"\"\"\n",
      "    # extract params\n",
      "    n     = params['n']\n",
      "    g     = params['g']\n",
      "    delta = params['delta']\n",
      "    \n",
      "    # unpack the vector of endogenous variables\n",
      "    k, c = vec\n",
      "    \n",
      "    # formula for the equation of motion for capital \n",
      "    k_dot = # INSERT CODE HERE!!\n",
      "    \n",
      "    return k_dot\n",
      "\n",
      "def consumption_euler_equation(t, vec, params):\n",
      "    \"\"\"\n",
      "    Equation of motion for consumption (per person/ effective person).\n",
      "\n",
      "    Arguments:\n",
      "\n",
      "        t:      (array-like) Time.\n",
      "        vec:    (array-like) Vector of endogenous variables [k, c] where k is \n",
      "                capital (per person/effective person) and c is consumption \n",
      "                (per person/effective person).\n",
      "        params: (dict) Dictionary of parameter values.\n",
      "       \n",
      "    Returns:\n",
      "\n",
      "        c_dot: (array-like) Rate of change in consumption (per person/effective \n",
      "               person).\n",
      "\n",
      "    \"\"\"\n",
      "    # extract params\n",
      "    g     = params['g']\n",
      "    delta = params['delta']\n",
      "    rho   = params['rho']\n",
      "    theta = params['theta']\n",
      "    \n",
      "    # unpack the vector of endogenous variables\n",
      "    k, c = vec\n",
      "    \n",
      "    # marginal product of capital\n",
      "    mpk = # INSERT CODE HERE!!\n",
      "\n",
      "    # formula for the equation of motion for consumption\n",
      "    c_dot = # INSERT CODE HERE!!\n",
      "    \n",
      "    return c_dot"
     ],
     "language": "python",
     "metadata": {},
     "outputs": []
    },
    {
     "cell_type": "code",
     "collapsed": false,
     "input": [
      "# my solutions!\n",
      "def equation_motion_capital(t, vec, params):\n",
      "    \"\"\"\n",
      "    Equation of motion for capital (per person/ effective person).\n",
      "\n",
      "    Arguments:\n",
      "\n",
      "        t:      (array-like) Time.\n",
      "        vec:    (array-like) Vector of endogenous variables [k, c] where k is \n",
      "                capital (per person/effective person) and c is consumption \n",
      "                (per person/effective person).\n",
      "        params: (dict) Dictionary of parameter values.\n",
      "       \n",
      "    Returns:\n",
      "\n",
      "        k_dot: (array-like) Rate of change in the stock of captial \n",
      "               (per person/effective person).\n",
      "\n",
      "    \"\"\"\n",
      "    # extract params\n",
      "    n     = params['n']\n",
      "    g     = params['g']\n",
      "    delta = params['delta']\n",
      "    \n",
      "    # unpack the vector of endogenous variables\n",
      "    k, c = vec\n",
      "    \n",
      "    # formula for the equation of motion for capital \n",
      "    k_dot = ces_output(t, k, params) - (n + g + delta) * k - c\n",
      "    \n",
      "    return k_dot\n",
      "\n",
      "def consumption_euler_equation(t, vec, params):\n",
      "    \"\"\"\n",
      "    Equation of motion for consumption (per person/ effective person).\n",
      "\n",
      "    Arguments:\n",
      "\n",
      "        t:      (array-like) Time.\n",
      "        vec:    (array-like) Vector of endogenous variables [k, c] where k is \n",
      "                capital (per person/effective person) and c is consumption \n",
      "                (per person/effective person).\n",
      "        params: (dict) Dictionary of parameter values.\n",
      "       \n",
      "    Returns:\n",
      "\n",
      "        c_dot: (array-like) Rate of change in consumption (per person/effective \n",
      "               person).\n",
      "\n",
      "    \"\"\"\n",
      "    # extract params\n",
      "    g     = params['g']\n",
      "    delta = params['delta']\n",
      "    rho   = params['rho']\n",
      "    theta = params['theta']\n",
      "    \n",
      "    # unpack the vector of endogenous variables\n",
      "    k, c = vec\n",
      "    \n",
      "    # marginal product of capital\n",
      "    mpk = marginal_product_capital(t, k, params)\n",
      "\n",
      "    # formula for the equation of motion for consumption\n",
      "    c_dot = ((mpk - delta - rho - theta * g) / theta) * c\n",
      "    \n",
      "    return c_dot"
     ],
     "language": "python",
     "metadata": {},
     "outputs": []
    },
    {
     "cell_type": "markdown",
     "metadata": {},
     "source": [
      "## Coding the instantaneous utility function, $u(c)$:\n",
      "\n",
      "Recall that the consumption Euler equation as defined above assumes that the representative household hold has constant relative risk aversion (CRRA) utility.\n",
      "\n",
      "$$u(c) = \\frac{c^{1 - \\theta} - 1}{1 - \\theta} \\tag{1.5a}$$\n",
      "\n",
      "where utility is a function of consumption per effective person, $c$. The parameter,  $0 \\lt \\theta$, plays a dual role:\n",
      "\n",
      "* $\\theta$ is the agent's coefficient of relative risk aversion\n",
      "* $\\frac{1}{\\theta}$ is the agent's elasticity of inter-temporal substitution\n",
      "\n",
      "Things to remember about this utility function:\n",
      "\n",
      "When $0 \\lt \\theta$ but \"close\" to zero, consumer has almost linear (i.e., risk neutral) utility. As $\\theta$ increases, households becomes more risk averse (i.e., the curvature of the utility function increases!). Note that this increase in curvature becomes most apparent in the behavior of the utility function for levels of consumption less than 1. As $\\theta$ increase the \"penalty\" for consuming less than 1 unit becomes increasingly severe!\n",
      "\n",
      "Why is there a '-1' in the numerator come from? It has the effect of making total utility positive or negative depending on whether $c$ is greater than or less than one. Also \n",
      "\n",
      "$$\\lim_{\\theta \\rightarrow 1}\\ \\frac{c^{1 - \\theta} - 1}{1 - \\theta}\\ =\\ \\ln\\ c. \\tag{1.5b}$$\n",
      "\n",
      "It is also **not** necessary! Leaving off the '-1' will still yield CRRA preferences."
     ]
    },
    {
     "cell_type": "code",
     "collapsed": false,
     "input": [
      "def crra_utility(c, params):\n",
      "    \"\"\"\n",
      "    The optimal growth model assumes that the representative individual has CRRA utility.      \n",
      "    utility. Individual utility is a function of consumption per effective person, c. The \n",
      "    parameter, 0 < theta, plays a dual role: \n",
      "        \n",
      "        1) theta is the agent's coefficient of relative risk aversion\n",
      "        2) 1 / theta is the agent's elasticity of inter-temporal substitution\n",
      "    \n",
      "    N.B.: If theta = 1, then CRRA utility is equivalent to log utility! \n",
      "    \n",
      "    Arguments:\n",
      "    \n",
      "        c:      (array) Consumption per effective person\n",
      "        \n",
      "        params: (dict) Dictionary of model parameters.\n",
      "        \n",
      "    Returns: \n",
      "    \n",
      "        utility: (array) An array of values respresenting utility from consumption per \n",
      "                 effective worker.\n",
      "        \n",
      "    \"\"\"\n",
      "    # extract the params\n",
      "    theta = params['theta']\n",
      "    \n",
      "    if theta == 1:\n",
      "        utility = np.log(c)\n",
      "    else:\n",
      "        utility = (c**(1 - theta) - 1) / (1 - theta)\n",
      "    \n",
      "    return utility"
     ],
     "language": "python",
     "metadata": {},
     "outputs": [],
     "prompt_number": 170
    },
    {
     "cell_type": "markdown",
     "metadata": {},
     "source": [
      "Let's plot this utility function for different values of the elasticity of intertemporal substitution..."
     ]
    },
    {
     "cell_type": "code",
     "collapsed": false,
     "input": [
      "# Create a grid of points for plotting\n",
      "gridmax, gridsize = 6, 1000\n",
      "grid = np.linspace(0, gridmax, gridsize)\n",
      "\n",
      "# Create a new figure\n",
      "plt.figure(figsize=(8,6))\n",
      "\n",
      "# create an array of some values for theta\n",
      "theta_values = np.logspace(-2, 2, 5)\n",
      "\n",
      "# Plot utility for varying values of theta\n",
      "for theta in theta_values:\n",
      "    params = {'theta':theta}\n",
      "    plt.plot(grid, crra_utility(grid, params), '-', label=r'$\\theta=%.2f$' %theta)\n",
      "\n",
      "# Don't forget to label your axes!\n",
      "plt.xlabel('$c$', fontsize=15, family='serif')\n",
      "plt.ylabel('$u(c)$', rotation='horizontal', fontsize=15, family='serif')\n",
      "plt.axis([0, 6, -10, 5])\n",
      "\n",
      "# Add a title to the plot\n",
      "plt.title(r'CRRA Utility for different values of $\\theta$', fontsize=20, family='serif')\n",
      "\n",
      "# Add a legend\n",
      "plt.legend(loc=2, frameon=False)\n",
      "\n",
      "# Turn on grid lines\n",
      "plt.grid()\n",
      "\n",
      "# save and display figure!\n",
      "plt.savefig('graphics/CRRA-utility.png')\n",
      "plt.show()"
     ],
     "language": "python",
     "metadata": {},
     "outputs": [
      {
       "metadata": {},
       "output_type": "display_data",
       "png": "[encoded data removed]",
       "text": [
        "<matplotlib.figure.Figure at 0xa7acb50>"
       ]
      }
     ],
     "prompt_number": 171
    },
    {
     "cell_type": "markdown",
     "metadata": {},
     "source": [
      "### Coding the Jacobian matrix:\n",
      "The next piece of the model that we need to construct is the [Jacobian](http://en.wikipedia.org/wiki/Jacobian_matrix_and_determinant) matrix of partial derivatives. \n",
      "\n",
      "$$ \n",
      "\\mathcal{J} =\n",
      "\\begin{bmatrix}\n",
      "\\frac{\\partial \\dot{k}}{\\partial k} & \\frac{\\partial \\dot{k}}{\\partial c}\\\\\n",
      "\\frac{\\partial \\dot{c}}{\\partial k} & \\frac{\\partial \\dot{c}}{\\partial c}\n",
      "\\end{bmatrix} =\n",
      "\\begin{bmatrix}\n",
      "f'(k) - (n + g + \\delta) & -1\\\\\n",
      "\\frac{1}{\\theta}f''(k) & \\frac{f'(k) - \\delta - \\rho - \\theta g}{\\theta}\n",
      "\\end{bmatrix} \n",
      "\\tag{1.5}\n",
      "$$\n",
      "\n",
      "The Jacobian matrix plays several important roles in the optimal growth model (and many other economic models!):\n",
      "\n",
      "1. We can use $\\mathcal{J}$ to construct a linear approximation of the full non-linear model via a first-order Taylor expansion around the model's long-run steady-state.\n",
      "2. We can use the [eigenvalues and eigenvectors](http://en.wikipedia.org/wiki/Eigenvalues_and_eigenvectors) of $\\mathcal{J}$ to assess the model's stability properties.\n",
      "3. $\\mathcal{J}$ is also an important input into finite-difference methods for solving boundary value problems (BVPs).  \n",
      "\n",
      "Although the above matrix of partial derivatives looks fairly straightforward to compute by hand, you may recall from your homework that deriving an analytic expression for $f''$ with CES production is tedious and error prone. In general, a much better strategy is to get the computer to take complicated and error-prone derivatives for you! There are three general approaches that one can use in order to get a computer to take derivatives: [numeric differentiation](http://en.wikipedia.org/wiki/Numerical_differentiation), [symbolic differentiation](http://en.wikipedia.org/wiki/Symbolic_differentiation), or [automatic differentiation](http://en.wikipedia.org/wiki/Automatic_differentiation).  \n",
      "\n",
      "While numerical differentiation is often very fast, routines that are simple to implement may fail to achieve a high level of accuracy.  Automatic differentiation is the gold-standard but open-source libraries implmenting the techniques are rare (although there are several such libraries currently under development in Python). We will take a middle of the road approach and use symbolic differentiation via [SymPy](http://sympy.org/en/index.html) to compute the model's Jacobian."
     ]
    },
    {
     "cell_type": "code",
     "collapsed": false,
     "input": [
      "def ramsey_jacobian(t, vec, params):\n",
      "    \"\"\"\n",
      "    The Jacobian for the optimal growth model is computed using symbolic \n",
      "    differentiation and then evaluated numerically.\n",
      "\n",
      "    Arguments:\n",
      "\n",
      "        t:      (array-like) Time.\n",
      "        vec:    (array-like) Vector of endogenous variables [k, c] where k is \n",
      "                capital (per person/effective person) and c is consumption \n",
      "                (per person/effective person).\n",
      "        params: (dict) Dictionary of parameter values.\n",
      "       \n",
      "    Returns:\n",
      "\n",
      "       jac: (array-like) Jacobian matrix of partial derivatives.\n",
      "\n",
      "    \"\"\"\n",
      "    # declare two symbolic variables\n",
      "    k, c = sp.symbols('k,c')\n",
      "    \n",
      "    # represent the system of equations as a SymPy matrix\n",
      "    k_dot = lambda k, c: equation_motion_capital(t, [k, c], params)\n",
      "    c_dot = lambda k, c: consumption_euler_equation(t, [k, c], params)\n",
      "    F     = sp.Matrix([k_dot(k, c), c_dot(k, c)])\n",
      "\n",
      "    # now computing the Jacobian is trivial!\n",
      "    symbolic_jacobian  = F.jacobian([k, c])\n",
      "        \n",
      "    # lambdify the function in order to evaluate it numerically\n",
      "    numeric_jacobian   = sp.lambdify(args=[k, c], expr=sym_jac, modules='numpy') \n",
      "    \n",
      "    # output num_jac evaluated at vec\n",
      "    evaluated_jacobian = np.array(num_jac(vec[0], vec[1]))\n",
      "    \n",
      "    return evaluated_jacobian"
     ],
     "language": "python",
     "metadata": {},
     "outputs": [],
     "prompt_number": 4
    },
    {
     "cell_type": "markdown",
     "metadata": {},
     "source": [
      "### Coding the steady state values of $k$ and $c$\n",
      "Because the Ramsey Model is still relatively simply, we can write down an analytic expressions for the steady state value of capital per effective person and consumption per effective person in terms of the structural parameters of the model. \n",
      "\n",
      "In general, the steady state value for capital per effective person is the value of $k$ that solves\n",
      "\n",
      "$$ f'(k) = \\delta + \\rho + \\theta g. \\tag{1.6}$$\n",
      "\n",
      "For the CES case you should be able to show that \n",
      "\n",
      "$$k^* = (1 - \\alpha)^{\\frac{1}{\\gamma}}\\Bigg[\\left(\\frac{\\alpha}{\\delta + \\rho + \\theta g}\\right)^{\\frac{\\gamma}{\\gamma - 1}} - \\left(\\frac{\\alpha}{1 - \\alpha}\\right)\\Bigg]^{-\\frac{1}{\\gamma}} \\tag{1.7a}$$\n",
      "\n",
      "when $\\sigma \\ne 1$, and\n",
      "\n",
      "$$ k^* = \\left(\\frac{\\alpha}{\\delta+\\rho+\\theta g}\\right)^{\\frac{1}{1-\\alpha}} \\tag{1.7b}$$\n",
      "\n",
      "when $\\sigma = 1$. Once the steady state value for capital per effective person is known the steady state value of consumption per effective person can be computed using the equation of motion for capital per effective person.\n",
      "\n",
      "$$ c^* = f(k^*) - (n + g + \\delta)k^* \\tag{1.8}$$\n",
      "\n",
      "Now we need to code these expressions as Python functions..."
     ]
    },
    {
     "cell_type": "code",
     "collapsed": false,
     "input": [
      "def analytic_k_star(params): \n",
      "    \"\"\"Steady-state level of capital (per person/effective person).\"\"\"\n",
      "    # extract params\n",
      "    n     = params['n']\n",
      "    g     = params['g']\n",
      "    alpha = params['alpha']\n",
      "    delta = params['delta']\n",
      "    rho   = params['rho']\n",
      "    theta = params['theta']\n",
      "    sigma = params['sigma']\n",
      "    gamma = (sigma - 1) / sigma\n",
      "    \n",
      "    # nest Cobb-Douglas as special case\n",
      "    if gamma == 0:\n",
      "        k_star = (alpha / (delta + rho + theta * g))**(1 / (1 - alpha))\n",
      "    else:\n",
      "        k_star = (1 - alpha)**(1 / gamma) * ((alpha / (delta + rho + theta * g))**(gamma / (gamma - 1)) - alpha)**(-1 / gamma)\n",
      "    \n",
      "    return k_star\n",
      "\n",
      "def analytic_c_star(params): \n",
      "    \"\"\"Steady-state level of consumption (per person/effective person).\"\"\"\n",
      "    # extract params\n",
      "    n     = params['n']\n",
      "    g     = params['g']\n",
      "    delta = params['delta']\n",
      "    \n",
      "    # compute k_star\n",
      "    k_star = analytic_k_star(params)\n",
      "    \n",
      "    # compute c_star\n",
      "    c_star = ces_output(0, k_star, params) - (n + g + delta) * k_star\n",
      "    \n",
      "    return c_star"
     ],
     "language": "python",
     "metadata": {},
     "outputs": [],
     "prompt_number": 177
    },
    {
     "cell_type": "markdown",
     "metadata": {},
     "source": [
      "### Choosing baseline parameters:\n",
      "Finally, to complete the description of the model, we need to provide some \"reasonable\" values for the model parameters in the form of a [Python dictionary](http://www.greenteapress.com/thinkpython/html/thinkpython012.html)."
     ]
    },
    {
     "cell_type": "code",
     "collapsed": false,
     "input": [
      "# start by defining a dictionary of parameter values\n",
      "baseline_params = {'alpha':0.33, 'n':0.025, 'g':0.025, 'rho':0.04, 'theta':2.5, \n",
      "                   'delta':0.1, 'sigma':1.0, 'A0':1.0, 'L0':1.0}"
     ],
     "language": "python",
     "metadata": {},
     "outputs": [],
     "prompt_number": 178
    },
    {
     "cell_type": "markdown",
     "metadata": {},
     "source": [
      "### Creating an instance of the `ramsey.Model` class:\n",
      "Now we are ready to create an instance of the `ramsey.Model` class representing the optimal growth model..."
     ]
    },
    {
     "cell_type": "code",
     "collapsed": false,
     "input": [
      "# we create an instance of the optimgal growth model as follows...\n",
      "model = ramsey.Model(output=ces_output,                \n",
      "                     mpk=marginal_product_capital, \n",
      "                     k_dot=equation_motion_capital, \n",
      "                     c_dot=consumption_euler_equation,\n",
      "                     utility=crra_utility,\n",
      "                     jacobian=ramsey_jacobian, \n",
      "                     params=baseline_params)"
     ],
     "language": "python",
     "metadata": {},
     "outputs": [],
     "prompt_number": 367
    },
    {
     "cell_type": "markdown",
     "metadata": {},
     "source": [
      "### Adding the steady state expressions to the model:\n",
      "\n",
      "Now we add the steady state functions to the model using by passing a dictionary containing the steady state expressions to the `set_functions` method of the model's `steady_state` attribute."
     ]
    },
    {
     "cell_type": "code",
     "collapsed": false,
     "input": [
      "# create a dictionary containing the steady state expressions\n",
      "steady_state_funcs = {'k_star':analytic_k_star, 'c_star':analytic_c_star}\n",
      "\n",
      "# pass it as an arg to the set_functions method\n",
      "model.steady_state.set_functions(func_dict=steady_state_funcs)\n",
      "\n",
      "# compute the steady state values!\n",
      "model.steady_state.set_values()"
     ],
     "language": "python",
     "metadata": {},
     "outputs": [],
     "prompt_number": 368
    },
    {
     "cell_type": "code",
     "collapsed": false,
     "input": [
      "# display the values as follows\n",
      "model.steady_state.values"
     ],
     "language": "python",
     "metadata": {},
     "outputs": [
      {
       "metadata": {},
       "output_type": "pyout",
       "prompt_number": 369,
       "text": [
        "{'c_star': 0.9610104414884609, 'k_star': 2.072767618896681}"
       ]
      }
     ],
     "prompt_number": 369
    },
    {
     "cell_type": "markdown",
     "metadata": {},
     "source": [
      "# Task 2: Calibrating the model"
     ]
    },
    {
     "cell_type": "code",
     "collapsed": false,
     "input": [
      "ramsey.calibrate_cobb_douglas(model, iso3_code='USA', theta0=2.5, rho=0.04)"
     ],
     "language": "python",
     "metadata": {},
     "outputs": [],
     "prompt_number": 370
    },
    {
     "cell_type": "code",
     "collapsed": false,
     "input": [
      "model.params"
     ],
     "language": "python",
     "metadata": {},
     "outputs": [
      {
       "metadata": {},
       "output_type": "pyout",
       "prompt_number": 371,
       "text": [
        "{'A0': 1.327622959069138,\n",
        " 'L0': 61.971196530271804,\n",
        " 'alpha': 0.35095435,\n",
        " 'delta': 0.03761163,\n",
        " 'g': 0.017392729096206015,\n",
        " 'n': 0.015525562239498985,\n",
        " 'rho': 0.04,\n",
        " 'sigma': 1.0,\n",
        " 'theta': 1.8417646412304838}"
       ]
      }
     ],
     "prompt_number": 371
    },
    {
     "cell_type": "code",
     "collapsed": false,
     "input": [
      "model.steady_state.values"
     ],
     "language": "python",
     "metadata": {},
     "outputs": [
      {
       "metadata": {},
       "output_type": "pyout",
       "prompt_number": 372,
       "text": [
        "{'c_star': 1.4523996116430409, 'k_star': 6.0043938676598918}"
       ]
      }
     ],
     "prompt_number": 372
    },
    {
     "cell_type": "markdown",
     "metadata": {},
     "source": [
      "# Task 3: Analyzing the phase diagram\n",
      "\n",
      "From the lectures you should recall that when the current level of capital per effectiver worker is less than its long-run steady state value, then \n",
      "\n",
      "$$f'(k) > \\delta + \\rho + \\theta g$$\n",
      "\n",
      "and consumption per effective worker is rising. Similarly, when the current level of capital per effectiver worker is greater than its long-run steady state value, then\n",
      "\n",
      "$$f'(k) < \\delta + \\rho + \\theta g$$\n",
      "\n",
      "and consumption per effective worker is falling. The locus of points for which consumption per effective worker is constant (i.e., the set of points for which $\\dot{c}=0$) is called the $\\dot{c}=0$ locus.\n",
      "\n",
      "\n",
      " that the phase diagram for the optimal growth model combines the locus of points for which consumption per effective worker is constant (i.e., the set of points for which $\\dot{c}=0$) with the locus of points for which capital per effective worker is constant (i.e., the set of points for which $\\dot{k}=0$).\n",
      "\n",
      "\n",
      "\n",
      "The syntax for plotting a basic phase diagram uses the `plot_phase_diagram` method of the `Model` class as follows:\n",
      "\n",
      "    model.plot_phase_diagram(gridmax=20, N=1000, arrows = True)\n",
      "    \n",
      "the `gridmax` argument specifies the maximum value of the grid of values for capital per effective worker to include in the plot, `N` is the number of grid points to include in the plot, `arrows` specifies whether you wish to include directional arrows in the plot.  All of this information (and much more!) is contained in the docstring for the `plot_phase_diagram` method."
     ]
    },
    {
     "cell_type": "code",
     "collapsed": false,
     "input": [
      "# always check the docstring of a function before using it!\n",
      "model.plot_phase_diagram?"
     ],
     "language": "python",
     "metadata": {},
     "outputs": [],
     "prompt_number": 338
    },
    {
     "cell_type": "code",
     "collapsed": false,
     "input": [
      "# generate a simple phase diagram plot\n",
      "plt.figure(figsize=(8,6))\n",
      "model.plot_phase_diagram(gridmax=20, N=1000, arrows=True)\n",
      "plt.show()"
     ],
     "language": "python",
     "metadata": {},
     "outputs": [
      {
       "metadata": {},
       "output_type": "display_data",
       "png": "[encoded data removed]",
       "text": [
        "<matplotlib.figure.Figure at 0xc3a5c50>"
       ]
      }
     ],
     "prompt_number": 339
    },
    {
     "cell_type": "markdown",
     "metadata": {},
     "source": [
      "## Exploring parameter shocks\n",
      "\n",
      "The syntax for plotting the response of the phase diagram to shocks to the various exogenous parameters of the model is as follows:\n",
      "\n",
      "    model.plot_phase_diagram(gridmax=20, N=1000, arrows = True, param='delta', shock=0.9, reset=True)\n",
      "    \n",
      "The `gridmax`, `N`, and `arrows` arguments are the as above. The `param` argument is the model parameter that you wish to shock, `shock` specifies the magnitude of the *multiplicative* shock that you wish to apply to the parameter, and `reset` specifies whether you wish to reset the model parameters to their pre-shock values.\n",
      "\n",
      "Thw next cell contains demonstrates how to plot the result of a 50% decrease in the growth rate of technology, $g$."
     ]
    },
    {
     "cell_type": "code",
     "collapsed": false,
     "input": [
      "# suppose there is a 50% negative shock to g\n",
      "plt.figure(figsize=(8,6))\n",
      "model.plot_phase_diagram(gridmax=20, N=1000, arrows=True, param='g', shock=0.5, reset=True)\n",
      "plt.show()"
     ],
     "language": "python",
     "metadata": {},
     "outputs": [
      {
       "metadata": {},
       "output_type": "display_data",
       "png": "[encoded data removed]",
       "text": [
        "<matplotlib.figure.Figure at 0xc32caf0>"
       ]
      }
     ],
     "prompt_number": 343
    },
    {
     "cell_type": "markdown",
     "metadata": {},
     "source": [
      "Recall that the location of the $\\dot{c}=0$ locus is determined by the steady state value of $k$ which solves\n",
      "\n",
      "$$f'(k^*) = \\delta + \\rho + \\theta g.$$\n",
      "\n",
      "Differentiating the above expression with respect to $g$ yields\n",
      "\n",
      "$$f''(k^*)\\frac{\\partial k^*}{\\partial g} = \\theta \\implies \\frac{\\partial k^*}{\\partial g} = \\frac{\\theta}{f''(k^*)} < 0$$\n",
      "\n",
      "is negative because $f''(k) < 0$ for all $k$. Therefore a fall in $g$ actually increase $k^*$ and thus shifts the $\\dot{c}=0$ locus to the right. To see why the $\\dot{k}=0$ locus shifts recall that the $\\dot{k}=0$ locus is the set of values for $c$ which lead to actual investment equaling break even investment.\n",
      "\n",
      "$$ 0 = f(k) - c - (n+g+\\delta)k \\implies f(k) - c = (n + g + \\delta)k$$\n",
      "\n",
      "A fall in $g$ clearly reduces break even invesment. In order for actual investment to fall, consumption per effective worker must rise. Thus a fall in $g$ raises the $\\dot{k}=0$ locus upwards for every level of $k$."
     ]
    },
    {
     "cell_type": "markdown",
     "metadata": {},
     "source": [
      "### Exercise 4: \n",
      "Describe how each of the following shocks affects both the $\\dot{c}=0$ locus and the $\\dot{k}=0$ locus. What happens the the balanced growth path values of $c$ and $k$?"
     ]
    },
    {
     "cell_type": "markdown",
     "metadata": {},
     "source": [
      "#### part a) \n",
      "A rise in the elasticity of substitution between consumption today and consumption tomorrow.  "
     ]
    },
    {
     "cell_type": "code",
     "collapsed": false,
     "input": [
      "# INSERT CODE HERE!"
     ],
     "language": "python",
     "metadata": {},
     "outputs": []
    },
    {
     "cell_type": "markdown",
     "metadata": {},
     "source": [
      "The code in the cell below uses the [IPython magic command](http://ipython.org/ipython-doc/dev/interactive/tutorial.html) `%run` with the `-i` flag to Python script `exercise_4a.py` in IPython's namespace instead of an empty one. This is useful really useful if you are experimenting with code written in a text editor which depends on variables defined interactively. For more information about the `%run` magic command...read the docstring!"
     ]
    },
    {
     "cell_type": "code",
     "collapsed": false,
     "input": [
      "# check the docstring!\n",
      "%run?"
     ],
     "language": "python",
     "metadata": {},
     "outputs": [],
     "prompt_number": 356
    },
    {
     "cell_type": "code",
     "collapsed": false,
     "input": [
      "# my solution\n",
      "%run -i exercise_4a.py"
     ],
     "language": "python",
     "metadata": {},
     "outputs": [
      {
       "metadata": {},
       "output_type": "display_data",
       "png": "[encoded data removed]",
       "text": [
        "<matplotlib.figure.Figure at 0xa7b1870>"
       ]
      }
     ],
     "prompt_number": 355
    },
    {
     "cell_type": "markdown",
     "metadata": {},
     "source": [
      "#### part b)\n",
      "A fall in the elasticity of substitution between capital and effective labor. "
     ]
    },
    {
     "cell_type": "code",
     "collapsed": false,
     "input": [
      "# INSERT CODE HERE!"
     ],
     "language": "python",
     "metadata": {},
     "outputs": []
    },
    {
     "cell_type": "code",
     "collapsed": false,
     "input": [
      "# my solution\n",
      "%run -i exercise_4b.py"
     ],
     "language": "python",
     "metadata": {},
     "outputs": [
      {
       "metadata": {},
       "output_type": "display_data",
       "png": "[encoded data removed]",
       "text": [
        "<matplotlib.figure.Figure at 0xc1be590>"
       ]
      }
     ],
     "prompt_number": 357
    },
    {
     "cell_type": "markdown",
     "metadata": {},
     "source": [
      "#### part c)\n",
      "An increase in the depreciation rate of physical capital."
     ]
    },
    {
     "cell_type": "code",
     "collapsed": false,
     "input": [
      "# INSERT CODE HERE!"
     ],
     "language": "python",
     "metadata": {},
     "outputs": []
    },
    {
     "cell_type": "code",
     "collapsed": false,
     "input": [
      "# my solution\n",
      "%run -i exercise_4c.py"
     ],
     "language": "python",
     "metadata": {},
     "outputs": [
      {
       "metadata": {},
       "output_type": "display_data",
       "png": "[encoded data removed]",
       "text": [
        "<matplotlib.figure.Figure at 0xae891b0>"
       ]
      }
     ],
     "prompt_number": 358
    },
    {
     "cell_type": "markdown",
     "metadata": {},
     "source": [
      "# Task ??: Simulating and solving the model  "
     ]
    },
    {
     "cell_type": "markdown",
     "metadata": {},
     "source": [
      "Example of the syntax used to simulate a time path for the economy given some initial condition is \n",
      "\n",
      "    model.integrate(t0=0, y0=[k0, c0], h=1.0, T=10, integrator='dopri5')\n",
      "    \n",
      "where `t0` is the initial condition for the independent variable (which without loss of generality we can always set to zero for the optimal growth model); `y0` is an array of initial conditions for the endogenous variables of the model; `h` is the step-size used by the numerical solver when approximating the time-path of the economy, `T` is the desired length of the time-path, `integrator` is a valid finite-difference method for solving the system of differential equations which define the optimal growth model."
     ]
    },
    {
     "cell_type": "code",
     "collapsed": false,
     "input": [
      "model.integrate?"
     ],
     "language": "python",
     "metadata": {},
     "outputs": [],
     "prompt_number": 361
    },
    {
     "cell_type": "code",
     "collapsed": false,
     "input": [
      "# initial conditions for c and k\n",
      "c0 = model.steady_state.values['c_star'] / 2\n",
      "k0 = model.steady_state.values['k_star'] / 2\n",
      "\n",
      "# combine into a vector (ordering is important!)\n",
      "init_vec = np.array([k0, c0])\n",
      "\n",
      "# simulate a time path of the economy\n",
      "model.integrate(t0=0, y0=init_vec, h=1.0, T=10, integrator='dopri5')"
     ],
     "language": "python",
     "metadata": {},
     "outputs": [
      {
       "metadata": {},
       "output_type": "pyout",
       "prompt_number": 360,
       "text": [
        "array([[  0.        ,   3.00219693,   0.72619981],\n",
        "       [  1.        ,   3.54971819,   0.7474443 ],\n",
        "       [  2.        ,   4.1261922 ,   0.76268043],\n",
        "       [  3.        ,   4.73110849,   0.77272916],\n",
        "       [  4.        ,   5.3638812 ,   0.77828701],\n",
        "       [  5.        ,   6.0237921 ,   0.77995468],\n",
        "       [  6.        ,   6.70996409,   0.77825615],\n",
        "       [  7.        ,   7.42135436,   0.77365195],\n",
        "       [  8.        ,   8.15676042,   0.76654892],\n",
        "       [  9.        ,   8.91483419,   0.75730753],\n",
        "       [ 10.        ,   9.6941008 ,   0.74624772]])"
       ]
      }
     ],
     "prompt_number": 360
    },
    {
     "cell_type": "code",
     "collapsed": false,
     "input": [
      "plt.figure(figsize=(8,6))\n",
      "model.plot_phase_diagram(gridmax=75, N=1000, arrows=False)\n",
      "\n",
      "traj = model.integrate(t0=0, y0=init_vec, h=1.0, T=1000, integrator='dopri5')\n",
      "model.plot_trajectory(traj, color='r')\n",
      "\n",
      "# demarcate the initial condition\n",
      "plt.vlines(k0, 0, c0, linestyle='dashed', color='k')\n",
      "plt.xticks([k0], ['$k_0$'])\n",
      "plt.hlines(c0, 0, k0, linestyle='dashed', color='k')\n",
      "plt.yticks([c0], ['$c_0$'])\n",
      "\n",
      "# change the plot title\n",
      "plt.title('A time path of the economy in phase space...', fontsize=20, family='serif')\n",
      "plt.show()"
     ],
     "language": "python",
     "metadata": {},
     "outputs": [
      {
       "metadata": {},
       "output_type": "display_data",
       "png": "[encoded data removed]",
       "text": [
        "<matplotlib.figure.Figure at 0xa9551b0>"
       ]
      }
     ],
     "prompt_number": 397
    },
    {
     "cell_type": "markdown",
     "metadata": {},
     "source": [
      "# Task ??: Solow vs. Ramsey policies\n",
      "\n",
      "Can compare the rule of thumb Solow policy to the welfare from the optimal ramsey policy."
     ]
    },
    {
     "cell_type": "code",
     "collapsed": false,
     "input": [],
     "language": "python",
     "metadata": {},
     "outputs": []
    }
   ],
   "metadata": {}
  }
 ]
}