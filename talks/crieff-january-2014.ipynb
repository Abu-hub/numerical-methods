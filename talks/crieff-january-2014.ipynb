{
 "metadata": {
  "name": ""
 },
 "nbformat": 3,
 "nbformat_minor": 0,
 "worksheets": [
  {
   "cells": [
    {
     "cell_type": "code",
     "collapsed": false,
     "input": [
      "%run talktools"
     ],
     "language": "python",
     "metadata": {
      "slideshow": {
       "slide_type": "skip"
      }
     },
     "outputs": [
      {
       "html": [
        "<style>\n",
        "\n",
        ".rendered_html\n",
        "{\n",
        "  color: #2C5494;\n",
        "  font-family: Ubuntu;\n",
        "  font-size: 140%;\n",
        "  line-height: 1.1;\n",
        "  margin: 0.5em 0;\n",
        "  }\n",
        "\n",
        ".title\n",
        "{\n",
        "  color: #498AF3;\n",
        "  font-size: 250%;\n",
        "  font-weight:bold;\n",
        "  line-height: 1.2; \n",
        "  margin: 10px 50px 10px;\n",
        "  }\n",
        "\n",
        ".subtitle\n",
        "{\n",
        "  color: #386BBC;\n",
        "  font-size: 180%;\n",
        "  font-weight:bold;\n",
        "  line-height: 1.2; \n",
        "  margin: 20px 50px 20px;\n",
        "  }\n",
        "\n",
        ".slide-header, p.slide-header\n",
        "{\n",
        "  color: #498AF3;\n",
        "  font-size: 200%;\n",
        "  font-weight:bold;\n",
        "  margin: 0px 20px 10px;\n",
        "  page-break-before: always;\n",
        "  text-align: center;\n",
        "  }\n",
        "\n",
        ".rendered_html h1\n",
        "{\n",
        "  color: #498AF3;\n",
        "  line-height: 1.2; \n",
        "  margin: 0.15em 0em 0.5em;\n",
        "  page-break-before: always;\n",
        "  text-align: center;\n",
        "  }\n",
        "\n",
        "\n",
        ".rendered_html h2\n",
        "{ \n",
        "  color: #386BBC;\n",
        "  line-height: 1.2;\n",
        "  margin: 1.1em 0em 0.5em;\n",
        "  }\n",
        "\n",
        ".rendered_html h3\n",
        "{ \n",
        "  font-size: 100%;\n",
        "  line-height: 1.2;\n",
        "  margin: 1.1em 0em 0.5em;\n",
        "  }\n",
        "\n",
        ".rendered_html li\n",
        "{\n",
        "  line-height: 1.8;\n",
        "  }\n",
        "\n",
        ".input_prompt, .CodeMirror-lines, .output_area\n",
        "{\n",
        "  font-family: Consolas;\n",
        "  font-size: 120%;\n",
        "  }\n",
        "\n",
        ".gap-above\n",
        "{\n",
        "  padding-top: 200px;\n",
        "  }\n",
        "\n",
        ".gap01\n",
        "{\n",
        "  padding-top: 10px;\n",
        "  }\n",
        "\n",
        ".gap05\n",
        "{\n",
        "  padding-top: 50px;\n",
        "  }\n",
        "\n",
        ".gap1\n",
        "{\n",
        "  padding-top: 100px;\n",
        "  }\n",
        "\n",
        ".gap2\n",
        "{\n",
        "  padding-top: 200px;\n",
        "  }\n",
        "\n",
        ".gap3\n",
        "{\n",
        "  padding-top: 300px;\n",
        "  }\n",
        "\n",
        ".emph\n",
        "{\n",
        "  color: #386BBC;\n",
        "  }\n",
        "\n",
        ".warn\n",
        "{\n",
        "  color: red;\n",
        "  }\n",
        "\n",
        ".center\n",
        "{\n",
        "  text-align: center;\n",
        "  }\n",
        "\n",
        ".nb_link\n",
        "{\n",
        "    padding-bottom: 0.5em;\n",
        "}\n",
        "\n",
        "</style>\n"
       ],
       "metadata": {},
       "output_type": "display_data",
       "text": [
        "<IPython.core.display.HTML at 0x653caf0>"
       ]
      }
     ],
     "prompt_number": 1
    },
    {
     "cell_type": "markdown",
     "metadata": {
      "slideshow": {
       "slide_type": "slide"
      }
     },
     "source": [
      "<div align='center' ><img src='files/sgpe-logo.jpg' width=\"1200\" height=\"10\"></div>\n",
      "\n",
      "<p class=\"title\">The wealth of cities...</p>\n",
      "\n",
      "<center>\n",
      "\n",
      "<p class=\"gap05\"<p>\n",
      "<h2> David Comerford and David R. Pugh </h2>\n",
      "<h3>[LinkedIn](http://www.linkedin.com/in/davidrpugh), [GitHub](https://github.com/davidrpugh)</h3>\n",
      "<h3>School of Economics, University of Edinburgh</h3>\n",
      "<p class=\"gap05\"<p>\n",
      "\n",
      "</center>"
     ]
    },
    {
     "cell_type": "markdown",
     "metadata": {
      "slideshow": {
       "slide_type": "slide"
      }
     },
     "source": [
      "## Motivation\n",
      "\n",
      "Research project started with a replication of [Shalizi (2011)](http://arxiv.org/abs/1102.4101) using 2010 census data...\n",
      "\n",
      "<div align='center' ><img src='files/figure-4.png' width=\"500\" height=\"500\"></div>\n",
      "\n",
      "...what is the *simplest* possible economic mechanism would generate logisitic scaling?"
     ]
    },
    {
     "cell_type": "markdown",
     "metadata": {
      "slideshow": {
       "slide_type": "slide"
      }
     },
     "source": [
      "## Consumers\n",
      "\n",
      "Representative consumer solves the following optimization problem:\n",
      "\n",
      "$$\\max_{q_i} C \\equiv \\Bigg[\\int_0^{n}q_i^{\\frac{\\sigma-1}{\\sigma}}di\\Bigg]^{\\frac{\\sigma}{\\sigma - 1}} \\tag{3.1} $$\n",
      "\n",
      "subject to the following budget constraint\n",
      "\n",
      "$$ Y = wL = \\int_0^{n} p_iq_i di. \\tag{3.2} $$\n",
      "\n",
      "FOCs of this problem imply that representative consumer's demand function for good $q_i$ is\n",
      "\n",
      "$$ q_i = \\left(\\frac{p_i}{P}\\right)^{-\\sigma}C \\tag{3.3} $$\n",
      "\n",
      "with aggregate price level $P$ is\n",
      "\n",
      "$$P = \\Bigg[\\int_0^{n} p_i^{1-\\sigma}di\\Bigg]^{\\frac{1}{1-\\sigma}}. \\tag{3.4} $$"
     ]
    },
    {
     "cell_type": "markdown",
     "metadata": {
      "slideshow": {
       "slide_type": "slide"
      }
     },
     "source": [
      "## Firms\n",
      "\n",
      "Firm producing good $q_i$ is a monopolist and therefore chooses his price, $p_i$, in order to maximize profits\n",
      "\n",
      "$$ \\max_{p_i} \\pi_i = p_iq_i - wL_i \\tag{3.5}$$\n",
      "\n",
      "subject to the following constraints:\n",
      "\n",
      "\\begin{align}\n",
      "q_i =& \\left(\\frac{p_i}{P}\\right)^{-\\sigma}C &(\\text{consumer's demand function for good $i$}) \\tag{3.6}\\\\\n",
      "q_i =& \\phi(L_i - f) &(\\text{production function for good $i$}.) \\tag{3.7}\n",
      "\\end{align}\n",
      "\n",
      "FOC determines the optimal price:\n",
      "\n",
      "$$ p_i = \\frac{\\sigma}{\\sigma - 1}\\frac{w}{\\phi} \\tag{3.8}$$\n",
      "\n",
      "We further assume that there are no barriers to entry for firms wishing to produce good $i$. This assumption simplifies life greatly...\n",
      "\n",
      "\\begin{align}\n",
      "\\pi_i =& 0 \\\\\n",
      "q_i =& (\\sigma - 1) \\phi f \\tag{3.10}\\\\\n",
      "L_i =& \\sigma f\n",
      "\\end{align}\n",
      "\n",
      "...note that none of these expressions depends on $i$."
     ]
    },
    {
     "cell_type": "markdown",
     "metadata": {
      "slideshow": {
       "slide_type": "slide"
      }
     },
     "source": [
      "## Equilibrium\n",
      "\n",
      "Assume market clearing...\n",
      "\n",
      "$$ L = \\int_0^{n} L_i di = n\\sigma f \\implies n(L) = \\frac{1}{\\sigma f}L \\equiv (\\text{number of goods produced is a function of city size}) \\tag{3.11}$$\n",
      "\n",
      "...now we can write equilibrium real GDP as \n",
      "\n",
      "$$ C \\equiv \\Bigg[\\int_0^{n}q_i^{\\frac{\\sigma-1}{\\sigma}}di\\Bigg]^{\\frac{\\sigma}{\\sigma - 1}} = (\\sigma - 1)\\phi f n(L)^{\\frac{\\sigma}{\\sigma - 1}} =  (\\sigma - 1)\\phi f \\bigg(\\frac{1}{\\sigma f}L\\bigg)^{\\frac{\\sigma}{\\sigma - 1}}. \\tag{3.12}$$\n",
      "\n",
      "Note that since $\\sigma > 1$, exponent on $L$ is greater than 1 $\\implies$ \"super-linear\" scaling."
     ]
    },
    {
     "cell_type": "markdown",
     "metadata": {
      "slideshow": {
       "slide_type": "slide"
      }
     },
     "source": [
      "## Our contribution\n",
      "\n",
      "Suppose that elasticity of substitution between varities isn't constant, but rather varies with the number of goods produced in a city (and therefore with population!). \n",
      "\n",
      "Define $\\rho(n) = \\frac{\\sigma(n) - 1}{\\sigma(n)}$. Note that  \n",
      "\n",
      "$$ \\rho'(n) = \\frac{\\sigma(n)\\sigma'(n) - (\\sigma(n) - 1) \\sigma'(n)}{\\sigma(n)^2} = \\frac{\\sigma'(n)}{\\sigma(n)^2}$$\n",
      "\n",
      "and thus $\\rho'(n) > (<) 0 \\iff \\sigma'(n) > (<) 0$. \n",
      "\n",
      "Recall that we require that goods are gross substitutes (i.e., $\\sigma(n) > 1$). This restriction requires that $ 0 < \\rho(n) < 1$. To keep things simple, suppose that \n",
      "\n",
      "$$\\rho(n) = \\beta_0 + \\beta_1 n \\implies \\sigma(n) = \\frac{1}{1 - \\rho(n)} = \\frac{1}{1 - \\beta_0 - \\beta_1 n} \\tag{3.13}$$ \n"
     ]
    },
    {
     "cell_type": "markdown",
     "metadata": {
      "slideshow": {
       "slide_type": "slide"
      }
     },
     "source": [
      "## Our contribution, cont'd\n",
      "\n",
      "From labor market clearing condition...\n",
      "\n",
      "\\begin{align}\n",
      "L =& n \\sigma(n) f \\\\\n",
      "=& n\\left(\\frac{1}{1 - \\rho(n)}\\right)f \\\\\n",
      "=& n\\left(\\frac{1}{1 - \\beta_0 - \\beta_1 n}\\right)f \\tag{3.14}\n",
      "\\end{align}\n",
      "\n",
      "...solving for $n$ as a function of $L$:\n",
      "\n",
      "$$ n(L) = \\frac{L(1 - \\beta_0)}{f + L\\beta_1} \\tag{3.15}$$"
     ]
    },
    {
     "cell_type": "markdown",
     "metadata": {
      "slideshow": {
       "slide_type": "slide"
      }
     },
     "source": [
      "After quite a bit of algebra we can derive the following expression for equilibrium per capita real GDP:\n",
      "\n",
      "$$ \\frac{C}{L} = \\phi\\left(\\frac{f\\beta_0 + L\\beta_1}{f + L\\beta_1}\\right)\\left(\\frac{L(1 - \\beta_0)}{f + L\\beta_1}\\right)^{\\frac{f(1-\\beta_0)}{f\\beta_0 + L\\beta_1}} \\tag{3.16}$$\n",
      "\n",
      "Although perhaps not obvious at a glance...\n",
      "\n",
      "$$\\lim_{L\\rightarrow\\infty} \\frac{C}{L} = \\phi $$\n",
      "\n",
      "...thus in the limit of large cities we recover constant returns to scale (i.e., same behavior as logisitic scaling)."
     ]
    },
    {
     "cell_type": "markdown",
     "metadata": {
      "slideshow": {
       "slide_type": "slide"
      }
     },
     "source": [
      "## Preliminary results\n",
      "\n",
      "<div align='center' ><img src='files/figure-5.png' width=\"500\" height=\"500\"></div>\n"
     ]
    },
    {
     "cell_type": "markdown",
     "metadata": {
      "slideshow": {
       "slide_type": "slide"
      }
     },
     "source": [
      "## Extensions:\n",
      "\n",
      "In keeping with the literature on economic geography, we have extended the model to incorporate...\n",
      "\n",
      "* Notion of physical distance between cities (use data on drive time from Google Distance Matrix API)\n",
      "* Trade between cities (with \"iceberg\" trade costs)\n",
      "\n",
      "Model equilibrium can be represented as a weighted complete network.  Key implication is that the benefit of scaling up a city depends critically on the structure of trading relations. But result is a much more complicated model!\n",
      "\n",
      "* 5 equilibrium conditions for each city $\\implies 5N \\approx 1500$ non-linear equations to solve simultaneously for given set of parameters.\n",
      "* Also want to find the optimal set of parameters!\n",
      "\n",
      "Hoping that my participation in Zurich Initiative in Computational Economics (ZICE) with help me overcome these technical hurdles."
     ]
    },
    {
     "cell_type": "code",
     "collapsed": false,
     "input": [],
     "language": "python",
     "metadata": {},
     "outputs": []
    }
   ],
   "metadata": {}
  }
 ]
}